{
 "cells": [
  {
   "cell_type": "markdown",
   "metadata": {},
   "source": [
    "# Benchmark Matrix "
   ]
  },
  {
   "cell_type": "code",
   "execution_count": 1,
   "metadata": {},
   "outputs": [],
   "source": [
    "import adelie as ad\n",
    "import numpy as np\n",
    "import pandas as pd\n",
    "import os\n",
    "from time import time"
   ]
  },
  {
   "cell_type": "code",
   "execution_count": 63,
   "metadata": {},
   "outputs": [],
   "source": [
    "n = 1000000\n",
    "n_threads = 8\n",
    "x = np.random.normal(0, 1, n)\n",
    "y = np.random.normal(0, 1, n)"
   ]
  },
  {
   "cell_type": "code",
   "execution_count": 67,
   "metadata": {},
   "outputs": [
    {
     "name": "stdout",
     "output_type": "stream",
     "text": [
      "CPU times: user 725 ms, sys: 59.9 ms, total: 785 ms\n",
      "Wall time: 326 ms\n"
     ]
    }
   ],
   "source": [
    "%%time \n",
    "for _ in range(1000):\n",
    "    ad.adelie_core.matrix.dvaddi(x, y, n_threads)"
   ]
  },
  {
   "cell_type": "code",
   "execution_count": 2,
   "metadata": {},
   "outputs": [],
   "source": [
    "def bench_naive(X, q=8):\n",
    "    n, p = X.rows(), X.cols()\n",
    "    df = pd.DataFrame()\n",
    "\n",
    "    weights = np.ones(n)\n",
    "    sqrt_weights = np.sqrt(weights)\n",
    "\n",
    "    v = np.random.normal(0, 1, n)\n",
    "    start = time()\n",
    "    X.cmul(0, v)\n",
    "    elapsed = time() - start\n",
    "    df[\"cmul\"] = [elapsed * 1e3]\n",
    "\n",
    "    v = 1.3\n",
    "    out = np.empty(n)\n",
    "    start = time()\n",
    "    X.ctmul(0, v, weights, out)\n",
    "    elapsed = time() - start\n",
    "    df[\"ctmul\"] = [elapsed * 1e3]\n",
    "\n",
    "    v = np.random.normal(0, 1, n)\n",
    "    out = np.empty(q)\n",
    "    start = time()\n",
    "    X.bmul(0, q, v, out)\n",
    "    elapsed = time() - start\n",
    "    df[\"bmul\"] = [elapsed * 1e3]\n",
    "\n",
    "    v = np.random.normal(0, 1, q)\n",
    "    out = np.empty(n)\n",
    "    start = time()\n",
    "    X.btmul(0, q, v, weights, out)\n",
    "    elapsed = time() - start\n",
    "    df[\"btmul\"] = [elapsed * 1e3]\n",
    "\n",
    "    v = np.random.normal(0, 1, n)\n",
    "    out = np.empty(p)\n",
    "    start = time()\n",
    "    X.mul(v, out)\n",
    "    elapsed = time() - start\n",
    "    df[\"mul\"] = [elapsed * 1e3]\n",
    "\n",
    "    v = np.random.normal(0, 1, n)\n",
    "    out = np.empty((q, q), order=\"F\")\n",
    "    buffer = np.empty((n, q), order=\"F\")\n",
    "    start = time()\n",
    "    X.cov(0, q, sqrt_weights, out, buffer)\n",
    "    elapsed = time() - start\n",
    "    df[\"cov\"] = [elapsed * 1e3]\n",
    "\n",
    "    return df"
   ]
  },
  {
   "cell_type": "markdown",
   "metadata": {},
   "source": [
    "## ad.matrix.dense"
   ]
  },
  {
   "cell_type": "code",
   "execution_count": 3,
   "metadata": {},
   "outputs": [],
   "source": [
    "n = int(2 ** 15)\n",
    "p = 300\n",
    "X = np.random.normal(0, 1, (n, p))"
   ]
  },
  {
   "cell_type": "code",
   "execution_count": 6,
   "metadata": {},
   "outputs": [
    {
     "data": {
      "text/html": [
       "<div>\n",
       "<style scoped>\n",
       "    .dataframe tbody tr th:only-of-type {\n",
       "        vertical-align: middle;\n",
       "    }\n",
       "\n",
       "    .dataframe tbody tr th {\n",
       "        vertical-align: top;\n",
       "    }\n",
       "\n",
       "    .dataframe thead th {\n",
       "        text-align: right;\n",
       "    }\n",
       "</style>\n",
       "<table border=\"1\" class=\"dataframe\">\n",
       "  <thead>\n",
       "    <tr style=\"text-align: right;\">\n",
       "      <th></th>\n",
       "      <th>cmul</th>\n",
       "      <th>ctmul</th>\n",
       "      <th>bmul</th>\n",
       "      <th>btmul</th>\n",
       "      <th>mul</th>\n",
       "      <th>cov</th>\n",
       "    </tr>\n",
       "  </thead>\n",
       "  <tbody>\n",
       "    <tr>\n",
       "      <th>0</th>\n",
       "      <td>0.176907</td>\n",
       "      <td>0.087738</td>\n",
       "      <td>0.260115</td>\n",
       "      <td>0.152826</td>\n",
       "      <td>5.094767</td>\n",
       "      <td>1.054049</td>\n",
       "    </tr>\n",
       "  </tbody>\n",
       "</table>\n",
       "</div>"
      ],
      "text/plain": [
       "       cmul     ctmul      bmul     btmul       mul       cov\n",
       "0  0.176907  0.087738  0.260115  0.152826  5.094767  1.054049"
      ]
     },
     "execution_count": 6,
     "metadata": {},
     "output_type": "execute_result"
    }
   ],
   "source": [
    "bench_naive(ad.matrix.dense(X, method=\"naive\", n_threads=1))"
   ]
  },
  {
   "cell_type": "code",
   "execution_count": 7,
   "metadata": {},
   "outputs": [
    {
     "data": {
      "text/html": [
       "<div>\n",
       "<style scoped>\n",
       "    .dataframe tbody tr th:only-of-type {\n",
       "        vertical-align: middle;\n",
       "    }\n",
       "\n",
       "    .dataframe tbody tr th {\n",
       "        vertical-align: top;\n",
       "    }\n",
       "\n",
       "    .dataframe thead th {\n",
       "        text-align: right;\n",
       "    }\n",
       "</style>\n",
       "<table border=\"1\" class=\"dataframe\">\n",
       "  <thead>\n",
       "    <tr style=\"text-align: right;\">\n",
       "      <th></th>\n",
       "      <th>cmul</th>\n",
       "      <th>ctmul</th>\n",
       "      <th>bmul</th>\n",
       "      <th>btmul</th>\n",
       "      <th>mul</th>\n",
       "      <th>cov</th>\n",
       "    </tr>\n",
       "  </thead>\n",
       "  <tbody>\n",
       "    <tr>\n",
       "      <th>0</th>\n",
       "      <td>0.117064</td>\n",
       "      <td>0.068903</td>\n",
       "      <td>0.152826</td>\n",
       "      <td>0.121117</td>\n",
       "      <td>1.54686</td>\n",
       "      <td>1.672983</td>\n",
       "    </tr>\n",
       "  </tbody>\n",
       "</table>\n",
       "</div>"
      ],
      "text/plain": [
       "       cmul     ctmul      bmul     btmul      mul       cov\n",
       "0  0.117064  0.068903  0.152826  0.121117  1.54686  1.672983"
      ]
     },
     "execution_count": 7,
     "metadata": {},
     "output_type": "execute_result"
    }
   ],
   "source": [
    "bench_naive(ad.matrix.dense(X, method=\"naive\", n_threads=4))"
   ]
  },
  {
   "cell_type": "markdown",
   "metadata": {},
   "source": [
    "## ad.matrix.snp_unphased"
   ]
  },
  {
   "cell_type": "code",
   "execution_count": 3,
   "metadata": {},
   "outputs": [],
   "source": [
    "n = 10000\n",
    "p = 100\n",
    "seed = 0\n",
    "data = ad.data.hased(n, p, seed=seed)\n",
    "filename = \"/tmp/bench_snp_unphased.snpdat\"\n",
    "handler = ad.io.snp_unphased(filename)\n",
    "_ = handler.write(data[\"X\"])"
   ]
  },
  {
   "cell_type": "code",
   "execution_count": 4,
   "metadata": {},
   "outputs": [
    {
     "data": {
      "text/html": [
       "<div>\n",
       "<style scoped>\n",
       "    .dataframe tbody tr th:only-of-type {\n",
       "        vertical-align: middle;\n",
       "    }\n",
       "\n",
       "    .dataframe tbody tr th {\n",
       "        vertical-align: top;\n",
       "    }\n",
       "\n",
       "    .dataframe thead th {\n",
       "        text-align: right;\n",
       "    }\n",
       "</style>\n",
       "<table border=\"1\" class=\"dataframe\">\n",
       "  <thead>\n",
       "    <tr style=\"text-align: right;\">\n",
       "      <th></th>\n",
       "      <th>cmul</th>\n",
       "      <th>ctmul</th>\n",
       "      <th>bmul</th>\n",
       "      <th>btmul</th>\n",
       "      <th>mul</th>\n",
       "      <th>cov</th>\n",
       "    </tr>\n",
       "  </thead>\n",
       "  <tbody>\n",
       "    <tr>\n",
       "      <th>0</th>\n",
       "      <td>0.013113</td>\n",
       "      <td>0.008821</td>\n",
       "      <td>0.044823</td>\n",
       "      <td>0.061035</td>\n",
       "      <td>0.308275</td>\n",
       "      <td>0.766039</td>\n",
       "    </tr>\n",
       "  </tbody>\n",
       "</table>\n",
       "</div>"
      ],
      "text/plain": [
       "       cmul     ctmul      bmul     btmul       mul       cov\n",
       "0  0.013113  0.008821  0.044823  0.061035  0.308275  0.766039"
      ]
     },
     "execution_count": 4,
     "metadata": {},
     "output_type": "execute_result"
    }
   ],
   "source": [
    "bench_naive(ad.matrix.snp_unphased(filename, n_threads=1))"
   ]
  },
  {
   "cell_type": "code",
   "execution_count": 5,
   "metadata": {},
   "outputs": [
    {
     "data": {
      "text/html": [
       "<div>\n",
       "<style scoped>\n",
       "    .dataframe tbody tr th:only-of-type {\n",
       "        vertical-align: middle;\n",
       "    }\n",
       "\n",
       "    .dataframe tbody tr th {\n",
       "        vertical-align: top;\n",
       "    }\n",
       "\n",
       "    .dataframe thead th {\n",
       "        text-align: right;\n",
       "    }\n",
       "</style>\n",
       "<table border=\"1\" class=\"dataframe\">\n",
       "  <thead>\n",
       "    <tr style=\"text-align: right;\">\n",
       "      <th></th>\n",
       "      <th>cmul</th>\n",
       "      <th>ctmul</th>\n",
       "      <th>bmul</th>\n",
       "      <th>btmul</th>\n",
       "      <th>mul</th>\n",
       "      <th>cov</th>\n",
       "    </tr>\n",
       "  </thead>\n",
       "  <tbody>\n",
       "    <tr>\n",
       "      <th>0</th>\n",
       "      <td>0.011921</td>\n",
       "      <td>0.029802</td>\n",
       "      <td>0.119925</td>\n",
       "      <td>0.036955</td>\n",
       "      <td>0.127077</td>\n",
       "      <td>0.39196</td>\n",
       "    </tr>\n",
       "  </tbody>\n",
       "</table>\n",
       "</div>"
      ],
      "text/plain": [
       "       cmul     ctmul      bmul     btmul       mul      cov\n",
       "0  0.011921  0.029802  0.119925  0.036955  0.127077  0.39196"
      ]
     },
     "execution_count": 5,
     "metadata": {},
     "output_type": "execute_result"
    }
   ],
   "source": [
    "bench_naive(ad.matrix.snp_unphased(filename, n_threads=4))"
   ]
  },
  {
   "cell_type": "code",
   "execution_count": 20,
   "metadata": {},
   "outputs": [],
   "source": [
    "os.remove(filename)"
   ]
  },
  {
   "cell_type": "markdown",
   "metadata": {},
   "source": [
    "## ad.matrix.snp_phased_ancestry"
   ]
  },
  {
   "cell_type": "code",
   "execution_count": 3,
   "metadata": {},
   "outputs": [],
   "source": [
    "n = 100000\n",
    "s = 100\n",
    "A = 8\n",
    "seed = 0\n",
    "data = ad.data.snp_phased_ancestry(n, s, A, seed=seed)\n",
    "filename = \"/tmp/bench_snp_phased_ancestry.snpdat\"\n",
    "handler = ad.io.snp_phased_ancestry(filename)\n",
    "_ = handler.write(data[\"X\"], data[\"ancestries\"], A)"
   ]
  },
  {
   "cell_type": "code",
   "execution_count": 7,
   "metadata": {},
   "outputs": [
    {
     "data": {
      "text/html": [
       "<div>\n",
       "<style scoped>\n",
       "    .dataframe tbody tr th:only-of-type {\n",
       "        vertical-align: middle;\n",
       "    }\n",
       "\n",
       "    .dataframe tbody tr th {\n",
       "        vertical-align: top;\n",
       "    }\n",
       "\n",
       "    .dataframe thead th {\n",
       "        text-align: right;\n",
       "    }\n",
       "</style>\n",
       "<table border=\"1\" class=\"dataframe\">\n",
       "  <thead>\n",
       "    <tr style=\"text-align: right;\">\n",
       "      <th></th>\n",
       "      <th>cmul</th>\n",
       "      <th>ctmul</th>\n",
       "      <th>bmul</th>\n",
       "      <th>btmul</th>\n",
       "      <th>mul</th>\n",
       "      <th>cov</th>\n",
       "    </tr>\n",
       "  </thead>\n",
       "  <tbody>\n",
       "    <tr>\n",
       "      <th>0</th>\n",
       "      <td>0.07987</td>\n",
       "      <td>0.109196</td>\n",
       "      <td>0.08297</td>\n",
       "      <td>0.081301</td>\n",
       "      <td>5.756855</td>\n",
       "      <td>0.431299</td>\n",
       "    </tr>\n",
       "  </tbody>\n",
       "</table>\n",
       "</div>"
      ],
      "text/plain": [
       "      cmul     ctmul     bmul     btmul       mul       cov\n",
       "0  0.07987  0.109196  0.08297  0.081301  5.756855  0.431299"
      ]
     },
     "execution_count": 7,
     "metadata": {},
     "output_type": "execute_result"
    }
   ],
   "source": [
    "bench_naive(ad.matrix.snp_phased_ancestry(filename, n_threads=1))"
   ]
  },
  {
   "cell_type": "code",
   "execution_count": 10,
   "metadata": {},
   "outputs": [
    {
     "data": {
      "text/html": [
       "<div>\n",
       "<style scoped>\n",
       "    .dataframe tbody tr th:only-of-type {\n",
       "        vertical-align: middle;\n",
       "    }\n",
       "\n",
       "    .dataframe tbody tr th {\n",
       "        vertical-align: top;\n",
       "    }\n",
       "\n",
       "    .dataframe thead th {\n",
       "        text-align: right;\n",
       "    }\n",
       "</style>\n",
       "<table border=\"1\" class=\"dataframe\">\n",
       "  <thead>\n",
       "    <tr style=\"text-align: right;\">\n",
       "      <th></th>\n",
       "      <th>cmul</th>\n",
       "      <th>ctmul</th>\n",
       "      <th>bmul</th>\n",
       "      <th>btmul</th>\n",
       "      <th>mul</th>\n",
       "      <th>cov</th>\n",
       "    </tr>\n",
       "  </thead>\n",
       "  <tbody>\n",
       "    <tr>\n",
       "      <th>0</th>\n",
       "      <td>0.051022</td>\n",
       "      <td>0.069141</td>\n",
       "      <td>0.09203</td>\n",
       "      <td>0.054121</td>\n",
       "      <td>1.181841</td>\n",
       "      <td>0.426054</td>\n",
       "    </tr>\n",
       "  </tbody>\n",
       "</table>\n",
       "</div>"
      ],
      "text/plain": [
       "       cmul     ctmul     bmul     btmul       mul       cov\n",
       "0  0.051022  0.069141  0.09203  0.054121  1.181841  0.426054"
      ]
     },
     "execution_count": 10,
     "metadata": {},
     "output_type": "execute_result"
    }
   ],
   "source": [
    "bench_naive(ad.matrix.snp_phased_ancestry(filename, n_threads=8))"
   ]
  },
  {
   "cell_type": "code",
   "execution_count": null,
   "metadata": {},
   "outputs": [],
   "source": [
    "os.remove(filename)"
   ]
  }
 ],
 "metadata": {
  "kernelspec": {
   "display_name": "adelie",
   "language": "python",
   "name": "python3"
  },
  "language_info": {
   "codemirror_mode": {
    "name": "ipython",
    "version": 3
   },
   "file_extension": ".py",
   "mimetype": "text/x-python",
   "name": "python",
   "nbconvert_exporter": "python",
   "pygments_lexer": "ipython3",
   "version": "3.10.6"
  }
 },
 "nbformat": 4,
 "nbformat_minor": 2
}
