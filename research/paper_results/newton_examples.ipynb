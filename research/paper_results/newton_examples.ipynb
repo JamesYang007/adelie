{
 "cells": [
  {
   "attachments": {},
   "cell_type": "markdown",
   "metadata": {},
   "source": [
    "# Newton Examples"
   ]
  },
  {
   "attachments": {},
   "cell_type": "markdown",
   "metadata": {},
   "source": [
    "This notebook is to study the behavior of the function to root-find with Newton.\n",
    "We use this to motivate our design for the optimal optimizer."
   ]
  },
  {
   "cell_type": "code",
   "execution_count": 1,
   "metadata": {},
   "outputs": [],
   "source": [
    "%load_ext autoreload\n",
    "%autoreload 2"
   ]
  },
  {
   "cell_type": "code",
   "execution_count": 2,
   "metadata": {},
   "outputs": [],
   "source": [
    "import numpy as np\n",
    "import matplotlib.pyplot as plt\n",
    "import pyglstudy as gl"
   ]
  },
  {
   "attachments": {},
   "cell_type": "markdown",
   "metadata": {},
   "source": [
    "## Upper Bound via Taylor Expansion"
   ]
  },
  {
   "attachments": {},
   "cell_type": "markdown",
   "metadata": {},
   "source": [
    "One possible way to construct the upper bound is to form a second-order Taylor expansion of $\\varphi$ \n",
    "around $0$ and solve for the smaller root (guaranteed to be positive)."
   ]
  },
  {
   "cell_type": "code",
   "execution_count": 3,
   "metadata": {},
   "outputs": [],
   "source": [
    "def h_max_taylor(L, v, l1, l2):\n",
    "    L = L + l2\n",
    "    l1_2 = l1 * l1\n",
    "    l1_3 = l1_2 * l1\n",
    "    l1_4 = l1_3 * l1\n",
    "    v_square = v ** 2\n",
    "    v_square_L = v_square * L\n",
    "    c = np.sum(v_square) / l1_2\n",
    "    b = -2 * np.sum(v_square_L) / l1_3\n",
    "    a = 3 * np.sum(v_square_L * L) / l1_4\n",
    "    discr = np.maximum(b * b - 4 * a * c, 0) \n",
    "    return np.maximum(-b - np.sqrt(discr) / (2 * a), 0)"
   ]
  },
  {
   "cell_type": "code",
   "execution_count": 4,
   "metadata": {},
   "outputs": [
    {
     "ename": "TypeError",
     "evalue": "compute_h_max(): incompatible function arguments. The following argument types are supported:\n    1. (arg0: numpy.ndarray[numpy.float64[m, 1], flags.writeable], arg1: numpy.ndarray[numpy.float64[m, 1], flags.writeable], arg2: float) -> dict\n\nInvoked with: array([0.        , 0.        , 0.        , ..., 1.9604659 , 1.53806962,\n       1.46292687]), array([ 0.        , -0.        ,  0.        , ...,  0.74185545,\n       -0.91699018, -0.45472927]), 0.0001, 1e-10",
     "output_type": "error",
     "traceback": [
      "\u001b[0;31m---------------------------------------------------------------------------\u001b[0m",
      "\u001b[0;31mTypeError\u001b[0m                                 Traceback (most recent call last)",
      "Cell \u001b[0;32mIn[4], line 12\u001b[0m\n\u001b[1;32m      8\u001b[0m l1 \u001b[39m=\u001b[39m \u001b[39m1e-4\u001b[39m\n\u001b[1;32m      9\u001b[0m l2 \u001b[39m=\u001b[39m \u001b[39m0\u001b[39m\n\u001b[1;32m     11\u001b[0m (\n\u001b[0;32m---> 12\u001b[0m     gl\u001b[39m.\u001b[39;49mcompute_h_max(L\u001b[39m+\u001b[39;49ml2, v, l1, \u001b[39m1e-10\u001b[39;49m)[\u001b[39m'\u001b[39m\u001b[39mh_max\u001b[39m\u001b[39m'\u001b[39m],\n\u001b[1;32m     13\u001b[0m     h_max_taylor(L, v, l1, l2), \n\u001b[1;32m     14\u001b[0m     np\u001b[39m.\u001b[39mlinalg\u001b[39m.\u001b[39mnorm(gl\u001b[39m.\u001b[39mnewton_abs_solver(L, v, l1, l2, \u001b[39m1e-10\u001b[39m, \u001b[39m1000\u001b[39m)[\u001b[39m'\u001b[39m\u001b[39mbeta\u001b[39m\u001b[39m'\u001b[39m])\n\u001b[1;32m     15\u001b[0m )\n",
      "\u001b[0;31mTypeError\u001b[0m: compute_h_max(): incompatible function arguments. The following argument types are supported:\n    1. (arg0: numpy.ndarray[numpy.float64[m, 1], flags.writeable], arg1: numpy.ndarray[numpy.float64[m, 1], flags.writeable], arg2: float) -> dict\n\nInvoked with: array([0.        , 0.        , 0.        , ..., 1.9604659 , 1.53806962,\n       1.46292687]), array([ 0.        , -0.        ,  0.        , ...,  0.74185545,\n       -0.91699018, -0.45472927]), 0.0001, 1e-10"
     ]
    }
   ],
   "source": [
    "np.random.seed(0)\n",
    "x = np.linspace(0, 10, 100)\n",
    "p = 1000\n",
    "L = np.concatenate(\n",
    "    [np.zeros(int(p*0.2)), np.random.uniform(1e-14, 1e-8, int(p*0.1)), np.random.uniform(0.8, 2, p)],\n",
    ")\n",
    "v = np.random.normal(0, 1, len(L)) * np.sqrt(L)\n",
    "l1 = 1e-4\n",
    "l2 = 0\n",
    "\n",
    "(\n",
    "    gl.compute_h_max(L+l2, v, l1, 1e-10)['h_max'],\n",
    "    h_max_taylor(L, v, l1, l2), \n",
    "    np.linalg.norm(gl.newton_abs_solver(L, v, l1, l2, 1e-10, 1000)['beta'])\n",
    ")"
   ]
  },
  {
   "attachments": {},
   "cell_type": "markdown",
   "metadata": {},
   "source": [
    "Current $h_{\\max}$ computation is much closer to the truth than the Taylor approximation.\n",
    "This is because our current method has a closer curvature in the tail region than the Taylor approximation.\n",
    "A quadratic is really bad for approximating the tail when our function looks like $f(x) = x^{-2}$."
   ]
  },
  {
   "attachments": {},
   "cell_type": "markdown",
   "metadata": {},
   "source": [
    "## When is Newton really slow?"
   ]
  },
  {
   "cell_type": "code",
   "execution_count": 5,
   "metadata": {},
   "outputs": [],
   "source": [
    "def phi(x, L, v, l1, l2):\n",
    "    return gl.block_norm_objective(x, L+l2, v, l1)\n",
    "    \n",
    "vphi = np.vectorize(phi, excluded=[1,2,3,4])"
   ]
  },
  {
   "cell_type": "code",
   "execution_count": 6,
   "metadata": {},
   "outputs": [],
   "source": [
    "def assess(L, v, l1, l2, tol=1e-8, max_iters=int(1000)):\n",
    "    smart_out = gl.newton_solver_debug(\n",
    "        L, v, l1, l2, tol, max_iters, True,\n",
    "    )\n",
    "    naive_out = gl.newton_solver_debug(\n",
    "        L, v, l1, l2, tol, max_iters, False,\n",
    "    )\n",
    "    outs = [smart_out, naive_out]\n",
    "    titles = ['Newton-ABS', 'Newton']\n",
    "\n",
    "    fig, axes = plt.subplots(1, 2, figsize=(8, 4), sharey=True, layout='compressed') \n",
    "    \n",
    "    for i, ax in enumerate(axes):\n",
    "        out_nsd = outs[i]\n",
    "        iters = out_nsd['iters']\n",
    "        smart_iters = out_nsd['smart_iters']\n",
    "        beta = out_nsd['beta']\n",
    "\n",
    "        if np.all(beta == 0):\n",
    "            print(\"True solution is 0. Nothing to show.\")\n",
    "            return\n",
    "\n",
    "        h = np.linalg.norm(beta)\n",
    "        fh = phi(h, L, v, l1, l2)\n",
    "\n",
    "        xs = np.linspace(0, h * 1.05, 5000)\n",
    "        f_xs = vphi(xs, L, v, l1, l2)\n",
    "\n",
    "        ax.plot(xs, f_xs, linestyle='--', label='$\\\\varphi$')\n",
    "        ax.scatter(h, fh, marker='*', color='red', s=50, label='Solution')\n",
    "\n",
    "        if len(iters) > 0:\n",
    "            f_iters = vphi(iters, L, v, l1, l2)\n",
    "            ax.scatter(iters, f_iters, color='blue', s=50, marker='.', alpha=0.7, label=\"Newton\")\n",
    "    \n",
    "        if len(smart_iters) > 0:\n",
    "            f_smart_iters = vphi(smart_iters, L, v, l1, l2)\n",
    "            ax.scatter(smart_iters, f_smart_iters, color='orange', s=70, marker='v', alpha=0.7, label='ABS')\n",
    "            \n",
    "        ax.set_title(titles[i])\n",
    "        ax.set_xlabel(\"$\\\\|\\\\beta\\\\|$\")\n",
    "        ax.ticklabel_format(axis='x', style='sci', scilimits=(0, 0))\n",
    "\n",
    "    fig.legend(labels=['$\\\\varphi$', 'Solution', 'Newton', 'ABS'])\n",
    "    fig.supylabel(\"$\\\\varphi$\")\n",
    "    plt.show()\n",
    "    \n",
    "    return {\n",
    "        'smart': smart_out,\n",
    "        'naive': naive_out,\n",
    "        'plot' : (fig, axes),\n",
    "    }"
   ]
  },
  {
   "cell_type": "code",
   "execution_count": 7,
   "metadata": {},
   "outputs": [
    {
     "data": {
      "image/png": "[encoded data removed]",
      "text/plain": [
       "<Figure size 800x400 with 2 Axes>"
      ]
     },
     "metadata": {},
     "output_type": "display_data"
    }
   ],
   "source": [
    "np.random.seed(0)\n",
    "p = 100\n",
    "L, v = gl.data.generate_block_norm_data(p, 0.2, 0.1)\n",
    "l1 = 1e-4\n",
    "l2 = 0\n",
    "data_out = assess(L, v, l1, l2)\n",
    "data_out['plot'][0].savefig('figures/newton_stuck.pdf', bbox_inches='tight')"
   ]
  }
 ],
 "metadata": {
  "kernelspec": {
   "display_name": "glstudy",
   "language": "python",
   "name": "python3"
  },
  "language_info": {
   "codemirror_mode": {
    "name": "ipython",
    "version": 3
   },
   "file_extension": ".py",
   "mimetype": "text/x-python",
   "name": "python",
   "nbconvert_exporter": "python",
   "pygments_lexer": "ipython3",
   "version": "3.10.10"
  },
  "orig_nbformat": 4
 },
 "nbformat": 4,
 "nbformat_minor": 2
}
