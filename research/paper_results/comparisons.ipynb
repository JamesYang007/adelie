{
 "cells": [
  {
   "cell_type": "code",
   "execution_count": 1,
   "metadata": {},
   "outputs": [],
   "source": [
    "%load_ext autoreload\n",
    "%autoreload 2"
   ]
  },
  {
   "cell_type": "code",
   "execution_count": 2,
   "metadata": {},
   "outputs": [],
   "source": [
    "from group_elnet import GroupElnet\n",
    "import pygrpglmnet as gl \n",
    "from pygrpglmnet.group_elnet import *\n",
    "import numpy as np\n",
    "import cvxpy as cp"
   ]
  },
  {
   "cell_type": "code",
   "execution_count": 3,
   "metadata": {},
   "outputs": [],
   "source": [
    "def run_group_elnet(\n",
    "    X, y, groups, group_sizes, lmda,\n",
    "):\n",
    "    n, _ = X.shape\n",
    "    expanded_groups = np.repeat(np.arange(len(groups)), group_sizes)\n",
    "    GroupElnet.LOG_LOSSES = True\n",
    "    GroupElnet_out = GroupElnet(\n",
    "        groups=expanded_groups,\n",
    "        group_reg=lmda * 2,\n",
    "        l1_reg=0,\n",
    "        frobenius_lipschitz=True,\n",
    "        scale_reg=\"group_size\",\n",
    "        subsampling_scheme=10,\n",
    "        supress_warning=True,\n",
    "        fit_intercept=False,\n",
    "        n_iter=10000,\n",
    "        tol=1e-7,\n",
    "    )\n",
    "    GroupElnet_out.fit(X, y)\n",
    "    return GroupElnet_out.coef_[:, 0]\n"
   ]
  },
  {
   "cell_type": "code",
   "execution_count": 4,
   "metadata": {},
   "outputs": [],
   "source": [
    "def run_cvxpy(X, y, groups, group_sizes, alpha, penalty, lmda):\n",
    "    _, p = X.shape\n",
    "    beta = cp.Variable(p)\n",
    "    regul = 0\n",
    "    for i in range(len(groups)):\n",
    "        gb = groups[i]\n",
    "        ge = gb + group_sizes[i]\n",
    "        bi_norm2 = cp.norm2(beta[gb:ge])\n",
    "        regul += penalty[i] * (alpha * bi_norm2 + (1-alpha) / 2 * cp.sum_squares(beta[gb:ge]))\n",
    "    objective = cp.Minimize(0.5 * cp.sum_squares(y - X @ beta) + lmda * regul)\n",
    "    prob = cp.Problem(objective)\n",
    "    result = prob.solve()\n",
    "    return beta.value \n"
   ]
  },
  {
   "cell_type": "code",
   "execution_count": 38,
   "metadata": {},
   "outputs": [],
   "source": [
    "def run_ours(\n",
    "    X, y, groups, group_sizes, alpha, penalty, \n",
    "    user_lmdas=[],\n",
    "    max_n_lambdas = 100,\n",
    "    n_lambdas_iter = 5,\n",
    "    use_strong_rule = True,\n",
    "    do_early_exit = True,\n",
    "    verbose_diagnostic = False,\n",
    "    delta_strong_size = 5,\n",
    "    max_strong_size = None,\n",
    "    max_n_cds = 100000,\n",
    "    thr = 1e-7,\n",
    "    newton_tol = 1e-8,\n",
    "    newton_max_iters = 100000,\n",
    "    min_ratio = 1e-2,\n",
    "    n_threads = 16,\n",
    "):\n",
    "    _, p = X.shape\n",
    "\n",
    "    if max_strong_size is None:\n",
    "        max_strong_size = p\n",
    "\n",
    "    return gl.group_basil(\n",
    "        X, y, groups, group_sizes, alpha, penalty, user_lmdas,\n",
    "        max_n_lambdas,\n",
    "        n_lambdas_iter,\n",
    "        use_strong_rule,\n",
    "        do_early_exit,\n",
    "        verbose_diagnostic,\n",
    "        delta_strong_size,\n",
    "        max_strong_size,\n",
    "        max_n_cds,\n",
    "        thr,\n",
    "        newton_tol,\n",
    "        newton_max_iters,\n",
    "        min_ratio,\n",
    "        n_threads,\n",
    "    )"
   ]
  },
  {
   "cell_type": "code",
   "execution_count": 39,
   "metadata": {},
   "outputs": [],
   "source": [
    "n = 100\n",
    "p = 100000\n",
    "n_groups = int(p/100)\n",
    "seed = 0\n",
    "\n",
    "np.random.seed(seed)\n",
    "X, beta, y, groups, group_sizes = generate_group_elnet_data(\n",
    "    n, p, n_groups, rho=0, svd_transform=True\n",
    ").values()"
   ]
  },
  {
   "cell_type": "code",
   "execution_count": 40,
   "metadata": {},
   "outputs": [],
   "source": [
    "alpha = 1.0\n",
    "penalty = np.sqrt(group_sizes)"
   ]
  },
  {
   "cell_type": "code",
   "execution_count": 41,
   "metadata": {},
   "outputs": [
    {
     "data": {
      "text/plain": [
       "array([67.24599854, 64.18956412, 61.27204936, 58.48714016, 55.82880937,\n",
       "       53.29130382, 50.86913182, 48.55705127, 46.35005835, 44.24337666,\n",
       "       42.23244691, 40.31291702, 38.48063272, 36.73162858, 35.06211937,\n",
       "       33.46849193, 31.94729732, 30.49524335, 29.10918748, 27.78612998,\n",
       "       26.52320749, 25.31768678, 24.16695884, 23.06853326, 22.02003282,\n",
       "       21.01918835, 20.0638338 , 19.15190158, 18.2814181 , 17.45049943,\n",
       "       16.6573473 , 15.90024516, 15.17755448, 14.4877112 , 13.82922237,\n",
       "       13.20066287, 12.60067237, 12.02795236, 11.48126336, 10.95942222,\n",
       "       10.46129957,  9.98581736,  9.53194655,  9.09870487,  8.68515469,\n",
       "        8.290401  ,  7.91358948,  7.55390463,  7.210568  ,  6.88283656,\n",
       "        6.57000102,  6.27138433,  5.98634023,  5.71425183,  5.45453027,\n",
       "        5.20661345,  4.96996483,  4.74407226,  4.52844685,  4.32262195,\n",
       "        4.12615212,  3.93861213,  3.75959613,  3.58871669,  3.42560397,\n",
       "        3.26990499,  3.12128276,  2.97941564,  2.8439966 ,  2.71473257,\n",
       "        2.59134378,  2.47356321,  2.36113594,  2.25381867,  2.15137913,\n",
       "        2.05359563,  1.96025654,  1.87115985,  1.78611275,  1.70493117,\n",
       "        1.62743942,  1.55346978,  1.48286219,  1.41546381,  1.3511288 ,\n",
       "        1.28971791,  1.23109824,  1.17514292,  1.12173086,  1.07074646,\n",
       "        1.02207938,  0.9756243 ,  0.93128067,  0.88895253,  0.84854826,\n",
       "        0.80998043,  0.77316557,  0.738024  ,  0.70447967,  0.67245999])"
      ]
     },
     "execution_count": 41,
     "metadata": {},
     "output_type": "execute_result"
    }
   ],
   "source": [
    "ours_first_out = run_ours(X, y, groups, group_sizes, alpha, penalty)\n",
    "lmdas = np.array(ours_first_out['lmdas'])\n",
    "lmdas"
   ]
  },
  {
   "cell_type": "code",
   "execution_count": 46,
   "metadata": {},
   "outputs": [
    {
     "data": {
      "text/plain": [
       "1.6274394175294986"
      ]
     },
     "execution_count": 46,
     "metadata": {},
     "output_type": "execute_result"
    }
   ],
   "source": [
    "lmda_end = int(len(lmdas) * 0.8) + 1\n",
    "lmda = lmdas[lmda_end-1] \n",
    "lmda"
   ]
  },
  {
   "cell_type": "code",
   "execution_count": 47,
   "metadata": {},
   "outputs": [],
   "source": [
    "group_elnet_beta = run_group_elnet(X, y, groups, group_sizes, lmda)"
   ]
  },
  {
   "cell_type": "code",
   "execution_count": 48,
   "metadata": {},
   "outputs": [
    {
     "name": "stderr",
     "output_type": "stream",
     "text": [
      "/home/jhyang/mambaforge/envs/glstudy/lib/python3.10/site-packages/cvxpy/problems/problem.py:155: UserWarning: Objective contains too many subexpressions. Consider vectorizing your CVXPY code to speed up compilation.\n",
      "  warnings.warn(\"Objective contains too many subexpressions. \"\n"
     ]
    }
   ],
   "source": [
    "cvxpy_beta = run_cvxpy(X, y, groups, group_sizes, alpha, penalty, lmda)"
   ]
  },
  {
   "cell_type": "code",
   "execution_count": 49,
   "metadata": {},
   "outputs": [],
   "source": [
    "ours_out = run_ours(X, y, groups, group_sizes, alpha, penalty, user_lmdas=lmdas[:lmda_end])"
   ]
  },
  {
   "cell_type": "code",
   "execution_count": 52,
   "metadata": {},
   "outputs": [],
   "source": [
    "ours_beta = np.array(ours_out['betas'].todense())[:, -1]"
   ]
  },
  {
   "cell_type": "code",
   "execution_count": 53,
   "metadata": {},
   "outputs": [
    {
     "data": {
      "text/plain": [
       "(64827.17973922805, 4473.984773094584, 4473.977597707031)"
      ]
     },
     "execution_count": 53,
     "metadata": {},
     "output_type": "execute_result"
    }
   ],
   "source": [
    "(\n",
    "    gl.group_elnet_objective(X, y, groups, group_sizes, alpha, penalty, lmda, group_elnet_beta), \n",
    "    gl.group_elnet_objective(X, y, groups, group_sizes, alpha, penalty, lmda, cvxpy_beta),\n",
    "    gl.group_elnet_objective(X, y, groups, group_sizes, alpha, penalty, lmda, ours_beta),\n",
    ")"
   ]
  }
 ],
 "metadata": {
  "kernelspec": {
   "display_name": "glstudy",
   "language": "python",
   "name": "python3"
  },
  "language_info": {
   "codemirror_mode": {
    "name": "ipython",
    "version": 3
   },
   "file_extension": ".py",
   "mimetype": "text/x-python",
   "name": "python",
   "nbconvert_exporter": "python",
   "pygments_lexer": "ipython3",
   "version": "3.10.10"
  },
  "orig_nbformat": 4
 },
 "nbformat": 4,
 "nbformat_minor": 2
}
