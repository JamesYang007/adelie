{
 "cells": [
  {
   "cell_type": "code",
   "execution_count": 50,
   "metadata": {},
   "outputs": [
    {
     "name": "stdout",
     "output_type": "stream",
     "text": [
      "The autoreload extension is already loaded. To reload it, use:\n",
      "  %reload_ext autoreload\n"
     ]
    }
   ],
   "source": [
    "%load_ext autoreload\n",
    "%autoreload 2"
   ]
  },
  {
   "cell_type": "code",
   "execution_count": 79,
   "metadata": {},
   "outputs": [],
   "source": [
    "from group_lasso import GroupLasso\n",
    "import pyglstudy as gl \n",
    "from pyglstudy.group_lasso import *\n",
    "import numpy as np\n",
    "import cvxpy as cp"
   ]
  },
  {
   "cell_type": "code",
   "execution_count": 363,
   "metadata": {},
   "outputs": [],
   "source": [
    "def run_group_lasso(\n",
    "    X, y, groups, group_sizes, lmda,\n",
    "):\n",
    "    n, _ = X.shape\n",
    "    expanded_groups = np.repeat(np.arange(len(groups)), group_sizes)\n",
    "    GroupLasso.LOG_LOSSES = True\n",
    "    GroupLasso_out = GroupLasso(\n",
    "        groups=expanded_groups,\n",
    "        group_reg=lmda * 2,\n",
    "        l1_reg=0,\n",
    "        frobenius_lipschitz=True,\n",
    "        scale_reg=\"group_size\",\n",
    "        subsampling_scheme=10,\n",
    "        supress_warning=True,\n",
    "        fit_intercept=False,\n",
    "        n_iter=10000,\n",
    "        tol=1e-7,\n",
    "    )\n",
    "    GroupLasso_out.fit(X, y)\n",
    "    return GroupLasso_out.coef_[:, 0]\n"
   ]
  },
  {
   "cell_type": "code",
   "execution_count": 364,
   "metadata": {},
   "outputs": [],
   "source": [
    "def run_cvxpy(X, y, groups, group_sizes, alpha, penalty, lmda):\n",
    "    _, p = X.shape\n",
    "    beta = cp.Variable(p)\n",
    "    regul = 0\n",
    "    for i in range(len(groups)):\n",
    "        gb = groups[i]\n",
    "        ge = gb + group_sizes[i]\n",
    "        bi_norm2 = cp.norm2(beta[gb:ge])\n",
    "        regul += penalty[i] * (alpha * bi_norm2 + (1-alpha) / 2 * cp.sum_squares(beta[gb:ge]))\n",
    "    objective = cp.Minimize(0.5 * cp.sum_squares(y - X @ beta) + lmda * regul)\n",
    "    prob = cp.Problem(objective)\n",
    "    result = prob.solve()\n",
    "    return beta.value \n"
   ]
  },
  {
   "cell_type": "code",
   "execution_count": 365,
   "metadata": {},
   "outputs": [],
   "source": [
    "def run_ours(\n",
    "    X, y, groups, group_sizes, alpha, penalty, lmda=None,\n",
    "    max_n_lambdas = 100,\n",
    "    n_lambdas_iter = 5,\n",
    "    use_strong_rule = True,\n",
    "    do_early_exit = True,\n",
    "    verbose_diagnostic = False,\n",
    "    delta_strong_size = 1,\n",
    "    max_strong_size = None,\n",
    "    max_n_cds = 100000,\n",
    "    thr = 1e-8,\n",
    "    newton_tol = 1e-8,\n",
    "    newton_max_iters = 100000,\n",
    "    min_ratio = 1e-2,\n",
    "    n_threads = 16,\n",
    "):\n",
    "    _, p = X.shape\n",
    "\n",
    "    if max_strong_size is None:\n",
    "        max_strong_size = p\n",
    "\n",
    "    if lmda is None:\n",
    "        user_lmdas = []\n",
    "    else:\n",
    "        user_lmdas = [lmda] \n",
    "    return gl.group_basil(\n",
    "        X, y, groups, group_sizes, alpha, penalty, user_lmdas,\n",
    "        max_n_lambdas,\n",
    "        n_lambdas_iter,\n",
    "        use_strong_rule,\n",
    "        do_early_exit,\n",
    "        verbose_diagnostic,\n",
    "        delta_strong_size,\n",
    "        max_strong_size,\n",
    "        max_n_cds,\n",
    "        thr,\n",
    "        newton_tol,\n",
    "        newton_max_iters,\n",
    "        min_ratio,\n",
    "        n_threads,\n",
    "    )"
   ]
  },
  {
   "cell_type": "code",
   "execution_count": 366,
   "metadata": {},
   "outputs": [],
   "source": [
    "n = 100\n",
    "p = 100\n",
    "n_groups = int(p/20)\n",
    "seed = 0\n",
    "\n",
    "np.random.seed(seed)\n",
    "X, beta, y, groups, group_sizes = generate_group_lasso_data(\n",
    "    n, p, n_groups, rho=0, svd_transform=True\n",
    ").values()"
   ]
  },
  {
   "cell_type": "code",
   "execution_count": 367,
   "metadata": {},
   "outputs": [],
   "source": [
    "alpha = 1.0\n",
    "penalty = np.sqrt(group_sizes)"
   ]
  },
  {
   "cell_type": "code",
   "execution_count": 368,
   "metadata": {},
   "outputs": [
    {
     "data": {
      "text/plain": [
       "array([1.59877172, 1.52610508, 1.45674125, 1.39053011, 1.32732837,\n",
       "       1.26699925, 1.20941218, 1.15444253, 1.10197133, 1.05188503,\n",
       "       1.00407524, 0.95843847, 0.91487596, 0.87329344, 0.8336009 ,\n",
       "       0.79571245, 0.75954609, 0.72502355, 0.69207011, 0.66061446,\n",
       "       0.63058851, 0.60192729, 0.57456877, 0.54845373, 0.52352566,\n",
       "       0.49973061, 0.47701708, 0.45533592, 0.4346402 , 0.41488513,\n",
       "       0.39602796, 0.37802788, 0.36084593, 0.34444493, 0.32878937,\n",
       "       0.31384539, 0.29958063, 0.28596423, 0.27296671, 0.26055995,\n",
       "       0.2487171 , 0.23741253, 0.22662176, 0.21632145, 0.20648931,\n",
       "       0.19710405, 0.18814537, 0.17959387, 0.17143105, 0.16363925,\n",
       "       0.15620159, 0.14910199, 0.14232507, 0.13585618, 0.1296813 ,\n",
       "       0.12378709, 0.11816077, 0.11279018, 0.1076637 , 0.10277022,\n",
       "       0.09809915, 0.09364039, 0.08938429, 0.08532164, 0.08144364,\n",
       "       0.0777419 , 0.07420841, 0.07083552, 0.06761594, 0.06454269,\n",
       "       0.06160913, 0.0588089 , 0.05613594, 0.05358448, 0.05114898,\n",
       "       0.04882418, 0.04660504, 0.04448677, 0.04246478, 0.04053469,\n",
       "       0.03869233, 0.0369337 , 0.03525501, 0.03365261, 0.03212305,\n",
       "       0.03066301, 0.02926933, 0.02793899, 0.02666912, 0.02545697,\n",
       "       0.02429991, 0.02319544, 0.02214117, 0.02113482, 0.02017421,\n",
       "       0.01925726, 0.01838199, 0.0175465 , 0.01674898, 0.01598772])"
      ]
     },
     "execution_count": 368,
     "metadata": {},
     "output_type": "execute_result"
    }
   ],
   "source": [
    "lmdas = np.array(run_ours(X, y, groups, group_sizes, alpha, penalty)['lmdas'])\n",
    "lmdas"
   ]
  },
  {
   "cell_type": "code",
   "execution_count": 369,
   "metadata": {},
   "outputs": [
    {
     "data": {
      "text/plain": [
       "0.15620158914670107"
      ]
     },
     "execution_count": 369,
     "metadata": {},
     "output_type": "execute_result"
    }
   ],
   "source": [
    "lmda = lmdas[len(lmdas) // 2] \n",
    "lmda"
   ]
  },
  {
   "cell_type": "code",
   "execution_count": 370,
   "metadata": {},
   "outputs": [
    {
     "data": {
      "text/plain": [
       "array([-0., -0., -0.,  0., -0.,  0.,  0.,  0., -0.,  0., -0., -0., -0.,\n",
       "        0.,  0., -0.,  0.,  0.,  0.,  0.,  0., -0.,  0., -0., -0., -0.,\n",
       "        0.,  0., -0., -0.,  0., -0.,  0., -0.,  0., -0.,  0.,  0., -0.,\n",
       "       -0., -0.,  0., -0., -0.,  0., -0.,  0.,  0.,  0.,  0.,  0., -0.,\n",
       "       -0.,  0., -0., -0., -0., -0.,  0.,  0., -0.,  0., -0., -0.,  0.,\n",
       "        0., -0., -0.,  0., -0.,  0., -0., -0., -0.,  0.,  0., -0., -0.,\n",
       "       -0.,  0.,  0.,  0.,  0.,  0., -0.,  0., -0., -0.,  0., -0.,  0.,\n",
       "       -0., -0.,  0.,  0., -0., -0.,  0.,  0.,  0.])"
      ]
     },
     "execution_count": 370,
     "metadata": {},
     "output_type": "execute_result"
    }
   ],
   "source": [
    "group_lasso_beta = run_group_lasso(X, y, groups, group_sizes, lmda)\n",
    "group_lasso_beta"
   ]
  },
  {
   "cell_type": "code",
   "execution_count": 371,
   "metadata": {},
   "outputs": [],
   "source": [
    "cvxpy_beta = run_cvxpy(X, y, groups, group_sizes, alpha, penalty, lmda)"
   ]
  },
  {
   "cell_type": "code",
   "execution_count": 372,
   "metadata": {},
   "outputs": [],
   "source": [
    "ours_out = run_ours(X, y, groups, group_sizes, alpha, penalty, lmda)\n",
    "ours_beta = np.array(ours_out['betas'].todense())[:, 0]"
   ]
  },
  {
   "cell_type": "code",
   "execution_count": 373,
   "metadata": {},
   "outputs": [
    {
     "data": {
      "text/plain": [
       "(41.5489517529887, 11.222484598649165, 11.222484731834104)"
      ]
     },
     "execution_count": 373,
     "metadata": {},
     "output_type": "execute_result"
    }
   ],
   "source": [
    "(\n",
    "    gl.objective_data(X, y, groups, group_sizes, alpha, penalty, lmda, group_lasso_beta), \n",
    "    gl.objective_data(X, y, groups, group_sizes, alpha, penalty, lmda, cvxpy_beta),\n",
    "    gl.objective_data(X, y, groups, group_sizes, alpha, penalty, lmda, ours_beta),\n",
    ")"
   ]
  }
 ],
 "metadata": {
  "kernelspec": {
   "display_name": "glstudy",
   "language": "python",
   "name": "python3"
  },
  "language_info": {
   "codemirror_mode": {
    "name": "ipython",
    "version": 3
   },
   "file_extension": ".py",
   "mimetype": "text/x-python",
   "name": "python",
   "nbconvert_exporter": "python",
   "pygments_lexer": "ipython3",
   "version": "3.10.9"
  },
  "orig_nbformat": 4
 },
 "nbformat": 4,
 "nbformat_minor": 2
}
