{
 "cells": [
  {
   "cell_type": "code",
   "execution_count": 1,
   "metadata": {},
   "outputs": [],
   "source": [
    "%load_ext autoreload\n",
    "%autoreload 2"
   ]
  },
  {
   "cell_type": "code",
   "execution_count": 2,
   "metadata": {},
   "outputs": [],
   "source": [
    "import pyglstudy as gl\n",
    "from pyglstudy.group_lasso import *\n",
    "import numpy as np\n",
    "import matplotlib.pyplot as plt\n",
    "from copy import deepcopy"
   ]
  },
  {
   "cell_type": "code",
   "execution_count": 3,
   "metadata": {},
   "outputs": [],
   "source": [
    "n = 100\n",
    "p = 50000\n",
    "n_groups = int(p / 500)\n",
    "alpha = 1.0\n",
    "seed = 0\n",
    "\n",
    "np.random.seed(seed)\n",
    "X, beta, y, groups, group_sizes = generate_group_lasso_data(n, p, n_groups).values()\n",
    "\n",
    "# IMPORTANT: pack must be created before calling the next cell.\n",
    "# group_lasso will modify the pack details\n",
    "pack = generate_group_lasso_state(\n",
    "    X, y, groups, group_sizes, alpha, \n",
    "    log10_min_ratio=-2, \n",
    "    max_cds=int(1e5),\n",
    ")"
   ]
  },
  {
   "cell_type": "code",
   "execution_count": 4,
   "metadata": {},
   "outputs": [],
   "source": [
    "pack1 = deepcopy(pack)"
   ]
  },
  {
   "cell_type": "code",
   "execution_count": 5,
   "metadata": {},
   "outputs": [
    {
     "name": "stdout",
     "output_type": "stream",
     "text": [
      "CPU times: user 880 ms, sys: 190 ms, total: 1.07 s\n",
      "Wall time: 876 ms\n"
     ]
    }
   ],
   "source": [
    "%%time\n",
    "gl_out = group_lasso(X, pack1, full_cov=False)"
   ]
  },
  {
   "cell_type": "code",
   "execution_count": 32,
   "metadata": {},
   "outputs": [],
   "source": [
    "A = np.asfortranarray(X.T @ X)\n",
    "pack2 = deepcopy(pack)"
   ]
  },
  {
   "cell_type": "code",
   "execution_count": 33,
   "metadata": {},
   "outputs": [
    {
     "name": "stdout",
     "output_type": "stream",
     "text": [
      "CPU times: user 61.1 ms, sys: 359 µs, total: 61.4 ms\n",
      "Wall time: 61.4 ms\n"
     ]
    }
   ],
   "source": [
    "%%time\n",
    "gl_out_2 = group_lasso(A, pack2, full_cov=True)"
   ]
  },
  {
   "cell_type": "code",
   "execution_count": 6,
   "metadata": {},
   "outputs": [
    {
     "data": {
      "text/plain": [
       "array([0.        , 0.08860494, 0.16933846, 0.24289983, 0.30992622,\n",
       "       0.37099817, 0.42664466, 0.47734766, 0.52354636, 0.56564088,\n",
       "       0.60399585, 0.63894347, 0.67078644, 0.69980057, 0.72623717,\n",
       "       0.75032521, 0.77227334, 0.79227166, 0.81049338, 0.82709634,\n",
       "       0.84222434, 0.85600841, 0.86856794, 0.88001173, 0.89043887,\n",
       "       0.89993971, 0.90859651, 0.91648427, 0.92367131, 0.93021988,\n",
       "       0.93618669, 0.94162342, 0.94657718, 0.95109086, 0.95520356,\n",
       "       0.9589509 , 0.96236534, 0.96547646, 0.9683112 , 0.97089411,\n",
       "       0.97324756, 0.97539195, 0.97734584, 0.97912616, 0.98074832,\n",
       "       0.98222638, 0.98357313, 0.98480026, 0.98591837, 0.98693716,\n",
       "       0.98786545, 0.98871128, 0.98948197, 0.99018421, 0.99082407,\n",
       "       0.99140709, 0.99193833, 0.99242239, 0.99286345, 0.99326534,\n",
       "       0.99363153, 0.99396521, 0.99426925, 0.9945463 , 0.99479875,\n",
       "       0.99502878, 0.99523839, 0.99542939, 0.99560344, 0.99576205,\n",
       "       0.99590658, 0.99603829, 0.99615831, 0.9962677 , 0.99636738,\n",
       "       0.99645823, 0.99654103, 0.9966165 , 0.99668529, 0.99674799,\n",
       "       0.99680515, 0.99685726, 0.99690477, 0.99694808, 0.99698758,\n",
       "       0.99702361, 0.99705647, 0.99708644, 0.9971138 , 0.99713876,\n",
       "       0.99716154, 0.99718235, 0.99720135, 0.99721871, 0.99723459,\n",
       "       0.9972491 , 0.99726238, 0.99727454, 0.99728567, 0.99729589])"
      ]
     },
     "execution_count": 6,
     "metadata": {},
     "output_type": "execute_result"
    }
   ],
   "source": [
    "gl_out['rsqs'] / np.linalg.norm(y) ** 2"
   ]
  },
  {
   "cell_type": "code",
   "execution_count": 7,
   "metadata": {},
   "outputs": [
    {
     "data": {
      "image/png": "[encoded data removed]",
      "text/plain": [
       "<Figure size 640x480 with 1 Axes>"
      ]
     },
     "metadata": {},
     "output_type": "display_data"
    }
   ],
   "source": [
    "worst_idx = np.unravel_index(np.argmin(gl_out['betas']), shape=gl_out['betas'].shape)[0]\n",
    "\n",
    "for j in range(gl_out['betas'].shape[0]):\n",
    "    if j == worst_idx: continue\n",
    "    plt.plot(-np.log(gl_out['lmdas']), gl_out['betas'][j].todense().reshape((-1,1)))\n",
    "plt.title('$\\\\beta$ Profile')\n",
    "plt.xlabel('$-\\log(\\lambda)$')\n",
    "plt.ylabel('$\\\\beta$')\n",
    "plt.tight_layout()\n",
    "plt.show()"
   ]
  },
  {
   "cell_type": "code",
   "execution_count": 52,
   "metadata": {},
   "outputs": [
    {
     "data": {
      "text/plain": [
       "<10000x100 sparse matrix of type '<class 'numpy.bool_'>'\n",
       "\twith 0 stored elements in Compressed Sparse Column format>"
      ]
     },
     "execution_count": 52,
     "metadata": {},
     "output_type": "execute_result"
    }
   ],
   "source": [
    "gl_out['betas'] != gl_out_2['betas']"
   ]
  }
 ],
 "metadata": {
  "kernelspec": {
   "display_name": "glstudy",
   "language": "python",
   "name": "python3"
  },
  "language_info": {
   "codemirror_mode": {
    "name": "ipython",
    "version": 3
   },
   "file_extension": ".py",
   "mimetype": "text/x-python",
   "name": "python",
   "nbconvert_exporter": "python",
   "pygments_lexer": "ipython3",
   "version": "3.10.9"
  },
  "orig_nbformat": 4
 },
 "nbformat": 4,
 "nbformat_minor": 2
}
