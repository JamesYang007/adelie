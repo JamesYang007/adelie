{
 "cells": [
  {
   "cell_type": "code",
   "execution_count": 3,
   "metadata": {},
   "outputs": [],
   "source": [
    "import pyglstudy as gl\n",
    "import numpy as np"
   ]
  },
  {
   "cell_type": "code",
   "execution_count": 49,
   "metadata": {},
   "outputs": [],
   "source": [
    "def generate_group_lasso_data(\n",
    "    n,\n",
    "    p,\n",
    "    n_groups,\n",
    "    rho=0.1,\n",
    "):\n",
    "    Sigma = np.full((p, p), rho)\n",
    "    np.fill_diagonal(Sigma, 1)\n",
    "    X = np.random.normal(size=(n, p)) @ Sigma\n",
    "    beta = np.random.normal(size=(p,))\n",
    "    y = X @ beta + np.random.normal(size=(n,))\n",
    "\n",
    "    A = (X.T @ X) / n\n",
    "    r = (X.T @ y) / n\n",
    "\n",
    "    order = np.arange(1, p) \n",
    "    groups = np.sort(np.random.choice(\n",
    "        order, (n_groups-1,), replace=False,\n",
    "    ))\n",
    "    groups = np.concatenate([[0], groups, [p]], dtype=np.int32)\n",
    "    group_sizes = groups[1:(n_groups+1)] - groups[:n_groups]\n",
    "    groups = groups[:n_groups]\n",
    "    \n",
    "    return {\n",
    "        \"X\": X,\n",
    "        \"beta\": beta,\n",
    "        \"y\": y,\n",
    "        \"A\": A,\n",
    "        \"r\": r,\n",
    "        \"groups\": groups,\n",
    "        \"group_sizes\": group_sizes,\n",
    "    }"
   ]
  },
  {
   "cell_type": "code",
   "execution_count": 53,
   "metadata": {},
   "outputs": [
    {
     "ename": "TypeError",
     "evalue": "group_lasso(): incompatible function arguments. The following argument types are supported:\n    1. (arg0: numpy.ndarray[numpy.float64[m, n], flags.writeable, flags.f_contiguous], arg1: numpy.ndarray[numpy.int32[m, 1], flags.writeable], arg2: numpy.ndarray[numpy.int32[m, 1], flags.writeable], arg3: float, arg4: numpy.ndarray[numpy.float64[m, 1], flags.writeable], arg5: numpy.ndarray[numpy.int32[m, 1], flags.writeable], arg6: numpy.ndarray[numpy.int32[m, 1], flags.writeable], arg7: numpy.ndarray[numpy.int32[m, 1], flags.writeable], arg8: numpy.ndarray[numpy.int32[m, 1], flags.writeable], arg9: numpy.ndarray[numpy.float64[m, 1], flags.writeable], arg10: numpy.ndarray[numpy.float64[m, 1], flags.writeable], arg11: int, arg12: float, arg13: float, arg14: int, arg15: float, arg16: numpy.ndarray[numpy.float64[m, 1], flags.writeable], arg17: numpy.ndarray[numpy.float64[m, 1], flags.writeable], arg18: numpy.ndarray[numpy.int32[m, 1], flags.writeable], arg19: numpy.ndarray[numpy.int32[m, 1], flags.writeable], arg20: numpy.ndarray[numpy.int32[m, 1], flags.writeable], arg21: numpy.ndarray[numpy.int32[m, 1], flags.writeable], arg22: numpy.ndarray[numpy.int32[m, 1], flags.writeable], arg23: numpy.ndarray[bool[m, 1], flags.writeable]) -> dict\n\nInvoked with: array([[1.19167284, 0.36299895, 0.23316748, 0.30828545, 0.43217507,\n        0.50207576, 0.31465945, 0.35067446, 0.23765489, 0.24866225],\n       [0.36299895, 1.10586134, 0.43981417, 0.4187271 , 0.14655645,\n        0.24375045, 0.2855293 , 0.19285799, 0.2632533 , 0.29834778],\n       [0.23316748, 0.43981417, 1.14111544, 0.39230663, 0.12996303,\n        0.3601077 , 0.30191575, 0.30587335, 0.24102518, 0.27156045],\n       [0.30828545, 0.4187271 , 0.39230663, 1.09273656, 0.25340065,\n        0.40031797, 0.41961632, 0.25316936, 0.3080634 , 0.29516623],\n       [0.43217507, 0.14655645, 0.12996303, 0.25340065, 1.04263233,\n        0.35591924, 0.28106039, 0.44377382, 0.28832453, 0.11609087],\n       [0.50207576, 0.24375045, 0.3601077 , 0.40031797, 0.35591924,\n        1.16569068, 0.39009442, 0.27879836, 0.32735786, 0.4006966 ],\n       [0.31465945, 0.2855293 , 0.30191575, 0.41961632, 0.28106039,\n        0.39009442, 1.17660284, 0.27155064, 0.3157164 , 0.24783469],\n       [0.35067446, 0.19285799, 0.30587335, 0.25316936, 0.44377382,\n        0.27879836, 0.27155064, 1.0275587 , 0.21735846, 0.07699091],\n       [0.23765489, 0.2632533 , 0.24102518, 0.3080634 , 0.28832453,\n        0.32735786, 0.3157164 , 0.21735846, 0.85001565, 0.1212861 ],\n       [0.24866225, 0.29834778, 0.27156045, 0.29516623, 0.11609087,\n        0.4006966 , 0.24783469, 0.07699091, 0.1212861 , 0.88568011]]), array([0, 3, 4, 7, 8], dtype=int32), array([3, 1, 3, 1, 2], dtype=int32), 1.0, array([1., 1., 1., 1., 1., 1., 1., 1., 1., 1.]), array([0, 1, 2, 3, 4], dtype=int32), array([1, 3], dtype=int32), array([0, 2, 4], dtype=int32), array([0, 3, 4, 7, 8], dtype=int32), array([1.19167284, 1.10586134, 1.14111544, 1.09273656, 1.04263233,\n       1.16569068, 1.17660284, 1.0275587 , 0.85001565, 0.88568011]), array([1.   , 0.5  , 0.1  , 0.01 , 0.001]), 100000, 1e-07, 1e-08, 100, 0.0, array([0., 0., 0., 0., 0., 0., 0., 0., 0., 0.]), array([ 1.69190184, -0.11410927, -0.69422144, -0.54206909,  0.81187762,\n        0.07250747,  0.97257487,  0.47304594, -0.02786722, -0.42553432]), array([], dtype=int32), array([], dtype=int32), array([], dtype=int32), array([], dtype=int32), array([], dtype=int32), array([False, False, False, False, False, False, False, False, False,\n       False])",
     "output_type": "error",
     "traceback": [
      "\u001b[0;31m---------------------------------------------------------------------------\u001b[0m",
      "\u001b[0;31mTypeError\u001b[0m                                 Traceback (most recent call last)",
      "Cell \u001b[0;32mIn[53], line 37\u001b[0m\n\u001b[1;32m     34\u001b[0m active_order \u001b[39m=\u001b[39m np\u001b[39m.\u001b[39mempty((\u001b[39m0\u001b[39m,), dtype\u001b[39m=\u001b[39mnp\u001b[39m.\u001b[39mint32)\n\u001b[1;32m     35\u001b[0m is_active \u001b[39m=\u001b[39m np\u001b[39m.\u001b[39mzeros((p,), dtype\u001b[39m=\u001b[39m\u001b[39mbool\u001b[39m)\n\u001b[0;32m---> 37\u001b[0m gl\u001b[39m.\u001b[39;49mgroup_lasso(\n\u001b[1;32m     38\u001b[0m     A, \n\u001b[1;32m     39\u001b[0m     groups,\n\u001b[1;32m     40\u001b[0m     group_sizes,\n\u001b[1;32m     41\u001b[0m     alpha,\n\u001b[1;32m     42\u001b[0m     penalty,\n\u001b[1;32m     43\u001b[0m     strong_set,\n\u001b[1;32m     44\u001b[0m     strong_g1,\n\u001b[1;32m     45\u001b[0m     strong_g2,\n\u001b[1;32m     46\u001b[0m     strong_begins,\n\u001b[1;32m     47\u001b[0m     strong_A_diag,\n\u001b[1;32m     48\u001b[0m     lmdas,\n\u001b[1;32m     49\u001b[0m     max_cds,\n\u001b[1;32m     50\u001b[0m     thr,\n\u001b[1;32m     51\u001b[0m     newton_tol,\n\u001b[1;32m     52\u001b[0m     newton_max_iters,\n\u001b[1;32m     53\u001b[0m     rsq,\n\u001b[1;32m     54\u001b[0m     strong_beta,\n\u001b[1;32m     55\u001b[0m     strong_grad,\n\u001b[1;32m     56\u001b[0m     active_set,\n\u001b[1;32m     57\u001b[0m     active_g1,\n\u001b[1;32m     58\u001b[0m     active_g2,\n\u001b[1;32m     59\u001b[0m     active_begins,\n\u001b[1;32m     60\u001b[0m     active_order,\n\u001b[1;32m     61\u001b[0m     is_active,\n\u001b[1;32m     62\u001b[0m )\n",
      "\u001b[0;31mTypeError\u001b[0m: group_lasso(): incompatible function arguments. The following argument types are supported:\n    1. (arg0: numpy.ndarray[numpy.float64[m, n], flags.writeable, flags.f_contiguous], arg1: numpy.ndarray[numpy.int32[m, 1], flags.writeable], arg2: numpy.ndarray[numpy.int32[m, 1], flags.writeable], arg3: float, arg4: numpy.ndarray[numpy.float64[m, 1], flags.writeable], arg5: numpy.ndarray[numpy.int32[m, 1], flags.writeable], arg6: numpy.ndarray[numpy.int32[m, 1], flags.writeable], arg7: numpy.ndarray[numpy.int32[m, 1], flags.writeable], arg8: numpy.ndarray[numpy.int32[m, 1], flags.writeable], arg9: numpy.ndarray[numpy.float64[m, 1], flags.writeable], arg10: numpy.ndarray[numpy.float64[m, 1], flags.writeable], arg11: int, arg12: float, arg13: float, arg14: int, arg15: float, arg16: numpy.ndarray[numpy.float64[m, 1], flags.writeable], arg17: numpy.ndarray[numpy.float64[m, 1], flags.writeable], arg18: numpy.ndarray[numpy.int32[m, 1], flags.writeable], arg19: numpy.ndarray[numpy.int32[m, 1], flags.writeable], arg20: numpy.ndarray[numpy.int32[m, 1], flags.writeable], arg21: numpy.ndarray[numpy.int32[m, 1], flags.writeable], arg22: numpy.ndarray[numpy.int32[m, 1], flags.writeable], arg23: numpy.ndarray[bool[m, 1], flags.writeable]) -> dict\n\nInvoked with: array([[1.19167284, 0.36299895, 0.23316748, 0.30828545, 0.43217507,\n        0.50207576, 0.31465945, 0.35067446, 0.23765489, 0.24866225],\n       [0.36299895, 1.10586134, 0.43981417, 0.4187271 , 0.14655645,\n        0.24375045, 0.2855293 , 0.19285799, 0.2632533 , 0.29834778],\n       [0.23316748, 0.43981417, 1.14111544, 0.39230663, 0.12996303,\n        0.3601077 , 0.30191575, 0.30587335, 0.24102518, 0.27156045],\n       [0.30828545, 0.4187271 , 0.39230663, 1.09273656, 0.25340065,\n        0.40031797, 0.41961632, 0.25316936, 0.3080634 , 0.29516623],\n       [0.43217507, 0.14655645, 0.12996303, 0.25340065, 1.04263233,\n        0.35591924, 0.28106039, 0.44377382, 0.28832453, 0.11609087],\n       [0.50207576, 0.24375045, 0.3601077 , 0.40031797, 0.35591924,\n        1.16569068, 0.39009442, 0.27879836, 0.32735786, 0.4006966 ],\n       [0.31465945, 0.2855293 , 0.30191575, 0.41961632, 0.28106039,\n        0.39009442, 1.17660284, 0.27155064, 0.3157164 , 0.24783469],\n       [0.35067446, 0.19285799, 0.30587335, 0.25316936, 0.44377382,\n        0.27879836, 0.27155064, 1.0275587 , 0.21735846, 0.07699091],\n       [0.23765489, 0.2632533 , 0.24102518, 0.3080634 , 0.28832453,\n        0.32735786, 0.3157164 , 0.21735846, 0.85001565, 0.1212861 ],\n       [0.24866225, 0.29834778, 0.27156045, 0.29516623, 0.11609087,\n        0.4006966 , 0.24783469, 0.07699091, 0.1212861 , 0.88568011]]), array([0, 3, 4, 7, 8], dtype=int32), array([3, 1, 3, 1, 2], dtype=int32), 1.0, array([1., 1., 1., 1., 1., 1., 1., 1., 1., 1.]), array([0, 1, 2, 3, 4], dtype=int32), array([1, 3], dtype=int32), array([0, 2, 4], dtype=int32), array([0, 3, 4, 7, 8], dtype=int32), array([1.19167284, 1.10586134, 1.14111544, 1.09273656, 1.04263233,\n       1.16569068, 1.17660284, 1.0275587 , 0.85001565, 0.88568011]), array([1.   , 0.5  , 0.1  , 0.01 , 0.001]), 100000, 1e-07, 1e-08, 100, 0.0, array([0., 0., 0., 0., 0., 0., 0., 0., 0., 0.]), array([ 1.69190184, -0.11410927, -0.69422144, -0.54206909,  0.81187762,\n        0.07250747,  0.97257487,  0.47304594, -0.02786722, -0.42553432]), array([], dtype=int32), array([], dtype=int32), array([], dtype=int32), array([], dtype=int32), array([], dtype=int32), array([False, False, False, False, False, False, False, False, False,\n       False])"
     ]
    }
   ],
   "source": [
    "n = 100\n",
    "p = 10\n",
    "n_groups = 5\n",
    "alpha = 1.0\n",
    "penalty = np.ones(p, dtype=float)\n",
    "\n",
    "X, beta, y, A, r, groups, group_sizes = generate_group_lasso_data(n, p, n_groups).values()\n",
    "A = np.reshape(A, A.shape, order='F')\n",
    "strong_set = np.arange(0, n_groups, dtype=np.int32)\n",
    "strong_g1 = np.array([i for i in range(len(strong_set)) if group_sizes[strong_set[i]] == 1], dtype=np.int32)\n",
    "strong_g2 = np.array([i for i in range(len(strong_set)) if group_sizes[strong_set[i]] > 1], dtype=np.int32)\n",
    "assert((len(strong_g1) + len(strong_g2)) == n_groups)\n",
    "strong_begins = np.cumsum(np.concatenate(\n",
    "    [[0], np.array([group_sizes[i] for i in range(len(strong_set))], dtype=np.int32)],\n",
    "), dtype=np.int32)[:-1]\n",
    "strong_A_diag = np.concatenate(\n",
    "    [\n",
    "        np.diag(A)[groups[i] : (groups[i] + group_sizes[i])]\n",
    "        for i in strong_set\n",
    "    ]\n",
    ")\n",
    "lmdas = np.array([1, 0.5, 0.1, 0.01, 0.001])\n",
    "max_cds = np.int32(1e5)\n",
    "thr = 1e-7\n",
    "newton_tol = 1e-8\n",
    "newton_max_iters = np.int32(100)\n",
    "rsq = 0.0\n",
    "strong_beta = np.zeros((p,), dtype=float)\n",
    "strong_grad = np.copy(r)\n",
    "active_set = np.empty((0,), dtype=np.int32)\n",
    "active_g1 = np.empty((0,), dtype=np.int32)\n",
    "active_g2 = np.empty((0,), dtype=np.int32)\n",
    "active_begins = np.empty((0,), dtype=np.int32)\n",
    "active_order = np.empty((0,), dtype=np.int32)\n",
    "is_active = np.zeros((p,), dtype=bool)\n",
    "\n",
    "gl.group_lasso(\n",
    "    A, \n",
    "    groups,\n",
    "    group_sizes,\n",
    "    alpha,\n",
    "    penalty,\n",
    "    strong_set,\n",
    "    strong_g1,\n",
    "    strong_g2,\n",
    "    strong_begins,\n",
    "    strong_A_diag,\n",
    "    lmdas,\n",
    "    max_cds,\n",
    "    thr,\n",
    "    newton_tol,\n",
    "    newton_max_iters,\n",
    "    rsq,\n",
    "    strong_beta,\n",
    "    strong_grad,\n",
    "    active_set,\n",
    "    active_g1,\n",
    "    active_g2,\n",
    "    active_begins,\n",
    "    active_order,\n",
    "    is_active,\n",
    ")"
   ]
  }
 ],
 "metadata": {
  "kernelspec": {
   "display_name": "glstudy",
   "language": "python",
   "name": "python3"
  },
  "language_info": {
   "codemirror_mode": {
    "name": "ipython",
    "version": 3
   },
   "file_extension": ".py",
   "mimetype": "text/x-python",
   "name": "python",
   "nbconvert_exporter": "python",
   "pygments_lexer": "ipython3",
   "version": "3.10.9"
  },
  "orig_nbformat": 4
 },
 "nbformat": 4,
 "nbformat_minor": 2
}
