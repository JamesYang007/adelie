{
 "cells": [
  {
   "cell_type": "code",
   "execution_count": 2,
   "metadata": {
    "vscode": {
     "languageId": "r"
    }
   },
   "outputs": [
    {
     "name": "stderr",
     "output_type": "stream",
     "text": [
      "\n",
      "Attaching package: ‘glstudy’\n",
      "\n",
      "\n",
      "The following object is masked _by_ ‘.GlobalEnv’:\n",
      "\n",
      "    objective\n",
      "\n",
      "\n"
     ]
    }
   ],
   "source": [
    "library(glstudy)\n",
    "library(grpreg)\n",
    "library(grplasso)\n",
    "library(sparsegl)\n",
    "library(gglasso)\n",
    "library(microbenchmark)\n",
    "library(progress)"
   ]
  },
  {
   "cell_type": "code",
   "execution_count": 3,
   "metadata": {
    "vscode": {
     "languageId": "r"
    }
   },
   "outputs": [],
   "source": [
    "objective <- function(X, y, groups, group_sizes, beta, lmda, penalty)\n",
    "{\n",
    "    reg = sum(sapply(1:length(groups), function(i) penalty[i] * sqrt(sum(beta[(groups[i]+1) : (groups[i]+group_sizes[i])] ** 2))))\n",
    "    0.5 * sum((y - X %*% beta) ** 2) + lmda * reg\n",
    "}"
   ]
  },
  {
   "cell_type": "code",
   "execution_count": 4,
   "metadata": {
    "vscode": {
     "languageId": "r"
    }
   },
   "outputs": [],
   "source": [
    "generate.data <- function(\n",
    "    seed,\n",
    "    n, \n",
    "    p,\n",
    "    sparsity,\n",
    "    group_size\n",
    ")\n",
    "{\n",
    "    set.seed(seed)\n",
    "    X <- matrix(rnorm(n * p), n, p)\n",
    "    X <- apply(X, 2, scale)\n",
    "    beta <- runif(p, -1, 1) * rbinom(p, 1, 1-sparsity)\n",
    "    y <- as.numeric(X %*% beta + rnorm(n))\n",
    "    y <- y - mean(y)\n",
    "    n_full_groups <- as.integer(p / group_size)\n",
    "    groups <- c((0:(n_full_groups-1)) * group_size, p)\n",
    "    group_sizes <- groups[2:length(groups)] - groups[1:length(groups)-1]\n",
    "    groups <- groups[1:length(groups)-1]\n",
    "    list(\n",
    "        X=X,\n",
    "        y=y,\n",
    "        groups=groups,\n",
    "        group_sizes=group_sizes\n",
    "    )\n",
    "}\n",
    "\n",
    "bench.packages <- function(\n",
    "    seed=0,\n",
    "    n=100,\n",
    "    p=100,\n",
    "    sparsity=0.95,\n",
    "    group_size=10,\n",
    "    subset=c(\"grpreg\", \"grplasso\", \"sparsegl\", \"gglasso\")\n",
    ")\n",
    "{\n",
    "    ps <- p\n",
    "    times <- matrix(NA, length(ps), 5)\n",
    "    objs <- matrix(NA, length(ps), 5)\n",
    "    n_lmdas <- rep(NA, length(ps))\n",
    "    colnames(times) <- c(\"grpglmnet\", \"grpreg\", \"grplasso\", \"sparsegl\", \"gglasso\")\n",
    "    colnames(objs) <- colnames(times)\n",
    "    \n",
    "    other_fs <- list(\n",
    "        \"grpreg\"=function(X,y,group,lmdas,penalty) grpreg(X, y, group, penalty='grLasso', family='gaussian', lambda=lmdas / length(y), eps=1e-7),\n",
    "        \"grplasso\"=function(X,y,group,lmdas,penalty) grplasso(X, y, index=as.integer(group), lambda=2*lmdas, center=FALSE, standardize=FALSE, model=LinReg(), control=grpl.control(trace=0)),\n",
    "        \"sparsegl\"=function(X,y,group,lmdas,penalty) sparsegl(X, y, group=as.integer(group), family='gaussian', lambda=lmdas / length(y), intercept=FALSE, standardize=FALSE, pf_group=penalty, asparse=0),\n",
    "        \"gglasso\"=function(X,y,group,lmdas,penalty) gglasso(X, y, group=as.integer(group), loss='ls', lambda=lmdas / length(y), pf=penalty)\n",
    "    )\n",
    "\n",
    "    pb <- txtProgressBar(min = 0,      # Minimum value of the progress bar\n",
    "                         max = length(ps), # Maximum value of the progress bar\n",
    "                         style = 3,    # Progress bar style (also available style = 1 and style = 2)\n",
    "                         width = 50,   # Progress bar width. Defaults to getOption(\"width\")\n",
    "                         char = \"=\")   # Character used to create the bar\n",
    "    for (i in 1:length(ps)) {\n",
    "        p <- ps[i]\n",
    "\n",
    "        # generate data\n",
    "        data <- generate.data(seed, n, p, sparsity, group_size)\n",
    "        X <- data$X\n",
    "        y <- data$y\n",
    "        groups <- data$groups\n",
    "        group_sizes <- data$group_sizes\n",
    "        penalty <- sqrt(group_sizes)\n",
    "        \n",
    "        # run mine\n",
    "        times[i, 1] <- summary(microbenchmark({grpglmnet.out <- group_basil(X, y, groups, group_sizes, penalty=penalty)}, times=1L, unit='ns'))$mean\n",
    "        lmdas <- grpglmnet.out$lmdas\n",
    "        n_lmdas[i] <- length(lmdas)\n",
    "\n",
    "        # prepare input for other packages\n",
    "        group <- as.factor(rep(1:length(groups), times=group_sizes))\n",
    "\n",
    "        # run other packages\n",
    "        other_outs <- list()\n",
    "        for (ss in subset) {\n",
    "            times[i, ss] <- summary(microbenchmark({other_outs[[ss]] <- other_fs[[ss]](X, y, group, lmdas, penalty)}, times=1L, unit='ns'))$mean\n",
    "        }\n",
    "\n",
    "        # save last objectives\n",
    "        last_idx <- length(lmdas)\n",
    "        objs[i, 1] <- objective(X, y, groups, group_sizes, grpglmnet.out$beta[,last_idx], lmdas[last_idx], penalty)\n",
    "        for (ss in subset) {\n",
    "            if (ss == \"grpreg\") {\n",
    "                objs[i, ss] <- objective(X, y, groups, group_sizes, other_outs[[ss]]$beta[2:nrow(other_outs[[ss]]$beta), last_idx], lmdas[last_idx], penalty)\n",
    "            } else if (ss == \"grplasso\") {\n",
    "                objs[i, ss] <- objective(X, y, groups, group_sizes, other_outs[[ss]]$coefficients[, last_idx], lmdas[last_idx], penalty)\n",
    "            } else {\n",
    "                objs[i, ss] <- objective(X, y, groups, group_sizes, other_outs[[ss]]$beta[, last_idx], lmdas[last_idx], penalty)\n",
    "            }\n",
    "        }\n",
    "        \n",
    "        setTxtProgressBar(pb, i)\n",
    "    }\n",
    "    close(pb)\n",
    "    \n",
    "    times <- times * 1e-9\n",
    "    \n",
    "    list(\n",
    "        times=times,\n",
    "        objs=objs,\n",
    "        n_lmdas=n_lmdas\n",
    "    )\n",
    "}"
   ]
  },
  {
   "cell_type": "code",
   "execution_count": 17,
   "metadata": {
    "vscode": {
     "languageId": "r"
    }
   },
   "outputs": [
    {
     "name": "stdout",
     "output_type": "stream",
     "text": [
      "  |==================================================| 100%\n"
     ]
    }
   ],
   "source": [
    "p <- 2 ** (4 : 16)\n",
    "out <- bench.packages(p=p)"
   ]
  },
  {
   "cell_type": "code",
   "execution_count": 36,
   "metadata": {
    "vscode": {
     "languageId": "r"
    }
   },
   "outputs": [
    {
     "name": "stdout",
     "output_type": "stream",
     "text": [
      "  |==================================================| 100%\n"
     ]
    }
   ],
   "source": [
    "p.large <- 2 ** (17 : 18)\n",
    "out.large <- bench.packages(p=p.large, subset=c(\"sparsegl\", \"gglasso\", \"grpreg\"))"
   ]
  },
  {
   "cell_type": "code",
   "execution_count": 37,
   "metadata": {
    "vscode": {
     "languageId": "r"
    }
   },
   "outputs": [
    {
     "name": "stdout",
     "output_type": "stream",
     "text": [
      "  |==================================================| 100%\n"
     ]
    }
   ],
   "source": [
    "p.large2 <- 2 ** (19 : 20)\n",
    "out.large2 <- bench.packages(p=p.large2, subset=c(\"sparsegl\", \"gglasso\"))"
   ]
  },
  {
   "cell_type": "code",
   "execution_count": 38,
   "metadata": {
    "vscode": {
     "languageId": "r"
    }
   },
   "outputs": [],
   "source": [
    "times <- rbind(out$times, out.large$times, out.large2$times)\n",
    "objs <- rbind(out$objs, out.large$objs, out.large2$objs)\n",
    "n_lmdas <- c(out$n_lmdas, out.large$n_lmdas, out.large2$n_lmdas)"
   ]
  },
  {
   "cell_type": "code",
   "execution_count": 39,
   "metadata": {
    "vscode": {
     "languageId": "r"
    }
   },
   "outputs": [],
   "source": [
    "write.table(times, \"data/gl_packages_time.csv\", sep=',', row.names=FALSE, col.names=FALSE)\n",
    "write.table(objs, \"data/gl_packages_obj.csv\", sep=',', row.names=FALSE, col.names=FALSE)\n",
    "write.table(n_lmdas, \"data/gl_packages_n_lmda.csv\", sep=',', row.names=FALSE, col.names=FALSE)"
   ]
  },
  {
   "attachments": {},
   "cell_type": "markdown",
   "metadata": {},
   "source": [
    "Now let's try non-full rank group matrices."
   ]
  },
  {
   "cell_type": "code",
   "execution_count": 7,
   "metadata": {
    "vscode": {
     "languageId": "r"
    }
   },
   "outputs": [
    {
     "name": "stdout",
     "output_type": "stream",
     "text": [
      "  |==================================================| 100%\n"
     ]
    }
   ],
   "source": [
    "p <- 2 ** (10 : 12)\n",
    "out.nfr <- bench.packages(p=p, group_size=300)"
   ]
  },
  {
   "cell_type": "code",
   "execution_count": 8,
   "metadata": {
    "vscode": {
     "languageId": "r"
    }
   },
   "outputs": [
    {
     "data": {
      "text/html": [
       "<dl>\n",
       "\t<dt>$times</dt>\n",
       "\t\t<dd><table class=\"dataframe\">\n",
       "<caption>A matrix: 3 × 5 of type dbl</caption>\n",
       "<thead>\n",
       "\t<tr><th scope=col>grpglmnet</th><th scope=col>grpreg</th><th scope=col>grplasso</th><th scope=col>sparsegl</th><th scope=col>gglasso</th></tr>\n",
       "</thead>\n",
       "<tbody>\n",
       "\t<tr><td>0.07253239</td><td>0.03545208</td><td>0.2592905</td><td>0.2959534</td><td>0.4476103</td></tr>\n",
       "\t<tr><td>0.13637460</td><td>0.06978451</td><td>0.5932974</td><td>0.7928653</td><td>1.0632244</td></tr>\n",
       "\t<tr><td>0.16514020</td><td>0.15784388</td><td>0.8101893</td><td>0.8235419</td><td>1.2208115</td></tr>\n",
       "</tbody>\n",
       "</table>\n",
       "</dd>\n",
       "\t<dt>$objs</dt>\n",
       "\t\t<dd><table class=\"dataframe\">\n",
       "<caption>A matrix: 3 × 5 of type dbl</caption>\n",
       "<thead>\n",
       "\t<tr><th scope=col>grpglmnet</th><th scope=col>grpreg</th><th scope=col>grplasso</th><th scope=col>sparsegl</th><th scope=col>gglasso</th></tr>\n",
       "</thead>\n",
       "<tbody>\n",
       "\t<tr><td>106.4960</td><td>121.0182</td><td>106.4958</td><td>106.4958</td><td>106.4958</td></tr>\n",
       "\t<tr><td>290.7250</td><td>340.2109</td><td>290.7251</td><td>290.7245</td><td>290.7245</td></tr>\n",
       "\t<tr><td>717.3426</td><td>829.9833</td><td>717.3431</td><td>717.3419</td><td>717.3419</td></tr>\n",
       "</tbody>\n",
       "</table>\n",
       "</dd>\n",
       "\t<dt>$n_lmdas</dt>\n",
       "\t\t<dd><style>\n",
       ".list-inline {list-style: none; margin:0; padding: 0}\n",
       ".list-inline>li {display: inline-block}\n",
       ".list-inline>li:not(:last-child)::after {content: \"\\00b7\"; padding: 0 .5ex}\n",
       "</style>\n",
       "<ol class=list-inline><li>54</li><li>53</li><li>52</li></ol>\n",
       "</dd>\n",
       "</dl>\n"
      ],
      "text/latex": [
       "\\begin{description}\n",
       "\\item[\\$times] A matrix: 3 × 5 of type dbl\n",
       "\\begin{tabular}{lllll}\n",
       " grpglmnet & grpreg & grplasso & sparsegl & gglasso\\\\\n",
       "\\hline\n",
       "\t 0.07253239 & 0.03545208 & 0.2592905 & 0.2959534 & 0.4476103\\\\\n",
       "\t 0.13637460 & 0.06978451 & 0.5932974 & 0.7928653 & 1.0632244\\\\\n",
       "\t 0.16514020 & 0.15784388 & 0.8101893 & 0.8235419 & 1.2208115\\\\\n",
       "\\end{tabular}\n",
       "\n",
       "\\item[\\$objs] A matrix: 3 × 5 of type dbl\n",
       "\\begin{tabular}{lllll}\n",
       " grpglmnet & grpreg & grplasso & sparsegl & gglasso\\\\\n",
       "\\hline\n",
       "\t 106.4960 & 121.0182 & 106.4958 & 106.4958 & 106.4958\\\\\n",
       "\t 290.7250 & 340.2109 & 290.7251 & 290.7245 & 290.7245\\\\\n",
       "\t 717.3426 & 829.9833 & 717.3431 & 717.3419 & 717.3419\\\\\n",
       "\\end{tabular}\n",
       "\n",
       "\\item[\\$n\\_lmdas] \\begin{enumerate*}\n",
       "\\item 54\n",
       "\\item 53\n",
       "\\item 52\n",
       "\\end{enumerate*}\n",
       "\n",
       "\\end{description}\n"
      ],
      "text/markdown": [
       "$times\n",
       ":   \n",
       "A matrix: 3 × 5 of type dbl\n",
       "\n",
       "| grpglmnet | grpreg | grplasso | sparsegl | gglasso |\n",
       "|---|---|---|---|---|\n",
       "| 0.07253239 | 0.03545208 | 0.2592905 | 0.2959534 | 0.4476103 |\n",
       "| 0.13637460 | 0.06978451 | 0.5932974 | 0.7928653 | 1.0632244 |\n",
       "| 0.16514020 | 0.15784388 | 0.8101893 | 0.8235419 | 1.2208115 |\n",
       "\n",
       "\n",
       "$objs\n",
       ":   \n",
       "A matrix: 3 × 5 of type dbl\n",
       "\n",
       "| grpglmnet | grpreg | grplasso | sparsegl | gglasso |\n",
       "|---|---|---|---|---|\n",
       "| 106.4960 | 121.0182 | 106.4958 | 106.4958 | 106.4958 |\n",
       "| 290.7250 | 340.2109 | 290.7251 | 290.7245 | 290.7245 |\n",
       "| 717.3426 | 829.9833 | 717.3431 | 717.3419 | 717.3419 |\n",
       "\n",
       "\n",
       "$n_lmdas\n",
       ":   1. 54\n",
       "2. 53\n",
       "3. 52\n",
       "\n",
       "\n",
       "\n",
       "\n",
       "\n"
      ],
      "text/plain": [
       "$times\n",
       "      grpglmnet     grpreg  grplasso  sparsegl   gglasso\n",
       "[1,] 0.07253239 0.03545208 0.2592905 0.2959534 0.4476103\n",
       "[2,] 0.13637460 0.06978451 0.5932974 0.7928653 1.0632244\n",
       "[3,] 0.16514020 0.15784388 0.8101893 0.8235419 1.2208115\n",
       "\n",
       "$objs\n",
       "     grpglmnet   grpreg grplasso sparsegl  gglasso\n",
       "[1,]  106.4960 121.0182 106.4958 106.4958 106.4958\n",
       "[2,]  290.7250 340.2109 290.7251 290.7245 290.7245\n",
       "[3,]  717.3426 829.9833 717.3431 717.3419 717.3419\n",
       "\n",
       "$n_lmdas\n",
       "[1] 54 53 52\n"
      ]
     },
     "metadata": {},
     "output_type": "display_data"
    }
   ],
   "source": [
    "out.nfr"
   ]
  }
 ],
 "metadata": {
  "kernelspec": {
   "display_name": "R",
   "language": "R",
   "name": "ir"
  },
  "language_info": {
   "codemirror_mode": "r",
   "file_extension": ".r",
   "mimetype": "text/x-r-source",
   "name": "R",
   "pygments_lexer": "r",
   "version": "4.2.2"
  },
  "orig_nbformat": 4
 },
 "nbformat": 4,
 "nbformat_minor": 2
}
