{
 "cells": [
  {
   "cell_type": "code",
   "execution_count": 3,
   "metadata": {
    "vscode": {
     "languageId": "r"
    }
   },
   "outputs": [],
   "source": [
    "library(grpglmnet)\n",
    "library(grpreg)\n",
    "library(grplasso)\n",
    "library(sparsegl)\n",
    "library(gglasso)\n",
    "library(microbenchmark)\n",
    "library(progress)"
   ]
  },
  {
   "cell_type": "code",
   "execution_count": 4,
   "metadata": {
    "vscode": {
     "languageId": "r"
    }
   },
   "outputs": [],
   "source": [
    "objective <- function(X, y, groups, group_sizes, beta, lmda, penalty)\n",
    "{\n",
    "    reg = sum(sapply(1:length(groups), function(i) penalty[i] * sqrt(sum(beta[(groups[i]+1) : (groups[i]+group_sizes[i])] ** 2))))\n",
    "    0.5 * sum((y - X %*% beta) ** 2) + lmda * reg\n",
    "}"
   ]
  },
  {
   "cell_type": "code",
   "execution_count": 5,
   "metadata": {
    "vscode": {
     "languageId": "r"
    }
   },
   "outputs": [],
   "source": [
    "generate.data <- function(\n",
    "    seed,\n",
    "    n, \n",
    "    p,\n",
    "    snr,\n",
    "    group_size\n",
    ")\n",
    "{\n",
    "    set.seed(seed)\n",
    "    X <- matrix(rnorm(n * p), n, p)\n",
    "    X <- apply(X, 2, scale)\n",
    "    beta <- runif(p, -1, 1) \n",
    "    k <- as.integer(3 * snr)\n",
    "    beta[1:(p-k)] <- 0\n",
    "    y <- as.numeric(X %*% beta + rnorm(n))\n",
    "    y <- y - mean(y)\n",
    "    n_full_groups <- as.integer(p / group_size)\n",
    "    groups <- c((0:(n_full_groups-1)) * group_size, p)\n",
    "    group_sizes <- groups[2:length(groups)] - groups[1:length(groups)-1]\n",
    "    groups <- groups[1:length(groups)-1]\n",
    "    list(\n",
    "        X=X,\n",
    "        y=y,\n",
    "        groups=groups,\n",
    "        group_sizes=group_sizes\n",
    "    )\n",
    "}\n",
    "\n",
    "bench.packages <- function(\n",
    "    seed=0,\n",
    "    n=100,\n",
    "    p=100,\n",
    "    snr=1,\n",
    "    group_size=10,\n",
    "    subset=c(\"grpreg\", \"grplasso\", \"sparsegl\", \"gglasso\")\n",
    ")\n",
    "{\n",
    "    ps <- p\n",
    "    times <- matrix(NA, length(ps), 5)\n",
    "    objs <- matrix(NA, length(ps), 5)\n",
    "    n_lmdas <- rep(NA, length(ps))\n",
    "    colnames(times) <- c(\"grpglmnet\", \"grpreg\", \"grplasso\", \"sparsegl\", \"gglasso\")\n",
    "    colnames(objs) <- colnames(times)\n",
    "    \n",
    "    other_fs <- list(\n",
    "        \"grpreg\"=function(X,y,group,lmdas,penalty) grpreg(X, y, group, penalty='grLasso', family='gaussian', lambda=lmdas / length(y), eps=1e-7),\n",
    "        \"grplasso\"=function(X,y,group,lmdas,penalty) grplasso(X, y, index=as.integer(group), lambda=2*lmdas, center=FALSE, standardize=FALSE, model=LinReg(), control=grpl.control(trace=0)),\n",
    "        \"sparsegl\"=function(X,y,group,lmdas,penalty) sparsegl(X, y, group=as.integer(group), family='gaussian', lambda=lmdas / length(y), intercept=FALSE, standardize=FALSE, pf_group=penalty, asparse=0),\n",
    "        \"gglasso\"=function(X,y,group,lmdas,penalty) gglasso(X, y, group=as.integer(group), loss='ls', lambda=lmdas / length(y), pf=penalty)\n",
    "    )\n",
    "\n",
    "    pb <- txtProgressBar(min = 0,      # Minimum value of the progress bar\n",
    "                         max = length(ps), # Maximum value of the progress bar\n",
    "                         style = 3,    # Progress bar style (also available style = 1 and style = 2)\n",
    "                         width = 50,   # Progress bar width. Defaults to getOption(\"width\")\n",
    "                         char = \"=\")   # Character used to create the bar\n",
    "    for (i in 1:length(ps)) {\n",
    "        p <- ps[i]\n",
    "\n",
    "        # generate data\n",
    "        data <- generate.data(seed, n, p, snr, group_size)\n",
    "        X <- data$X\n",
    "        y <- data$y\n",
    "        groups <- data$groups\n",
    "        group_sizes <- data$group_sizes\n",
    "        penalty <- sqrt(group_sizes)\n",
    "        \n",
    "        # run mine\n",
    "        mine_n_times <- ifelse(p <= 2**8, 5L, 1L)\n",
    "        times[i, 1] <- summary(microbenchmark({grpglmnet.out <- group_basil(X, y, groups, group_sizes, penalty=penalty, method='naive')}, times=mine_n_times, unit='ns'))$min\n",
    "        lmdas <- grpglmnet.out$lmdas\n",
    "        n_lmdas[i] <- length(lmdas)\n",
    "\n",
    "        # prepare input for other packages\n",
    "        group <- as.factor(rep(1:length(groups), times=group_sizes))\n",
    "\n",
    "        # run other packages\n",
    "        other_outs <- list()\n",
    "        for (ss in subset) {\n",
    "            times[i, ss] <- summary(microbenchmark({other_outs[[ss]] <- other_fs[[ss]](X, y, group, lmdas, penalty)}, times=1L, unit='ns'))$mean\n",
    "        }\n",
    "\n",
    "        # save last objectives\n",
    "        last_idx <- length(lmdas)\n",
    "        objs[i, 1] <- objective(X, y, groups, group_sizes, grpglmnet.out$beta[,last_idx], lmdas[last_idx], penalty)\n",
    "        for (ss in subset) {\n",
    "            if (ss == \"grpreg\") {\n",
    "                if (last_idx <= dim(other_outs[[ss]]$beta)[2]) {\n",
    "                    objs[i, ss] <- objective(X, y, groups, group_sizes, other_outs[[ss]]$beta[2:nrow(other_outs[[ss]]$beta), last_idx], lmdas[last_idx], penalty)\n",
    "                }\n",
    "            } else if (ss == \"grplasso\") {\n",
    "                objs[i, ss] <- objective(X, y, groups, group_sizes, other_outs[[ss]]$coefficients[, last_idx], lmdas[last_idx], penalty)\n",
    "            } else {\n",
    "                objs[i, ss] <- objective(X, y, groups, group_sizes, other_outs[[ss]]$beta[, last_idx], lmdas[last_idx], penalty)\n",
    "            }\n",
    "        }\n",
    "        \n",
    "        setTxtProgressBar(pb, i)\n",
    "    }\n",
    "    close(pb)\n",
    "    \n",
    "    times <- times * 1e-9\n",
    "    \n",
    "    list(\n",
    "        times=times,\n",
    "        objs=objs,\n",
    "        n_lmdas=n_lmdas\n",
    "    )\n",
    "}"
   ]
  },
  {
   "cell_type": "code",
   "execution_count": 6,
   "metadata": {
    "vscode": {
     "languageId": "r"
    }
   },
   "outputs": [
    {
     "name": "stdout",
     "output_type": "stream",
     "text": [
      "  |==================================================| 100%\n"
     ]
    }
   ],
   "source": [
    "p <- 2 ** (4 : 16)\n",
    "out.snr_1 <- bench.packages(p=p)"
   ]
  },
  {
   "cell_type": "code",
   "execution_count": 7,
   "metadata": {
    "vscode": {
     "languageId": "r"
    }
   },
   "outputs": [
    {
     "name": "stdout",
     "output_type": "stream",
     "text": [
      "  |==================================================| 100%\n"
     ]
    }
   ],
   "source": [
    "p.large <- 2 ** (17 : 18)\n",
    "out.large.snr_1 <- bench.packages(p=p.large, subset=c(\"sparsegl\", \"gglasso\", \"grpreg\"))"
   ]
  },
  {
   "cell_type": "code",
   "execution_count": 8,
   "metadata": {
    "vscode": {
     "languageId": "r"
    }
   },
   "outputs": [
    {
     "name": "stdout",
     "output_type": "stream",
     "text": [
      "  |==================================================| 100%\n"
     ]
    }
   ],
   "source": [
    "p.large2 <- 2 ** (19 : 20)\n",
    "out.large2.snr_1 <- bench.packages(p=p.large2, subset=c(\"sparsegl\", \"gglasso\"))"
   ]
  },
  {
   "cell_type": "code",
   "execution_count": 9,
   "metadata": {
    "vscode": {
     "languageId": "r"
    }
   },
   "outputs": [],
   "source": [
    "times.snr_1 <- rbind(out.snr_1$times, out.large.snr_1$times, out.large2.snr_1$times)\n",
    "objs.snr_1 <- rbind(out.snr_1$objs, out.large.snr_1$objs, out.large2.snr_1$objs)\n",
    "n_lmdas.snr_1 <- c(out.snr_1$n_lmdas, out.large.snr_1$n_lmdas, out.large2.snr_1$n_lmdas)"
   ]
  },
  {
   "cell_type": "code",
   "execution_count": 10,
   "metadata": {
    "vscode": {
     "languageId": "r"
    }
   },
   "outputs": [],
   "source": [
    "write.table(times.snr_1, \"data/gl_packages_time_snr_1.csv\", sep=',', row.names=FALSE, col.names=FALSE)\n",
    "write.table(objs.snr_1, \"data/gl_packages_obj_snr_1.csv\", sep=',', row.names=FALSE, col.names=FALSE)\n",
    "write.table(n_lmdas.snr_1, \"data/gl_packages_n_lmda_snr_1.csv\", sep=',', row.names=FALSE, col.names=FALSE)"
   ]
  },
  {
   "attachments": {},
   "cell_type": "markdown",
   "metadata": {},
   "source": [
    "Now try for SNR = 1/3"
   ]
  },
  {
   "cell_type": "code",
   "execution_count": 20,
   "metadata": {
    "vscode": {
     "languageId": "r"
    }
   },
   "outputs": [
    {
     "name": "stdout",
     "output_type": "stream",
     "text": [
      "  |==================================================| 100%\n"
     ]
    }
   ],
   "source": [
    "p <- 2 ** (4 : 16)\n",
    "out.snr_03 <- bench.packages(p=p, snr=1/3)"
   ]
  },
  {
   "cell_type": "code",
   "execution_count": 12,
   "metadata": {
    "vscode": {
     "languageId": "r"
    }
   },
   "outputs": [
    {
     "name": "stdout",
     "output_type": "stream",
     "text": [
      "  |==================================================| 100%\n"
     ]
    }
   ],
   "source": [
    "p.large <- 2 ** (17 : 18)\n",
    "out.large.snr_03 <- bench.packages(p=p.large, snr=1/3, subset=c(\"sparsegl\", \"gglasso\", \"grpreg\"))"
   ]
  },
  {
   "cell_type": "code",
   "execution_count": 13,
   "metadata": {
    "vscode": {
     "languageId": "r"
    }
   },
   "outputs": [
    {
     "name": "stdout",
     "output_type": "stream",
     "text": [
      "  |==================================================| 100%\n"
     ]
    }
   ],
   "source": [
    "p.large2 <- 2 ** (19 : 20)\n",
    "out.large2.snr_03 <- bench.packages(p=p.large2, snr=1/3, subset=c(\"sparsegl\", \"gglasso\"))"
   ]
  },
  {
   "cell_type": "code",
   "execution_count": 21,
   "metadata": {
    "vscode": {
     "languageId": "r"
    }
   },
   "outputs": [],
   "source": [
    "times.snr_03 <- rbind(out.snr_03$times, out.large.snr_03$times, out.large2.snr_03$times)\n",
    "objs.snr_03 <- rbind(out.snr_03$objs, out.large.snr_03$objs, out.large2.snr_03$objs)\n",
    "n_lmdas.snr_03 <- c(out.snr_03$n_lmdas, out.large.snr_03$n_lmdas, out.large2.snr_03$n_lmdas)"
   ]
  },
  {
   "cell_type": "code",
   "execution_count": 22,
   "metadata": {
    "vscode": {
     "languageId": "r"
    }
   },
   "outputs": [],
   "source": [
    "write.table(times.snr_03, \"data/gl_packages_time_snr_03.csv\", sep=',', row.names=FALSE, col.names=FALSE)\n",
    "write.table(objs.snr_03, \"data/gl_packages_obj_snr_03.csv\", sep=',', row.names=FALSE, col.names=FALSE)\n",
    "write.table(n_lmdas.snr_03, \"data/gl_packages_n_lmda_snr_03.csv\", sep=',', row.names=FALSE, col.names=FALSE)"
   ]
  },
  {
   "attachments": {},
   "cell_type": "markdown",
   "metadata": {},
   "source": [
    "Try for larger $n$ just to see what happens."
   ]
  },
  {
   "cell_type": "code",
   "execution_count": 16,
   "metadata": {
    "vscode": {
     "languageId": "r"
    }
   },
   "outputs": [],
   "source": [
    "n = 10000"
   ]
  },
  {
   "cell_type": "code",
   "execution_count": 17,
   "metadata": {
    "vscode": {
     "languageId": "r"
    }
   },
   "outputs": [
    {
     "name": "stdout",
     "output_type": "stream",
     "text": [
      "  |==================================================| 100%\n"
     ]
    }
   ],
   "source": [
    "p <- 2 ** (4 : 14)\n",
    "out.snr_1_nl <- bench.packages(n=n, p=p)"
   ]
  },
  {
   "cell_type": "code",
   "execution_count": 18,
   "metadata": {
    "vscode": {
     "languageId": "r"
    }
   },
   "outputs": [],
   "source": [
    "times.snr_1_nl <- rbind(out.snr_1_nl$times)#, out.large.snr_1_nl$times, out.large2.snr_1_nl$times)\n",
    "objs.snr_1_nl <- rbind(out.snr_1_nl$objs)#, out.large.snr_1_nl$objs, out.large2.snr_1_nl$objs)\n",
    "n_lmdas.snr_1_nl <- c(out.snr_1_nl$n_lmdas)#, out.large.snr_1_nl$n_lmdas, out.large2.snr_1_nl$n_lmdas)"
   ]
  },
  {
   "cell_type": "code",
   "execution_count": 19,
   "metadata": {
    "vscode": {
     "languageId": "r"
    }
   },
   "outputs": [],
   "source": [
    "write.table(times.snr_1_nl, \"data/gl_packages_time_snr_1_nl.csv\", sep=',', row.names=FALSE, col.names=FALSE)\n",
    "write.table(objs.snr_1_nl, \"data/gl_packages_obj_snr_1_nl.csv\", sep=',', row.names=FALSE, col.names=FALSE)\n",
    "write.table(n_lmdas.snr_1_nl, \"data/gl_packages_n_lmda_snr_1_nl.csv\", sep=',', row.names=FALSE, col.names=FALSE)"
   ]
  }
 ],
 "metadata": {
  "kernelspec": {
   "display_name": "R",
   "language": "R",
   "name": "ir"
  },
  "language_info": {
   "codemirror_mode": "r",
   "file_extension": ".r",
   "mimetype": "text/x-r-source",
   "name": "R",
   "pygments_lexer": "r",
   "version": "4.2.2"
  },
  "orig_nbformat": 4
 },
 "nbformat": 4,
 "nbformat_minor": 2
}
