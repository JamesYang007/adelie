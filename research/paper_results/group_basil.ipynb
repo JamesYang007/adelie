{
 "cells": [
  {
   "cell_type": "code",
   "execution_count": 1,
   "metadata": {},
   "outputs": [],
   "source": [
    "%load_ext autoreload\n",
    "%autoreload 2"
   ]
  },
  {
   "cell_type": "code",
   "execution_count": 2,
   "metadata": {},
   "outputs": [],
   "source": [
    "import pyglstudy as gl\n",
    "from pyglstudy.group_lasso import *\n",
    "import numpy as np"
   ]
  },
  {
   "cell_type": "code",
   "execution_count": 3,
   "metadata": {},
   "outputs": [],
   "source": [
    "n = 1000\n",
    "p = 100000\n",
    "n_groups = int(p/100)\n",
    "alpha = 1.0\n",
    "seed = 0\n",
    "\n",
    "np.random.seed(seed)\n",
    "X, beta, y, groups, group_sizes = generate_group_lasso_data(n, p, n_groups).values()"
   ]
  },
  {
   "cell_type": "code",
   "execution_count": 8,
   "metadata": {},
   "outputs": [],
   "source": [
    "X_tilde = np.copy(X)"
   ]
  },
  {
   "cell_type": "code",
   "execution_count": 9,
   "metadata": {},
   "outputs": [],
   "source": [
    "out = gl.transform_data(X_tilde, groups, group_sizes, 16)"
   ]
  },
  {
   "cell_type": "code",
   "execution_count": 10,
   "metadata": {},
   "outputs": [
    {
     "data": {
      "text/plain": [
       "1.8441394784158842e-09"
      ]
     },
     "execution_count": 10,
     "metadata": {},
     "output_type": "execute_result"
    }
   ],
   "source": [
    "# compute cost-per-action:\n",
    "2.4 / (n * np.sum(np.minimum(n, group_sizes) * group_sizes)) * 16"
   ]
  },
  {
   "cell_type": "code",
   "execution_count": 11,
   "metadata": {},
   "outputs": [
    {
     "data": {
      "text/plain": [
       "(array([1.21188665e+04, 9.33702302e-01, 9.06024963e-01, ...,\n",
       "        3.51062727e-01, 3.29342882e-01, 3.06440714e-01]),\n",
       " array([1.21188665e+04, 9.33702302e-01, 9.06024963e-01, ...,\n",
       "        3.51062727e-01, 3.29342882e-01, 3.06440714e-01]))"
      ]
     },
     "execution_count": 11,
     "metadata": {},
     "output_type": "execute_result"
    }
   ],
   "source": [
    "np.linalg.norm(X_tilde, axis=0)**2, out['A_diag']"
   ]
  }
 ],
 "metadata": {
  "kernelspec": {
   "display_name": "glstudy",
   "language": "python",
   "name": "python3"
  },
  "language_info": {
   "codemirror_mode": {
    "name": "ipython",
    "version": 3
   },
   "file_extension": ".py",
   "mimetype": "text/x-python",
   "name": "python",
   "nbconvert_exporter": "python",
   "pygments_lexer": "ipython3",
   "version": "3.10.9"
  },
  "orig_nbformat": 4
 },
 "nbformat": 4,
 "nbformat_minor": 2
}
