{
 "cells": [
  {
   "cell_type": "code",
   "execution_count": 1,
   "metadata": {},
   "outputs": [],
   "source": [
    "import numpy as np"
   ]
  },
  {
   "cell_type": "code",
   "execution_count": 16,
   "metadata": {},
   "outputs": [],
   "source": [
    "def reconstruct(groups, group_sizes, strong_set, strong_order, strong_begins, strong_beta, indices, vals):\n",
    "    out = np.copy(strong_beta)\n",
    "\n",
    "    if len(vals) == 0:\n",
    "        out[...] = 0\n",
    "        return out\n",
    "    \n",
    "    outer_pos = 0\n",
    "    inner_pos = 0\n",
    "    so = strong_order[outer_pos]\n",
    "    group = groups[strong_set[so]]\n",
    "    group_size = group_sizes[strong_set[so]]\n",
    "\n",
    "    for idx, val in zip(indices, vals):\n",
    "        while outer_pos < len(strong_set):\n",
    "            begin_ = strong_begins[so] + inner_pos\n",
    "            inner_pos = min(group_size, idx - group)\n",
    "            out[begin_ : strong_begins[so] + inner_pos] = 0\n",
    "            \n",
    "            do_break = False\n",
    "            if inner_pos < group_size:\n",
    "                out[strong_begins[so] + inner_pos] = val\n",
    "                inner_pos += 1\n",
    "                do_break = True\n",
    "\n",
    "            if inner_pos == group_size:\n",
    "                inner_pos = 0\n",
    "                outer_pos += 1\n",
    "\n",
    "                if outer_pos < len(strong_set):\n",
    "                    so = strong_order[outer_pos]\n",
    "                    group = groups[strong_set[so]]\n",
    "                    group_size = group_sizes[strong_set[so]]\n",
    "                    \n",
    "            if do_break: break\n",
    "\n",
    "    if outer_pos == len(strong_set):\n",
    "        return out\n",
    "\n",
    "    begin_ = strong_begins[so] + inner_pos\n",
    "    out[begin_ : strong_begins[so] + group_size] = 0\n",
    "    outer_pos += 1\n",
    "        \n",
    "    while outer_pos < len(strong_set):\n",
    "        so = strong_order[outer_pos]\n",
    "        group_size = group_sizes[strong_set[so]]\n",
    "        begin_ = strong_begins[so]\n",
    "        out[begin_ : begin_ + group_size] = 0\n",
    "        outer_pos += 1\n",
    "        \n",
    "    return out"
   ]
  },
  {
   "cell_type": "code",
   "execution_count": 17,
   "metadata": {},
   "outputs": [],
   "source": [
    "def checker(p, indices, vals, strong_set, groups, group_sizes):\n",
    "    out = np.zeros(p)\n",
    "    for i, v in zip(indices, vals):\n",
    "        out[i] = v\n",
    "    \n",
    "    strong_beta = np.concatenate([\n",
    "        out[groups[i] : (groups[i] + group_sizes[i])]\n",
    "        for i in strong_set\n",
    "    ])\n",
    "    return strong_beta, out"
   ]
  },
  {
   "cell_type": "code",
   "execution_count": 18,
   "metadata": {},
   "outputs": [],
   "source": [
    "np.random.seed(0)\n",
    "\n",
    "groups = np.array([0, 2, 5, 10, 21, 25, 30, 40, 50, 80], dtype=int)\n",
    "strong_set = np.array([3, 2, 0, 5, 7, 8], dtype=int)\n",
    "\n",
    "group_sizes = (groups[1:] - groups[:-1])\n",
    "groups = groups[:-1]\n",
    "p = np.sum(group_sizes, dtype=int)\n",
    "strong_order = np.argsort(strong_set)\n",
    "strong_begins = np.cumsum([0] + [group_sizes[i] for i in strong_set])[:-1]\n",
    "strong_beta = np.concatenate(\n",
    "    [\n",
    "        np.random.normal(0, 1, (group_sizes[i],))\n",
    "        for i in strong_set\n",
    "    ]\n",
    ")\n",
    "\n",
    "indices = np.sort(np.concatenate([np.arange(groups[s], groups[s] + group_sizes[s]) for s in strong_set]))\n",
    "indices_sub = np.sort(np.random.choice(indices, size=7, replace=False))\n",
    "vals_sub = np.array(np.random.normal(0, 1, len(indices_sub)), dtype=int)\n",
    "expected = checker(p, indices_sub, vals_sub, strong_set, groups, group_sizes)[0]"
   ]
  },
  {
   "cell_type": "code",
   "execution_count": 19,
   "metadata": {},
   "outputs": [],
   "source": [
    "strong_set = [19, 39, 60, 77, 90, 37, 40, 50, 53, 70, 76, 89]\n",
    "strong_begins = [0, 1, 2, 3, 4, 5, 6, 7, 8, 9, 10, 11]\n",
    "strong_order = np.argsort(strong_set)\n",
    "groups = [ 0,  1,  2,  3,  4,  5,  6,  7,  8,  9, 10, 11, 12, 13, 14, 15, 16,\n",
    "        17, 18, 19, 20, 21, 22, 23, 24, 25, 26, 27, 28, 29, 30, 31, 32, 33,\n",
    "        34, 35, 36, 37, 38, 39, 40, 41, 42, 43, 44, 45, 46, 47, 48, 49, 50,\n",
    "        51, 52, 53, 54, 55, 56, 57, 58, 59, 60, 61, 62, 63, 64, 65, 66, 67,\n",
    "        68, 69, 70, 71, 72, 73, 74, 75, 76, 77, 78, 79, 80, 81, 82, 83, 84,\n",
    "        85, 86, 87, 88, 89, 90, 91, 92, 93, 94, 95, 96, 97, 98, 99]\n",
    "group_sizes = [1, 1, 1, 1, 1, 1, 1, 1, 1, 1, 1, 1, 1, 1, 1, 1, 1, 1, 1, 1, 1, 1,\n",
    "        1, 1, 1, 1, 1, 1, 1, 1, 1, 1, 1, 1, 1, 1, 1, 1, 1, 1, 1, 1, 1, 1,\n",
    "        1, 1, 1, 1, 1, 1, 1, 1, 1, 1, 1, 1, 1, 1, 1, 1, 1, 1, 1, 1, 1, 1,\n",
    "        1, 1, 1, 1, 1, 1, 1, 1, 1, 1, 1, 1, 1, 1, 1, 1, 1, 1, 1, 1, 1, 1,\n",
    "        1, 1, 1, 1, 1, 1, 1, 1, 1, 1, 1, 1]\n",
    "strong_beta = [0.35652244550831164,\n",
    "   -0.43441266168717885,\n",
    "   -0.5331579888034386,\n",
    "   0.32242026434983856,\n",
    "   0.3463288813909085,\n",
    "   0.0,\n",
    "   0.11507676683122493,\n",
    "   -0.1314169595298529,\n",
    "   -0.10279881846983285,\n",
    "   0.04044473116685074,\n",
    "   -0.014382451125130237,\n",
    "   0.06920045903500745]\n",
    "\n",
    "indices_sub = [19, 37, 39, 40, 50, 53, 60, 70, 76, 77, 89, 90]\n",
    "vals_sub = np.array([[ 0.35652245],\n",
    "[-0.43441266],\n",
    "[-0.53315799],\n",
    "[ 0.32242026],\n",
    "[ 0.34632888],\n",
    "[ 0.07129225],\n",
    "[ 0.11507677],\n",
    "[-0.13141696],\n",
    "[-0.10279882],\n",
    "[ 0.04044473],\n",
    "[-0.01438245],\n",
    "[ 0.06920046]])[:,0]\n",
    "\n",
    "expected = np.array([[ 0.35652245],\n",
    "        [-0.43441266],\n",
    "        [-0.53315799],\n",
    "        [ 0.32242026],\n",
    "        [ 0.34632888],\n",
    "        [ 0.07129225],\n",
    "        [ 0.11507677],\n",
    "        [-0.13141696],\n",
    "        [-0.10279882],\n",
    "        [ 0.04044473],\n",
    "        [-0.01438245],\n",
    "        [ 0.06920046]])[np.argsort(strong_order), 0]\n",
    "        \n",
    "assert len(groups) == len(group_sizes)\n",
    "assert len(strong_set) == len(strong_begins)\n",
    "assert len(strong_set) == len(strong_order)\n",
    "assert len(strong_set) == len(strong_beta)\n",
    "assert len(indices_sub) == len(vals_sub)\n",
    "assert len(strong_beta) == len(expected)"
   ]
  },
  {
   "cell_type": "code",
   "execution_count": 20,
   "metadata": {},
   "outputs": [
    {
     "data": {
      "text/plain": [
       "(True,\n",
       " array([ 0.35652245, -0.53315799,  0.11507677,  0.04044473,  0.06920046,\n",
       "        -0.43441266,  0.32242026,  0.34632888,  0.07129225, -0.13141696,\n",
       "        -0.10279882, -0.01438245]),\n",
       " array([ 0.35652245, -0.53315799,  0.11507677,  0.04044473,  0.06920046,\n",
       "        -0.43441266,  0.32242026,  0.34632888,  0.07129225, -0.13141696,\n",
       "        -0.10279882, -0.01438245]))"
      ]
     },
     "execution_count": 20,
     "metadata": {},
     "output_type": "execute_result"
    }
   ],
   "source": [
    "actual = reconstruct(\n",
    "    groups, group_sizes, strong_set, strong_order, strong_begins, strong_beta, indices_sub, vals_sub\n",
    ")\n",
    "np.all(actual == expected), expected, actual"
   ]
  }
 ],
 "metadata": {
  "kernelspec": {
   "display_name": "glstudy",
   "language": "python",
   "name": "python3"
  },
  "language_info": {
   "codemirror_mode": {
    "name": "ipython",
    "version": 3
   },
   "file_extension": ".py",
   "mimetype": "text/x-python",
   "name": "python",
   "nbconvert_exporter": "python",
   "pygments_lexer": "ipython3",
   "version": "3.10.9"
  },
  "orig_nbformat": 4,
  "vscode": {
   "interpreter": {
    "hash": "42b148fc15e97297c51d9abf65b4314c9885f7ea4814f78e4ca85850410f3b39"
   }
  }
 },
 "nbformat": 4,
 "nbformat_minor": 2
}
