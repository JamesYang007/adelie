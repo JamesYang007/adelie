{
 "cells": [
  {
   "cell_type": "code",
   "execution_count": 1,
   "metadata": {},
   "outputs": [],
   "source": [
    "import numpy as np"
   ]
  },
  {
   "cell_type": "code",
   "execution_count": 229,
   "metadata": {},
   "outputs": [],
   "source": [
    "def reconstruct(groups, group_sizes, strong_set, strong_order, strong_begins, strong_beta, indices, vals):\n",
    "    out = np.copy(strong_beta)\n",
    "    outer_pos = 0\n",
    "    inner_pos = 0\n",
    "    so = strong_order[outer_pos]\n",
    "    group = groups[strong_set[so]]\n",
    "    group_size = group_sizes[strong_set[so]]\n",
    "\n",
    "    for i, v in zip(indices, vals):\n",
    "        while outer_pos < len(strong_set):\n",
    "            out[strong_begins[so] + inner_pos : strong_begins[so] + min(group_size, i - group)] = 0\n",
    "\n",
    "            if i < group + group_size:\n",
    "                inner_pos = i - group\n",
    "                out[strong_begins[so] + inner_pos] = v\n",
    "                inner_pos += 1\n",
    "                break\n",
    "\n",
    "            inner_pos = 0\n",
    "            outer_pos += 1\n",
    "            if outer_pos < len(strong_set):\n",
    "                so = strong_order[outer_pos]\n",
    "                group = groups[strong_set[so]]\n",
    "                group_size = group_sizes[strong_set[so]]\n",
    "\n",
    "    if outer_pos == len(strong_set):\n",
    "        return out\n",
    "\n",
    "    out[(strong_begins[so] + inner_pos) : (strong_begins[so] + group_size)] = 0\n",
    "    outer_pos += 1\n",
    "        \n",
    "    # zero out the rest\n",
    "    while outer_pos < len(strong_set):\n",
    "        out[strong_begins[so] : (strong_begins[so] + group_size)] = 0\n",
    "        outer_pos += 1\n",
    "        if outer_pos < len(strong_set):\n",
    "            so = strong_order[outer_pos]\n",
    "            group_size = group_sizes[strong_set[so]]\n",
    "        \n",
    "    return out"
   ]
  },
  {
   "cell_type": "code",
   "execution_count": 230,
   "metadata": {},
   "outputs": [],
   "source": [
    "def checker(p, indices, vals, strong_set, groups, group_sizes):\n",
    "    out = np.zeros(p)\n",
    "    for i, v in zip(indices, vals):\n",
    "        out[i] = v\n",
    "    \n",
    "    strong_beta = np.concatenate([\n",
    "        out[groups[i] : (groups[i] + group_sizes[i])]\n",
    "        for i in strong_set\n",
    "    ])\n",
    "    return strong_beta, out"
   ]
  },
  {
   "cell_type": "code",
   "execution_count": 234,
   "metadata": {},
   "outputs": [],
   "source": [
    "np.random.seed(0)\n",
    "\n",
    "groups = np.array([0, 2, 5, 10, 21, 25, 30, 40, 50, 80], dtype=int)\n",
    "strong_set = np.array([3, 2, 0, 5, 7, 8], dtype=int)\n",
    "\n",
    "group_sizes = (groups[1:] - groups[:-1])\n",
    "groups = groups[:-1]\n",
    "p = np.sum(group_sizes, dtype=int)\n",
    "strong_order = np.argsort(strong_set)\n",
    "strong_begins = np.cumsum([0] + [group_sizes[i] for i in strong_set])[:-1]\n",
    "strong_beta = np.concatenate(\n",
    "    [\n",
    "        np.random.normal(0, 1, (group_sizes[i],))\n",
    "        for i in strong_set\n",
    "    ]\n",
    ")\n",
    "\n",
    "indices = np.sort(np.concatenate([np.arange(groups[s], groups[s] + group_sizes[s]) for s in strong_set]))\n",
    "indices_sub = np.sort(np.random.choice(indices, size=7, replace=False))\n",
    "vals_sub = np.array(np.random.normal(0, 1, len(indices_sub)), dtype=int)\n",
    "expected = checker(p, indices_sub, vals_sub, strong_set, groups, group_sizes)[0]"
   ]
  },
  {
   "cell_type": "code",
   "execution_count": 235,
   "metadata": {},
   "outputs": [
    {
     "data": {
      "text/plain": [
       "array([-1, -1,  0,  1, -1, -2, -2])"
      ]
     },
     "execution_count": 235,
     "metadata": {},
     "output_type": "execute_result"
    }
   ],
   "source": [
    "vals_sub"
   ]
  },
  {
   "cell_type": "code",
   "execution_count": 236,
   "metadata": {},
   "outputs": [
    {
     "data": {
      "text/plain": [
       "(True,\n",
       " array([-1.,  0.,  0.,  0.,  0.,  0.,  0.,  0.,  0.,  0.,  0.,  0.,  0.,\n",
       "         0.,  0.,  0.,  0.,  0.,  0.,  0.,  0.,  0.,  0., -1.,  0.,  0.,\n",
       "         0.,  0.,  0.,  0.,  0.,  1.,  0.,  0.,  0.,  0.,  0.,  0.,  0.,\n",
       "         0.,  0.,  0.,  0.,  0.,  0.,  0.,  0.,  0.,  0.,  0.,  0., -1.,\n",
       "         0.,  0.,  0.,  0., -2.,  0.,  0.,  0., -2.,  0.,  0.]),\n",
       " array([-1.,  0.,  0.,  0.,  0.,  0.,  0.,  0.,  0.,  0.,  0.,  0.,  0.,\n",
       "         0.,  0.,  0.,  0.,  0.,  0.,  0.,  0.,  0.,  0., -1.,  0.,  0.,\n",
       "         0.,  0.,  0.,  0.,  0.,  1.,  0.,  0.,  0.,  0.,  0.,  0.,  0.,\n",
       "         0.,  0.,  0.,  0.,  0.,  0.,  0.,  0.,  0.,  0.,  0.,  0., -1.,\n",
       "         0.,  0.,  0.,  0., -2.,  0.,  0.,  0., -2.,  0.,  0.]))"
      ]
     },
     "execution_count": 236,
     "metadata": {},
     "output_type": "execute_result"
    }
   ],
   "source": [
    "actual = reconstruct(\n",
    "    groups, group_sizes, strong_set, strong_order, strong_begins, strong_beta, indices_sub, vals_sub\n",
    ")\n",
    "np.all(actual == expected), expected, actual"
   ]
  }
 ],
 "metadata": {
  "kernelspec": {
   "display_name": "glstudy",
   "language": "python",
   "name": "python3"
  },
  "language_info": {
   "codemirror_mode": {
    "name": "ipython",
    "version": 3
   },
   "file_extension": ".py",
   "mimetype": "text/x-python",
   "name": "python",
   "nbconvert_exporter": "python",
   "pygments_lexer": "ipython3",
   "version": "3.10.9"
  },
  "orig_nbformat": 4
 },
 "nbformat": 4,
 "nbformat_minor": 2
}
