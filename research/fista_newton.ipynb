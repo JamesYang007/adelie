{
 "cells": [
  {
   "attachments": {},
   "cell_type": "markdown",
   "metadata": {},
   "source": [
    "# FISTA vs. Newton"
   ]
  },
  {
   "attachments": {},
   "cell_type": "markdown",
   "metadata": {},
   "source": [
    "FISTA is a popular algorithm to fit group-lasso and used in many existing packages.\n",
    "We have an alternative approach using a Newton method to solve for the root of a convex function. This notebook studies the accuracy and speed differences between the two."
   ]
  },
  {
   "cell_type": "code",
   "execution_count": 2,
   "metadata": {
    "vscode": {
     "languageId": "r"
    }
   },
   "outputs": [],
   "source": [
    "library(glstudy)"
   ]
  },
  {
   "cell_type": "code",
   "execution_count": 3,
   "metadata": {
    "vscode": {
     "languageId": "r"
    }
   },
   "outputs": [],
   "source": [
    "p <- 10"
   ]
  },
  {
   "cell_type": "code",
   "execution_count": 4,
   "metadata": {
    "vscode": {
     "languageId": "r"
    }
   },
   "outputs": [],
   "source": [
    "set.seed(0)\n",
    "L <- runif(p, 0, 10)\n",
    "v <- rnorm(p)\n",
    "alpha <- 0.9\n",
    "lmda <- 3.5\n",
    "l1 <- alpha * lmda\n",
    "l2 <- (1-alpha) / 2 * lmda"
   ]
  },
  {
   "cell_type": "code",
   "execution_count": 6,
   "metadata": {
    "vscode": {
     "languageId": "r"
    }
   },
   "outputs": [
    {
     "data": {
      "text/html": [
       "3.43727497390543"
      ],
      "text/latex": [
       "3.43727497390543"
      ],
      "text/markdown": [
       "3.43727497390543"
      ],
      "text/plain": [
       "[1] 3.437275"
      ]
     },
     "metadata": {},
     "output_type": "display_data"
    },
    {
     "data": {
      "text/html": [
       "3.15"
      ],
      "text/latex": [
       "3.15"
      ],
      "text/markdown": [
       "3.15"
      ],
      "text/plain": [
       "[1] 3.15"
      ]
     },
     "metadata": {},
     "output_type": "display_data"
    }
   ],
   "source": [
    "sqrt(sum(v**2)) \n",
    "l1"
   ]
  },
  {
   "cell_type": "code",
   "execution_count": 8,
   "metadata": {
    "vscode": {
     "languageId": "r"
    }
   },
   "outputs": [
    {
     "data": {
      "text/html": [
       "<dl>\n",
       "\t<dt>$beta</dt>\n",
       "\t\t<dd><style>\n",
       ".list-inline {list-style: none; margin:0; padding: 0}\n",
       ".list-inline>li {display: inline-block}\n",
       ".list-inline>li:not(:last-child)::after {content: \"\\00b7\"; padding: 0 .5ex}\n",
       "</style>\n",
       "<ol class=list-inline><li>-0.0153890015998871</li><li>-0.00990404552305295</li><li>-0.00310812811600011</li><li>-5.95599048057216e-05</li><li>0.0240025303443431</li><li>0.00820027154386736</li><li>-0.00798329489613505</li><li>-0.0114140208519211</li><li>-0.00296247936096721</li><li>-0.00307226379666913</li></ol>\n",
       "</dd>\n",
       "\t<dt>$iters</dt>\n",
       "\t\t<dd>4</dd>\n",
       "</dl>\n"
      ],
      "text/latex": [
       "\\begin{description}\n",
       "\\item[\\$beta] \\begin{enumerate*}\n",
       "\\item -0.0153890015998871\n",
       "\\item -0.00990404552305295\n",
       "\\item -0.00310812811600011\n",
       "\\item -5.95599048057216e-05\n",
       "\\item 0.0240025303443431\n",
       "\\item 0.00820027154386736\n",
       "\\item -0.00798329489613505\n",
       "\\item -0.0114140208519211\n",
       "\\item -0.00296247936096721\n",
       "\\item -0.00307226379666913\n",
       "\\end{enumerate*}\n",
       "\n",
       "\\item[\\$iters] 4\n",
       "\\end{description}\n"
      ],
      "text/markdown": [
       "$beta\n",
       ":   1. -0.0153890015998871\n",
       "2. -0.00990404552305295\n",
       "3. -0.00310812811600011\n",
       "4. -5.95599048057216e-05\n",
       "5. 0.0240025303443431\n",
       "6. 0.00820027154386736\n",
       "7. -0.00798329489613505\n",
       "8. -0.0114140208519211\n",
       "9. -0.00296247936096721\n",
       "10. -0.00307226379666913\n",
       "\n",
       "\n",
       "\n",
       "$iters\n",
       ":   4\n",
       "\n",
       "\n"
      ],
      "text/plain": [
       "$beta\n",
       " [1] -0.0153890016 -0.0099040455 -0.0031081281 -0.0000595599  0.0240025303\n",
       " [6]  0.0082002715 -0.0079832949 -0.0114140209 -0.0029624794 -0.0030722638\n",
       "\n",
       "$iters\n",
       "[1] 4\n"
      ]
     },
     "metadata": {},
     "output_type": "display_data"
    }
   ],
   "source": [
    "out.newt <- newton_solver(L, v, l1, l2, tol=1e-8, max_iters=1000)\n",
    "out.newt"
   ]
  },
  {
   "cell_type": "code",
   "execution_count": 12,
   "metadata": {
    "vscode": {
     "languageId": "r"
    }
   },
   "outputs": [
    {
     "data": {
      "text/html": [
       "<style>\n",
       ".list-inline {list-style: none; margin:0; padding: 0}\n",
       ".list-inline>li {display: inline-block}\n",
       ".list-inline>li:not(:last-child)::after {content: \"\\00b7\"; padding: 0 .5ex}\n",
       "</style>\n",
       "<ol class=list-inline><li>7.63278329429795e-17</li><li>5.03069808033274e-17</li><li>1.60461921527855e-17</li><li>2.91379333855479e-19</li><li>-1.17961196366423e-16</li><li>-4.16333634234434e-17</li><li>3.98986399474666e-17</li><li>5.3776427755281e-17</li><li>1.47451495458029e-17</li><li>1.51788304147971e-17</li></ol>\n"
      ],
      "text/latex": [
       "\\begin{enumerate*}\n",
       "\\item 7.63278329429795e-17\n",
       "\\item 5.03069808033274e-17\n",
       "\\item 1.60461921527855e-17\n",
       "\\item 2.91379333855479e-19\n",
       "\\item -1.17961196366423e-16\n",
       "\\item -4.16333634234434e-17\n",
       "\\item 3.98986399474666e-17\n",
       "\\item 5.3776427755281e-17\n",
       "\\item 1.47451495458029e-17\n",
       "\\item 1.51788304147971e-17\n",
       "\\end{enumerate*}\n"
      ],
      "text/markdown": [
       "1. 7.63278329429795e-17\n",
       "2. 5.03069808033274e-17\n",
       "3. 1.60461921527855e-17\n",
       "4. 2.91379333855479e-19\n",
       "5. -1.17961196366423e-16\n",
       "6. -4.16333634234434e-17\n",
       "7. 3.98986399474666e-17\n",
       "8. 5.3776427755281e-17\n",
       "9. 1.47451495458029e-17\n",
       "10. 1.51788304147971e-17\n",
       "\n",
       "\n"
      ],
      "text/plain": [
       " [1]  7.632783e-17  5.030698e-17  1.604619e-17  2.913793e-19 -1.179612e-16\n",
       " [6] -4.163336e-17  3.989864e-17  5.377643e-17  1.474515e-17  1.517883e-17"
      ]
     },
     "metadata": {},
     "output_type": "display_data"
    }
   ],
   "source": [
    "(out.newt$beta - (1./(L + l2 + l1 / sqrt(sum(out.newt$beta**2)))) * v)"
   ]
  }
 ],
 "metadata": {
  "kernelspec": {
   "display_name": "R",
   "language": "R",
   "name": "ir"
  },
  "language_info": {
   "codemirror_mode": "r",
   "file_extension": ".r",
   "mimetype": "text/x-r-source",
   "name": "R",
   "pygments_lexer": "r",
   "version": "4.2.2"
  },
  "orig_nbformat": 4
 },
 "nbformat": 4,
 "nbformat_minor": 2
}
