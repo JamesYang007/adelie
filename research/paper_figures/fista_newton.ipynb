{
 "cells": [
  {
   "cell_type": "code",
   "execution_count": 78,
   "metadata": {},
   "outputs": [],
   "source": [
    "import numpy as np\n",
    "import matplotlib.pyplot as plt\n",
    "import timeit\n",
    "\n",
    "from rpy2.robjects.packages import importr\n",
    "from rpy2.robjects import numpy2ri, default_converter\n",
    "from rpy2.robjects.conversion import localconverter\n",
    "\n",
    "glstudy = importr(\"glstudy\")\n",
    "np_cv_rules = default_converter + numpy2ri.converter"
   ]
  },
  {
   "cell_type": "code",
   "execution_count": 79,
   "metadata": {},
   "outputs": [],
   "source": [
    "def check_acc(beta, L, v, l1, l2):\n",
    "    return beta - (v /(L + l2 + l1 / np.sqrt(np.sum(beta**2))))"
   ]
  },
  {
   "cell_type": "code",
   "execution_count": 80,
   "metadata": {},
   "outputs": [],
   "source": [
    "def bench(ps, configs):\n",
    "    n_ps = len(ps)\n",
    "    n_algs = 2\n",
    "    index_names = ['Newton', 'FISTA']\n",
    "    times = np.zeros((n_algs, n_ps))\n",
    "    iters = np.zeros((n_algs, n_ps))\n",
    "    accs = np.zeros((n_algs, n_ps))\n",
    "    \n",
    "    seed = configs['seed']\n",
    "    max_eval = configs['max_eval']\n",
    "    l1 = configs['l1']\n",
    "    l2 = configs['l2']\n",
    "    newton_tol = configs['newton_tol']\n",
    "    fista_tol = configs['fista_tol']\n",
    "    max_iters = configs['max_iters']\n",
    "\n",
    "    for i, p in enumerate(ps):\n",
    "        np.random.seed(seed + 100*i)\n",
    "        L = np.random.uniform(0, max_eval, size=(p,))\n",
    "        v = np.random.normal(0, 1, size=(p,)) * np.sqrt(L)\n",
    "\n",
    "        # benchmark \n",
    "        with localconverter(np_cv_rules):\n",
    "            newton_times = timeit.repeat(\n",
    "                lambda: glstudy.newton_solver(L, v, l1, l2, newton_tol, max_iters), \n",
    "                repeat=1, \n",
    "                number=10,\n",
    "            )\n",
    "            fista_times = timeit.repeat(\n",
    "                lambda: glstudy.fista_solver(L, v, l1, l2, fista_tol, max_iters), \n",
    "                repeat=1, \n",
    "                number=10,\n",
    "            )\n",
    "        \n",
    "            # call one more time for outputs\n",
    "            newton_out = glstudy.newton_solver(L, v, l1, l2, newton_tol, max_iters) \n",
    "            fista_out = glstudy.fista_solver(L, v, l1, l2, fista_tol, max_iters)\n",
    "\n",
    "            # save output\n",
    "            times[:, i] = [\n",
    "                np.mean(newton_times), \n",
    "                np.mean(fista_times),\n",
    "            ]\n",
    "            iters[:, i] = [\n",
    "                newton_out['iters'][0],\n",
    "                fista_out['iters'][0],\n",
    "            ]\n",
    "            accs[:, i] =[\n",
    "                np.max(np.abs(check_acc(newton_out['beta'], L, v, l1, l2))),\n",
    "                np.max(np.abs(check_acc(fista_out['beta'], L, v, l1, l2))),\n",
    "            ]\n",
    "\n",
    "    return index_names, times, iters, accs\n",
    "\n",
    "\n",
    "def vbench(configs):\n",
    "    return [bench(**config) for config in configs]\n"
   ]
  },
  {
   "cell_type": "code",
   "execution_count": 81,
   "metadata": {},
   "outputs": [
    {
     "data": {
      "text/plain": [
       "(['Newton', 'FISTA'],\n",
       " array([[0.0045207 , 0.00275121, 0.00315107],\n",
       "        [0.00296796, 0.00449971, 0.06003289]]),\n",
       " array([[5.000e+00, 5.000e+00, 6.000e+00],\n",
       "        [8.700e+01, 1.821e+03, 5.899e+03]]),\n",
       " array([[5.92859095e-14, 5.07111020e-10, 2.50075516e-11],\n",
       "        [8.43769499e-15, 2.53908006e-13, 8.19206925e-11]]))"
      ]
     },
     "execution_count": 81,
     "metadata": {},
     "output_type": "execute_result"
    }
   ],
   "source": [
    "ps = np.array([10, 100, 1000])\n",
    "bench(ps, {'seed': 0, 'max_eval': 10, 'l1': 1, \"l2\": 0, \"newton_tol\": 1e-8, \"fista_tol\": 1e-14, \"max_iters\": int(1e5)})"
   ]
  }
 ],
 "metadata": {
  "kernelspec": {
   "display_name": "glstudy",
   "language": "python",
   "name": "python3"
  },
  "language_info": {
   "codemirror_mode": {
    "name": "ipython",
    "version": 3
   },
   "file_extension": ".py",
   "mimetype": "text/x-python",
   "name": "python",
   "nbconvert_exporter": "python",
   "pygments_lexer": "ipython3",
   "version": "3.10.9"
  },
  "orig_nbformat": 4
 },
 "nbformat": 4,
 "nbformat_minor": 2
}
