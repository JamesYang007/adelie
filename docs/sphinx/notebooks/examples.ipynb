{
 "cells": [
  {
   "cell_type": "markdown",
   "metadata": {},
   "source": [
    "# __Examples__"
   ]
  },
  {
   "cell_type": "markdown",
   "metadata": {},
   "source": [
    "## __Model-X Knockoffs with Lasso Feature Importance Scores__"
   ]
  },
  {
   "cell_type": "code",
   "execution_count": 1,
   "metadata": {},
   "outputs": [],
   "source": [
    "import adelie as ad\n",
    "import knockpy\n",
    "import matplotlib.pyplot as plt\n",
    "import numpy as np"
   ]
  },
  {
   "cell_type": "markdown",
   "metadata": {},
   "source": [
    "In this example, we cover a neat application of Lasso in a popular statistical method called *Knockoffs*,\n",
    "pioneered by Rina Barber and Emmanuel Candès.\n",
    "We briefly describe the Knockoff framework.\n",
    "Knockoffs are fictitious features generated\n",
    "by the user that look similar to an already given set of features.\n",
    "As soon as these knockoffs enjoy certain statistical\n",
    "properties relating their distributions to the original features, we may use them to determine which of the original features are important for predicting the response while controlling for the *false discovery rate* (FDR).\n",
    "For an in-depth treatment of Knockoffs,\n",
    "we provide the following references:\n",
    "\n",
    "- [Panning for Gold: ‘Model-X’ Knockoffs for High Dimensional Controlled Variable Selection](https://academic.oup.com/jrsssb/article/80/3/551/7048447)\n",
    "- [Papers about Knockoffs](https://web.stanford.edu/group/candes/knockoffs/papers.html)\n",
    "- [Knockoffs on Wikipedia](https://en.wikipedia.org/wiki/Knockoffs_(statistics))\n",
    "\n",
    "We will work under the Model-X framework.\n",
    "Let's begin with some data.\n",
    "We assume $n$ independent samples $X_i \\sim N(0, \\Sigma)$\n",
    "where $\\Sigma \\in \\mathbb{R}^{p \\times p}$ is the equi-correlation matrix with correlation $\\rho$.\n",
    "Our response $y$ is generated from a linear model\n",
    "$y = X \\beta + \\sigma \\varepsilon$\n",
    "where the first half of the coefficients $\\beta$ are generated from $N(0,1)$ (and the rest set to zero),\n",
    "$\\varepsilon \\sim N(0, I_n)$,\n",
    "and $\\sigma$ such that the signal-to-noise ratio is $1$."
   ]
  },
  {
   "cell_type": "code",
   "execution_count": 2,
   "metadata": {},
   "outputs": [],
   "source": [
    "n = 10000       # number of samples\n",
    "p = 100         # number of features\n",
    "n_h1 = p // 2   # number of features with signal\n",
    "rho = 0.3       # equi-correlation\n",
    "seed = 0        # random seed\n",
    "\n",
    "np.random.seed(seed)\n",
    "W = np.random.normal(0, 1, n)\n",
    "Z = np.random.normal(0, 1, (n, p))\n",
    "X = np.sqrt(rho) * W[:, None] + np.sqrt(1-rho) * Z\n",
    "y = X[:, :n_h1] @ np.random.normal(0, 1, n_h1) + np.sqrt(n_h1) * np.random.normal(0, 1, n)"
   ]
  },
  {
   "cell_type": "markdown",
   "metadata": {},
   "source": [
    "Next, we generate our Model-X knockoffs.\n",
    "The definition of Model-X knockoffs states that each knockoff $\\tilde{X}_i \\in \\mathbb{R}^{p}$\n",
    "must satisfy the exchangeability condition that swapping any subset of the features with\n",
    "the respective positions in $X_i$ preserves the joint distribution of $(X_i, \\tilde{X}_i)$,\n",
    "and $\\tilde{X}_i$ must be conditionally independent of the response $y_i$ given $X_i$.\n",
    "Under the Gaussian assumption of $X_i$, \n",
    "it is possible to show that we may then sample $\\tilde{X}_i$ from $N(\\mu_i, V_i)$ where\n",
    "$$\n",
    "\\begin{align*}\n",
    "    \\mu_i &= X_i - \\mathrm{diag}(s) \\Sigma^{-1} X_i \\\\\n",
    "    V_i &= 2 \\mathrm{diag}(s) - \\mathrm{diag}(s) \\Sigma^{-1} \\mathrm{diag}(s)\n",
    "\\end{align*}\n",
    "$$\n",
    "and $\\mathrm{diag}(s)$ is any non-negative diagonal matrix such that\n",
    "$$\n",
    "\\begin{align*}\n",
    "    \\begin{bmatrix}\n",
    "        \\Sigma & \\Sigma - \\mathrm{diag}(s) \\\\\n",
    "        \\Sigma - \\mathrm{diag}(s) & \\Sigma \\\\\n",
    "    \\end{bmatrix}\n",
    "\\end{align*}\n",
    "$$\n",
    "is positive semi-definite.\n",
    "\n",
    "Although there are many possible choices of $s$ that satisfy the conditions above,\n",
    "we use the MVR method in the `knockpy` package.\n",
    "To make the situation more realistic, we first estimate $\\Sigma$ using the empirical covariance matrix from $X$,\n",
    "since, in practice, we often do not know the true covariance matrix $\\Sigma$."
   ]
  },
  {
   "cell_type": "code",
   "execution_count": 3,
   "metadata": {},
   "outputs": [],
   "source": [
    "Sigma = np.cov(X.T, ddof=0)\n",
    "S = knockpy.smatrix.compute_smatrix(Sigma, method=\"mvr\", choldate_warning=False)"
   ]
  },
  {
   "cell_type": "markdown",
   "metadata": {},
   "source": [
    "Next, we sample the knockoffs using the above formula."
   ]
  },
  {
   "cell_type": "code",
   "execution_count": 4,
   "metadata": {},
   "outputs": [],
   "source": [
    "Sigma_inv = np.linalg.inv(Sigma)\n",
    "mu = X - X @ Sigma_inv @ S\n",
    "V = 2 * S - S @ Sigma_inv @ S\n",
    "\n",
    "X_knock = mu + np.random.multivariate_normal(np.zeros(p), V, n)"
   ]
  },
  {
   "cell_type": "markdown",
   "metadata": {},
   "source": [
    "Before using `adelie`, we convert `X` and `X_knock` into column-major matrices\n",
    "since this storage order is more favorable for our solver."
   ]
  },
  {
   "cell_type": "code",
   "execution_count": 5,
   "metadata": {},
   "outputs": [],
   "source": [
    "X = np.asfortranarray(X)\n",
    "X_knock = np.asfortranarray(X_knock)"
   ]
  },
  {
   "cell_type": "markdown",
   "metadata": {},
   "source": [
    "Once the knockoffs have been constructed, we must construct some *feature importance* statistic\n",
    "that places an importance score for each original and knockoff feature.\n",
    "This is where the lasso comes in!\n",
    "A common method is solve the lasso problem with the combined feature matrix $(X, \\tilde{X})$\n",
    "and the response $y$.\n",
    "Then, we choose our feature importance statistic to be the magnitude of the lasso coefficient,\n",
    "that is, scores $Z_j = |\\hat{\\beta}_j(\\lambda)|$ and $\\tilde{Z}_j = |\\hat{\\beta}_{j+p}(\\lambda)|$\n",
    "for the original and knockoff features, respectively.\n",
    "Furthermore, the theory also allows the user to run cross-validation to pick the best $\\lambda$\n",
    "and construct feature importance statistics based on the solution at that $\\lambda$.\n",
    "\n",
    "\n",
    "To fit lasso, we first need to concatenate $X$ and $\\tilde{X}$.\n",
    "Although one could concatenate the two matrices into one large dense matrix,\n",
    "we take this opportunity to demonstrate the usage of `adelie.matrix.concatenate`,\n",
    "which effectively represents the same matrix but does not require any allocation of a new matrix.\n",
    "In practice, we may work in a high-dimensional setting where the number of features is large,\n",
    "in which case, it may be computationally burdensome to construct a concatenated dense matrix."
   ]
  },
  {
   "cell_type": "code",
   "execution_count": 6,
   "metadata": {},
   "outputs": [],
   "source": [
    "Xc = ad.matrix.concatenate([X, X_knock], axis=1)"
   ]
  },
  {
   "cell_type": "markdown",
   "metadata": {},
   "source": [
    "We run a 5-fold cross-validation (CV) lasso under the Gaussian loss using the combined feature matrix and our response."
   ]
  },
  {
   "cell_type": "code",
   "execution_count": 7,
   "metadata": {},
   "outputs": [
    {
     "name": "stderr",
     "output_type": "stream",
     "text": [
      "100%|\u001b[1;32m█\u001b[0m\u001b[1;32m█\u001b[0m\u001b[1;32m█\u001b[0m\u001b[1;32m█\u001b[0m\u001b[1;32m█\u001b[0m\u001b[1;32m█\u001b[0m\u001b[1;32m█\u001b[0m\u001b[1;32m█\u001b[0m\u001b[1;32m█\u001b[0m\u001b[1;32m█\u001b[0m| 100/100 [00:00:00<00:00:00, 397.03it/s] [dev:44.7%]\n",
      "100%|\u001b[1;32m█\u001b[0m\u001b[1;32m█\u001b[0m\u001b[1;32m█\u001b[0m\u001b[1;32m█\u001b[0m\u001b[1;32m█\u001b[0m\u001b[1;32m█\u001b[0m\u001b[1;32m█\u001b[0m\u001b[1;32m█\u001b[0m\u001b[1;32m█\u001b[0m\u001b[1;32m█\u001b[0m| 100/100 [00:00:00<00:00:00, 415.55it/s] [dev:45.2%]\n",
      "100%|\u001b[1;32m█\u001b[0m\u001b[1;32m█\u001b[0m\u001b[1;32m█\u001b[0m\u001b[1;32m█\u001b[0m\u001b[1;32m█\u001b[0m\u001b[1;32m█\u001b[0m\u001b[1;32m█\u001b[0m\u001b[1;32m█\u001b[0m\u001b[1;32m█\u001b[0m\u001b[1;32m█\u001b[0m| 101/101 [00:00:00<00:00:00, 443.93it/s] [dev:44.9%]\n",
      "100%|\u001b[1;32m█\u001b[0m\u001b[1;32m█\u001b[0m\u001b[1;32m█\u001b[0m\u001b[1;32m█\u001b[0m\u001b[1;32m█\u001b[0m\u001b[1;32m█\u001b[0m\u001b[1;32m█\u001b[0m\u001b[1;32m█\u001b[0m\u001b[1;32m█\u001b[0m\u001b[1;32m█\u001b[0m| 100/100 [00:00:00<00:00:00, 442.50it/s] [dev:45.5%]\n",
      "100%|\u001b[1;32m█\u001b[0m\u001b[1;32m█\u001b[0m\u001b[1;32m█\u001b[0m\u001b[1;32m█\u001b[0m\u001b[1;32m█\u001b[0m\u001b[1;32m█\u001b[0m\u001b[1;32m█\u001b[0m\u001b[1;32m█\u001b[0m\u001b[1;32m█\u001b[0m\u001b[1;32m█\u001b[0m| 101/101 [00:00:00<00:00:00, 421.39it/s] [dev:45.8%]\n"
     ]
    }
   ],
   "source": [
    "cv_res = ad.cv_grpnet(\n",
    "    X=Xc, \n",
    "    glm=ad.glm.gaussian(y), \n",
    "    min_ratio=1e-3, \n",
    "    seed=0,\n",
    "    intercept=False,\n",
    ")"
   ]
  },
  {
   "cell_type": "markdown",
   "metadata": {},
   "source": [
    "We can visualize the average CV loss."
   ]
  },
  {
   "cell_type": "code",
   "execution_count": 8,
   "metadata": {},
   "outputs": [
    {
     "data": {
      "image/png": "[encoded data removed]",
      "text/plain": [
       "<Figure size 900x600 with 1 Axes>"
      ]
     },
     "metadata": {},
     "output_type": "display_data"
    }
   ],
   "source": [
    "cv_res.plot_loss()\n",
    "plt.show()"
   ]
  },
  {
   "cell_type": "markdown",
   "metadata": {},
   "source": [
    "The plot suggests that the best model is somewhere in the middle of the path as the CV loss\n",
    "dips then flattens as we move down the regularization path.\n",
    "We now refit lasso along a regularization path which stops at the best chosen $\\lambda$."
   ]
  },
  {
   "cell_type": "code",
   "execution_count": 9,
   "metadata": {},
   "outputs": [
    {
     "name": "stderr",
     "output_type": "stream",
     "text": [
      "100%|\u001b[1;32m█\u001b[0m\u001b[1;32m█\u001b[0m\u001b[1;32m█\u001b[0m\u001b[1;32m█\u001b[0m\u001b[1;32m█\u001b[0m\u001b[1;32m█\u001b[0m\u001b[1;32m█\u001b[0m\u001b[1;32m█\u001b[0m\u001b[1;32m█\u001b[0m\u001b[1;32m█\u001b[0m| 100/100 [00:00:00<00:00:00, 765.17it/s] [dev:44.4%]\n"
     ]
    }
   ],
   "source": [
    "state = cv_res.fit(\n",
    "    X=Xc, \n",
    "    glm=ad.glm.gaussian(y),\n",
    "    intercept=False,\n",
    ")"
   ]
  },
  {
   "cell_type": "markdown",
   "metadata": {},
   "source": [
    "We construct the feature importance statistics by taking the last coefficient vector."
   ]
  },
  {
   "cell_type": "code",
   "execution_count": 10,
   "metadata": {},
   "outputs": [],
   "source": [
    "beta = state.betas[-1].toarray()[0]\n",
    "z = np.abs(beta[:p])\n",
    "z_knock = np.abs(beta[p:])"
   ]
  },
  {
   "cell_type": "markdown",
   "metadata": {},
   "source": [
    "Next, we construct the *lasso coefficient difference* statistics $W_j = Z_j - \\tilde{Z}_j$.\n",
    "A large positive $W_j$ suggests that the $j$ th (original) feature is important."
   ]
  },
  {
   "cell_type": "code",
   "execution_count": 11,
   "metadata": {},
   "outputs": [],
   "source": [
    "w = z - z_knock"
   ]
  },
  {
   "cell_type": "markdown",
   "metadata": {},
   "source": [
    "Finally, to control FDR, we apply the *Knockoff-filter*.\n",
    "For a given level $q \\in [0,1]$, the Knockoff-filter constructs\n",
    "$$\n",
    "\\begin{align*}\n",
    "    \\tau_+ = \\min\\{t > 0 : \\frac{1 + |\\{j : W_j \\leq -t\\}|}{|\\{j : W_j \\geq t\\}|} \\leq q\\}\n",
    "\\end{align*}\n",
    "$$\n",
    "and selects features in $\\hat{S} = \\{j : W_j \\geq \\tau_+\\}$.\n",
    "This selection procedure controls the FDR so that\n",
    "$$\n",
    "\\begin{align*}\n",
    "    \\mathbb{E}\\left[\\frac{|\\{j \\in \\hat{S} \\cap \\mathcal{H}_0\\}|}{|\\hat{S}| \\vee 1}\\right] \\leq q\n",
    "\\end{align*}\n",
    "$$\n",
    "where $\\mathcal{H}_0$ is the true set of null features (in this example, $\\mathcal{H}_0 = \\{p / 2 + 1,\\ldots, p\\}$ since the first half of the features is used to construct $y$).\n",
    "\n",
    "We let $q = 0.05$ in this example and construct $\\tau_+$ using `knockpy`.\n",
    "We then print the *false discovery proportion* (FDP), which is the term inside the expectation above,\n",
    "and the power estimate, which is the proportion of correctly selected non-nulls over the total number of non-nulls, or\n",
    "$$\n",
    "\\begin{align*}\n",
    "    \\widehat{\\mathrm{Power}} = \\frac{|\\hat{S} \\cap \\mathcal{H}_1|}{|\\mathcal{H}_1|}\n",
    "\\end{align*}\n",
    "$$"
   ]
  },
  {
   "cell_type": "code",
   "execution_count": 12,
   "metadata": {},
   "outputs": [
    {
     "name": "stdout",
     "output_type": "stream",
     "text": [
      "FDP:    0.11363636363636363\n",
      "Power:  0.78\n"
     ]
    }
   ],
   "source": [
    "tau_plus = knockpy.knockoff_stats.data_dependent_threshhold(w, 0.05)\n",
    "S_hat = np.arange(p)[w >= tau_plus]\n",
    "H0 = np.arange(n_h1, p)\n",
    "H1 = np.arange(n_h1)\n",
    "fdp = len(set(S_hat).intersection(set(H0))) / max(S_hat.shape[0], 1)\n",
    "pwr = len(set(S_hat).intersection(set(H1))) / n_h1\n",
    "print(f\"FDP:    {fdp}\")\n",
    "print(f\"Power:  {pwr}\")"
   ]
  },
  {
   "cell_type": "markdown",
   "metadata": {},
   "source": [
    "For any one experiment, the FDP may not be under $q$ \n",
    "(though we hope the FDP has a small enough variance that it is not too far from its mean).\n",
    "The guarantee is that if we repeat this entire procedure many times,\n",
    "the average FDP will be under $q$."
   ]
  },
  {
   "cell_type": "markdown",
   "metadata": {},
   "source": [
    "## __Lasso on GWAS Datasets__"
   ]
  },
  {
   "cell_type": "code",
   "execution_count": 13,
   "metadata": {},
   "outputs": [],
   "source": [
    "import adelie as ad\n",
    "import matplotlib.pyplot as plt\n",
    "import numpy as np\n",
    "import os\n",
    "import pandas as pd\n",
    "import pgenlib as pg"
   ]
  },
  {
   "cell_type": "markdown",
   "metadata": {},
   "source": [
    "In this example, we show how to use `adelie` to run lasso on GWAS datasets.\n",
    "These datasets often come as \n",
    "[.bed](https://www.cog-genomics.org/plink2/formats#bed) or \n",
    "[.pgen](https://www.cog-genomics.org/plink/2.0/input#pgen) (PLINK) files\n",
    "accompanied by other files containing metadata.\n",
    "The main feature matrix of interest is the *genotype matrix* or a *single-nucleotide polymorphism (SNP) matrix*.\n",
    "This matrix contains values in the range $\\{0,1,2,\\mathrm{NA}\\}$ with both large number of samples\n",
    "(e.g. 0.5 million) and features (e.g. 1.7 million).\n",
    "As a result, special care must be taken to represent such a large matrix to avoid memory issues\n",
    "and optimize for the matrix operations required to solve the lasso.\n",
    "The response vector is typically some measurement of a phenotype such as standing height.\n",
    "The goal is then to learn the association between the genetic information and the phenotype.\n",
    "We will demonstrate that `adelie` can easily handle such a use-case.\n",
    "\n",
    "As a reference, we list a few works in the literature that aim to apply lasso on the UK Biobank,\n",
    "one popular GWAS dataset that has been carefully studied in a wide range of applications.\n",
    "\n",
    "- [A fast and scalable framework for large-scale and ultrahigh-dimensional sparse regression with application to the UK Biobank](https://www.ncbi.nlm.nih.gov/pmc/articles/PMC7641476/)\n",
    "- [Fast numerical optimization for genome sequencing data in population biobanks](https://academic.oup.com/bioinformatics/article/37/22/4148/6306404)\n",
    "- [Fast Lasso method for large-scale and ultrahigh-dimensional Cox model with applications to UK Biobank](https://www.ncbi.nlm.nih.gov/pmc/articles/PMC9007437/)\n",
    "- [UK Biobank Multi-modality Brain Age LASSO regression analysis](https://james-cole.github.io/UKBiobank-Brain-Age/)"
   ]
  },
  {
   "cell_type": "markdown",
   "metadata": {},
   "source": [
    "Since we only wish to demonstrate the workflow of using `adelie` to solve lasso on GWAS datasets,\n",
    "we work with a small-scale example.\n",
    "The example dataset is provided in the [data](https://github.com/JamesYang007/adelie/tree/main/data) folder,\n",
    "which contains PLINK files for the SNP matrix\n",
    "and a CSV file containing the phenotype and covariates.\n",
    "The PLINK files are taken from [SnpArrays.jl](https://github.com/OpenMendel/SnpArrays.jl/tree/master/data).\n",
    "For this demonstration, we randomly generated the phenotype.\n",
    "The covariates include sex and the 10 largest principle components (PCs) of the SNP matrix.\n",
    "\n",
    "In the following, we outline the steps of applying `adelie`."
   ]
  },
  {
   "cell_type": "markdown",
   "metadata": {},
   "source": [
    "### __Load the Dense SNP Matrix__"
   ]
  },
  {
   "cell_type": "markdown",
   "metadata": {},
   "source": [
    "The first step is to load the SNP matrix as a dense matrix.\n",
    "We enforce this for two reasons.\n",
    "First, we do not wish to have `adelie` depend on any particular third-party file formats.\n",
    "This extra dependence complicates the maintenance of the package.\n",
    "Secondly, `adelie` will save the SNP matrix in its own special format (`.snpdat`)\n",
    "that is optimized for both memory and speed in some matrix operations required by our solver.\n",
    "Hence, we need to be able to take any user-specified representation of the SNP matrix\n",
    "and convert it into our format.\n",
    "We perform this conversion by first asking the user to read the SNP matrix as a dense matrix\n",
    "then use `adelie` to convert and save the dense matrix as a `.snpdat` file.\n",
    "\n",
    "__Due to memory issues, the user should not read the full SNP matrix as a dense matrix!__\n",
    "It is recommended to read them in batches of columns instead.\n",
    "Typically, we read per chromosome so that we create 22 `.snpdat` files.\n",
    "\n",
    "We now demonstrate using `pgenlib` how to read the PLINK files as a dense matrix.\n",
    "For more information on how to use `pgenlib`, we direct the readers to the [GitHub page](https://github.com/BertrandServin/pgenlib).\n",
    "\n",
    "We first define the data directory and the relevant PLINK file names."
   ]
  },
  {
   "cell_type": "code",
   "execution_count": 14,
   "metadata": {},
   "outputs": [],
   "source": [
    "data_dir = \"../../../data\"\n",
    "bedname = os.path.join(data_dir, \"EUR_subset.bed\")\n",
    "bimname = os.path.join(data_dir, \"EUR_subset.bim\")\n",
    "famname = os.path.join(data_dir, \"EUR_subset.fam\")"
   ]
  },
  {
   "cell_type": "markdown",
   "metadata": {},
   "source": [
    "We find the number of samples in the dataset by reading the `.fam` file.\n",
    "This information is required by `pgenlib` since we are working with `.bed` files."
   ]
  },
  {
   "cell_type": "code",
   "execution_count": 15,
   "metadata": {},
   "outputs": [
    {
     "data": {
      "text/html": [
       "<div>\n",
       "<style scoped>\n",
       "    .dataframe tbody tr th:only-of-type {\n",
       "        vertical-align: middle;\n",
       "    }\n",
       "\n",
       "    .dataframe tbody tr th {\n",
       "        vertical-align: top;\n",
       "    }\n",
       "\n",
       "    .dataframe thead th {\n",
       "        text-align: right;\n",
       "    }\n",
       "</style>\n",
       "<table border=\"1\" class=\"dataframe\">\n",
       "  <thead>\n",
       "    <tr style=\"text-align: right;\">\n",
       "      <th></th>\n",
       "      <th>FID</th>\n",
       "      <th>IID</th>\n",
       "      <th>Father</th>\n",
       "      <th>Mother</th>\n",
       "      <th>Sex</th>\n",
       "      <th>Phenotype</th>\n",
       "    </tr>\n",
       "  </thead>\n",
       "  <tbody>\n",
       "    <tr>\n",
       "      <th>0</th>\n",
       "      <td>1</td>\n",
       "      <td>HG00096</td>\n",
       "      <td>0</td>\n",
       "      <td>0</td>\n",
       "      <td>1</td>\n",
       "      <td>1</td>\n",
       "    </tr>\n",
       "    <tr>\n",
       "      <th>1</th>\n",
       "      <td>2</td>\n",
       "      <td>HG00097</td>\n",
       "      <td>0</td>\n",
       "      <td>0</td>\n",
       "      <td>2</td>\n",
       "      <td>1</td>\n",
       "    </tr>\n",
       "    <tr>\n",
       "      <th>2</th>\n",
       "      <td>3</td>\n",
       "      <td>HG00099</td>\n",
       "      <td>0</td>\n",
       "      <td>0</td>\n",
       "      <td>2</td>\n",
       "      <td>1</td>\n",
       "    </tr>\n",
       "    <tr>\n",
       "      <th>3</th>\n",
       "      <td>4</td>\n",
       "      <td>HG00100</td>\n",
       "      <td>0</td>\n",
       "      <td>0</td>\n",
       "      <td>2</td>\n",
       "      <td>1</td>\n",
       "    </tr>\n",
       "    <tr>\n",
       "      <th>4</th>\n",
       "      <td>5</td>\n",
       "      <td>HG00101</td>\n",
       "      <td>0</td>\n",
       "      <td>0</td>\n",
       "      <td>1</td>\n",
       "      <td>1</td>\n",
       "    </tr>\n",
       "    <tr>\n",
       "      <th>...</th>\n",
       "      <td>...</td>\n",
       "      <td>...</td>\n",
       "      <td>...</td>\n",
       "      <td>...</td>\n",
       "      <td>...</td>\n",
       "      <td>...</td>\n",
       "    </tr>\n",
       "    <tr>\n",
       "      <th>374</th>\n",
       "      <td>375</td>\n",
       "      <td>NA20816</td>\n",
       "      <td>0</td>\n",
       "      <td>0</td>\n",
       "      <td>1</td>\n",
       "      <td>1</td>\n",
       "    </tr>\n",
       "    <tr>\n",
       "      <th>375</th>\n",
       "      <td>376</td>\n",
       "      <td>NA20818</td>\n",
       "      <td>0</td>\n",
       "      <td>0</td>\n",
       "      <td>2</td>\n",
       "      <td>1</td>\n",
       "    </tr>\n",
       "    <tr>\n",
       "      <th>376</th>\n",
       "      <td>377</td>\n",
       "      <td>NA20819</td>\n",
       "      <td>0</td>\n",
       "      <td>0</td>\n",
       "      <td>2</td>\n",
       "      <td>1</td>\n",
       "    </tr>\n",
       "    <tr>\n",
       "      <th>377</th>\n",
       "      <td>378</td>\n",
       "      <td>NA20826</td>\n",
       "      <td>0</td>\n",
       "      <td>0</td>\n",
       "      <td>2</td>\n",
       "      <td>1</td>\n",
       "    </tr>\n",
       "    <tr>\n",
       "      <th>378</th>\n",
       "      <td>379</td>\n",
       "      <td>NA20828</td>\n",
       "      <td>0</td>\n",
       "      <td>0</td>\n",
       "      <td>2</td>\n",
       "      <td>1</td>\n",
       "    </tr>\n",
       "  </tbody>\n",
       "</table>\n",
       "<p>379 rows × 6 columns</p>\n",
       "</div>"
      ],
      "text/plain": [
       "     FID      IID  Father  Mother  Sex  Phenotype\n",
       "0      1  HG00096       0       0    1          1\n",
       "1      2  HG00097       0       0    2          1\n",
       "2      3  HG00099       0       0    2          1\n",
       "3      4  HG00100       0       0    2          1\n",
       "4      5  HG00101       0       0    1          1\n",
       "..   ...      ...     ...     ...  ...        ...\n",
       "374  375  NA20816       0       0    1          1\n",
       "375  376  NA20818       0       0    2          1\n",
       "376  377  NA20819       0       0    2          1\n",
       "377  378  NA20826       0       0    2          1\n",
       "378  379  NA20828       0       0    2          1\n",
       "\n",
       "[379 rows x 6 columns]"
      ]
     },
     "execution_count": 15,
     "metadata": {},
     "output_type": "execute_result"
    }
   ],
   "source": [
    "df_fam = pd.read_csv(\n",
    "    famname, \n",
    "    sep=\" \", \n",
    "    header=None,\n",
    "    names=[\"FID\", \"IID\", \"Father\", \"Mother\", \"Sex\", \"Phenotype\"],\n",
    ")\n",
    "n_samples = df_fam.shape[0]\n",
    "df_fam"
   ]
  },
  {
   "cell_type": "markdown",
   "metadata": {},
   "source": [
    "We read the `.bim` file to retrieve the SNP metadata.\n",
    "We will use this information to read and process the SNP data per chromosome."
   ]
  },
  {
   "cell_type": "code",
   "execution_count": 16,
   "metadata": {},
   "outputs": [
    {
     "data": {
      "text/html": [
       "<div>\n",
       "<style scoped>\n",
       "    .dataframe tbody tr th:only-of-type {\n",
       "        vertical-align: middle;\n",
       "    }\n",
       "\n",
       "    .dataframe tbody tr th {\n",
       "        vertical-align: top;\n",
       "    }\n",
       "\n",
       "    .dataframe thead th {\n",
       "        text-align: right;\n",
       "    }\n",
       "</style>\n",
       "<table border=\"1\" class=\"dataframe\">\n",
       "  <thead>\n",
       "    <tr style=\"text-align: right;\">\n",
       "      <th></th>\n",
       "      <th>chr</th>\n",
       "      <th>variant</th>\n",
       "      <th>pos</th>\n",
       "      <th>base</th>\n",
       "      <th>a1</th>\n",
       "      <th>a2</th>\n",
       "    </tr>\n",
       "  </thead>\n",
       "  <tbody>\n",
       "    <tr>\n",
       "      <th>0</th>\n",
       "      <td>17</td>\n",
       "      <td>rs34151105</td>\n",
       "      <td>0.000000</td>\n",
       "      <td>1665</td>\n",
       "      <td>T</td>\n",
       "      <td>C</td>\n",
       "    </tr>\n",
       "    <tr>\n",
       "      <th>1</th>\n",
       "      <td>17</td>\n",
       "      <td>rs143500173</td>\n",
       "      <td>0.000000</td>\n",
       "      <td>2748</td>\n",
       "      <td>T</td>\n",
       "      <td>A</td>\n",
       "    </tr>\n",
       "    <tr>\n",
       "      <th>2</th>\n",
       "      <td>17</td>\n",
       "      <td>rs113560219</td>\n",
       "      <td>0.000000</td>\n",
       "      <td>4702</td>\n",
       "      <td>T</td>\n",
       "      <td>C</td>\n",
       "    </tr>\n",
       "    <tr>\n",
       "      <th>3</th>\n",
       "      <td>17</td>\n",
       "      <td>rs1882989</td>\n",
       "      <td>0.000056</td>\n",
       "      <td>15222</td>\n",
       "      <td>G</td>\n",
       "      <td>A</td>\n",
       "    </tr>\n",
       "    <tr>\n",
       "      <th>4</th>\n",
       "      <td>17</td>\n",
       "      <td>rs8069133</td>\n",
       "      <td>0.000499</td>\n",
       "      <td>32311</td>\n",
       "      <td>G</td>\n",
       "      <td>A</td>\n",
       "    </tr>\n",
       "    <tr>\n",
       "      <th>...</th>\n",
       "      <td>...</td>\n",
       "      <td>...</td>\n",
       "      <td>...</td>\n",
       "      <td>...</td>\n",
       "      <td>...</td>\n",
       "      <td>...</td>\n",
       "    </tr>\n",
       "    <tr>\n",
       "      <th>54046</th>\n",
       "      <td>22</td>\n",
       "      <td>rs113391741</td>\n",
       "      <td>0.750923</td>\n",
       "      <td>51187440</td>\n",
       "      <td>A</td>\n",
       "      <td>G</td>\n",
       "    </tr>\n",
       "    <tr>\n",
       "      <th>54047</th>\n",
       "      <td>22</td>\n",
       "      <td>rs151247655</td>\n",
       "      <td>0.750938</td>\n",
       "      <td>51189403</td>\n",
       "      <td>A</td>\n",
       "      <td>G</td>\n",
       "    </tr>\n",
       "    <tr>\n",
       "      <th>54048</th>\n",
       "      <td>22</td>\n",
       "      <td>rs187225588</td>\n",
       "      <td>0.751001</td>\n",
       "      <td>51197602</td>\n",
       "      <td>T</td>\n",
       "      <td>A</td>\n",
       "    </tr>\n",
       "    <tr>\n",
       "      <th>54049</th>\n",
       "      <td>22</td>\n",
       "      <td>rs9616967</td>\n",
       "      <td>0.751090</td>\n",
       "      <td>51209343</td>\n",
       "      <td>T</td>\n",
       "      <td>A</td>\n",
       "    </tr>\n",
       "    <tr>\n",
       "      <th>54050</th>\n",
       "      <td>22</td>\n",
       "      <td>rs148755559</td>\n",
       "      <td>0.751156</td>\n",
       "      <td>51218133</td>\n",
       "      <td>C</td>\n",
       "      <td>T</td>\n",
       "    </tr>\n",
       "  </tbody>\n",
       "</table>\n",
       "<p>54051 rows × 6 columns</p>\n",
       "</div>"
      ],
      "text/plain": [
       "       chr      variant       pos      base a1 a2\n",
       "0       17   rs34151105  0.000000      1665  T  C\n",
       "1       17  rs143500173  0.000000      2748  T  A\n",
       "2       17  rs113560219  0.000000      4702  T  C\n",
       "3       17    rs1882989  0.000056     15222  G  A\n",
       "4       17    rs8069133  0.000499     32311  G  A\n",
       "...    ...          ...       ...       ... .. ..\n",
       "54046   22  rs113391741  0.750923  51187440  A  G\n",
       "54047   22  rs151247655  0.750938  51189403  A  G\n",
       "54048   22  rs187225588  0.751001  51197602  T  A\n",
       "54049   22    rs9616967  0.751090  51209343  T  A\n",
       "54050   22  rs148755559  0.751156  51218133  C  T\n",
       "\n",
       "[54051 rows x 6 columns]"
      ]
     },
     "execution_count": 16,
     "metadata": {},
     "output_type": "execute_result"
    }
   ],
   "source": [
    "df_bim = pd.read_csv(\n",
    "    bimname,\n",
    "    sep=\"\\t\",\n",
    "    header=None,\n",
    "    names=[\"chr\", \"variant\", \"pos\", \"base\", \"a1\", \"a2\"],\n",
    ")\n",
    "n_snps = df_bim.shape[0]\n",
    "df_bim"
   ]
  },
  {
   "cell_type": "markdown",
   "metadata": {},
   "source": [
    "Let's try reading the SNP matrix for chromosome `17`.\n"
   ]
  },
  {
   "cell_type": "code",
   "execution_count": 17,
   "metadata": {},
   "outputs": [],
   "source": [
    "# create bed reader\n",
    "reader = pg.PgenReader(\n",
    "    str.encode(bedname),\n",
    "    raw_sample_ct=n_samples,\n",
    ")\n",
    "\n",
    "# get 0-indexed indices for current chromosome\n",
    "df_bim_chr = df_bim[df_bim[\"chr\"] == 17]\n",
    "variant_idxs = df_bim_chr.index.to_numpy().astype(np.uint32)\n",
    "\n",
    "# read the SNP matrix\n",
    "geno_out_chr = np.empty((variant_idxs.shape[0], n_samples), dtype=np.int8)\n",
    "reader.read_list(variant_idxs, geno_out_chr)\n",
    "\n",
    "# convert to sample-major\n",
    "geno_out_chr = np.asfortranarray(geno_out_chr.T)"
   ]
  },
  {
   "cell_type": "markdown",
   "metadata": {},
   "source": [
    "### __Convert to snpdat Format__"
   ]
  },
  {
   "cell_type": "markdown",
   "metadata": {},
   "source": [
    "Now that we have the dense SNP matrix for chromosome `17`,\n",
    "we write it in `.snpdat` format using `adelie`."
   ]
  },
  {
   "cell_type": "code",
   "execution_count": 18,
   "metadata": {},
   "outputs": [],
   "source": [
    "# define cache directory and snpdat filename\n",
    "cache_dir = \"/tmp\"\n",
    "snpdat_name = os.path.join(cache_dir, \"EUR_subset_chr17.snpdat\")\n",
    "\n",
    "# create handler to convert the SNP matrix to .snpdat\n",
    "handler = ad.io.snp_unphased(snpdat_name)\n",
    "_ = handler.write(geno_out_chr)"
   ]
  },
  {
   "cell_type": "markdown",
   "metadata": {},
   "source": [
    "That's it!"
   ]
  },
  {
   "cell_type": "markdown",
   "metadata": {},
   "source": [
    "### __Process All Chromosomes__"
   ]
  },
  {
   "cell_type": "markdown",
   "metadata": {},
   "source": [
    "Finally, to mimic the common use-case, \n",
    "we combine all the steps to process all the chromosomes.\n",
    "\n",
    "We first get a list of the chromosomes in the dataset."
   ]
  },
  {
   "cell_type": "code",
   "execution_count": 19,
   "metadata": {},
   "outputs": [
    {
     "data": {
      "text/plain": [
       "array([17, 18, 19, 20, 21, 22])"
      ]
     },
     "execution_count": 19,
     "metadata": {},
     "output_type": "execute_result"
    }
   ],
   "source": [
    "chromosomes = df_bim[\"chr\"].unique()\n",
    "chromosomes"
   ]
  },
  {
   "cell_type": "markdown",
   "metadata": {},
   "source": [
    "The following code saves each SNP matrix per chromosome as a separate `.snpdat` file."
   ]
  },
  {
   "cell_type": "code",
   "execution_count": 20,
   "metadata": {},
   "outputs": [],
   "source": [
    "# create bed reader\n",
    "reader = pg.PgenReader(\n",
    "    str.encode(bedname),\n",
    "    raw_sample_ct=n_samples,\n",
    ")\n",
    "\n",
    "for chr in chromosomes:\n",
    "    # get 0-indexed indices for current chromosome\n",
    "    df_bim_chr = df_bim[df_bim[\"chr\"] == chr]\n",
    "    variant_idxs = df_bim_chr.index.to_numpy().astype(np.uint32)\n",
    "\n",
    "    # read the SNP matrix\n",
    "    geno_out = np.empty((variant_idxs.shape[0], n_samples), dtype=np.int8)\n",
    "    reader.read_list(variant_idxs, geno_out)\n",
    "\n",
    "    # define snpdat filename\n",
    "    snpdat_name = os.path.join(cache_dir, f\"EUR_subset_chr{chr}.snpdat\")\n",
    "\n",
    "    # create handler to convert the SNP matrix to .snpdat\n",
    "    handler = ad.io.snp_unphased(snpdat_name)\n",
    "    _ = handler.write(geno_out_chr)"
   ]
  },
  {
   "cell_type": "markdown",
   "metadata": {},
   "source": [
    "### __Load the Feature Matrix__"
   ]
  },
  {
   "cell_type": "markdown",
   "metadata": {},
   "source": [
    "We first load the covariates as a dense matrix and the phenotype as the response vector."
   ]
  },
  {
   "cell_type": "code",
   "execution_count": 21,
   "metadata": {},
   "outputs": [
    {
     "data": {
      "text/html": [
       "<div>\n",
       "<style scoped>\n",
       "    .dataframe tbody tr th:only-of-type {\n",
       "        vertical-align: middle;\n",
       "    }\n",
       "\n",
       "    .dataframe tbody tr th {\n",
       "        vertical-align: top;\n",
       "    }\n",
       "\n",
       "    .dataframe thead th {\n",
       "        text-align: right;\n",
       "    }\n",
       "</style>\n",
       "<table border=\"1\" class=\"dataframe\">\n",
       "  <thead>\n",
       "    <tr style=\"text-align: right;\">\n",
       "      <th></th>\n",
       "      <th>sex</th>\n",
       "      <th>PC1</th>\n",
       "      <th>PC2</th>\n",
       "      <th>PC3</th>\n",
       "      <th>PC4</th>\n",
       "      <th>PC5</th>\n",
       "      <th>PC6</th>\n",
       "      <th>PC7</th>\n",
       "      <th>PC8</th>\n",
       "      <th>PC9</th>\n",
       "      <th>PC10</th>\n",
       "      <th>phenotype</th>\n",
       "    </tr>\n",
       "  </thead>\n",
       "  <tbody>\n",
       "    <tr>\n",
       "      <th>0</th>\n",
       "      <td>0</td>\n",
       "      <td>-0.051678</td>\n",
       "      <td>-0.020465</td>\n",
       "      <td>0.046227</td>\n",
       "      <td>-0.014268</td>\n",
       "      <td>0.085271</td>\n",
       "      <td>-0.002017</td>\n",
       "      <td>-0.010386</td>\n",
       "      <td>0.036105</td>\n",
       "      <td>0.010695</td>\n",
       "      <td>-0.082026</td>\n",
       "      <td>4.612085</td>\n",
       "    </tr>\n",
       "    <tr>\n",
       "      <th>1</th>\n",
       "      <td>1</td>\n",
       "      <td>-0.050462</td>\n",
       "      <td>0.008577</td>\n",
       "      <td>-0.058172</td>\n",
       "      <td>-0.048560</td>\n",
       "      <td>0.014092</td>\n",
       "      <td>-0.008358</td>\n",
       "      <td>-0.045067</td>\n",
       "      <td>-0.005221</td>\n",
       "      <td>0.098964</td>\n",
       "      <td>0.019094</td>\n",
       "      <td>5.175936</td>\n",
       "    </tr>\n",
       "    <tr>\n",
       "      <th>2</th>\n",
       "      <td>1</td>\n",
       "      <td>-0.051158</td>\n",
       "      <td>0.013547</td>\n",
       "      <td>-0.041690</td>\n",
       "      <td>-0.023781</td>\n",
       "      <td>-0.057576</td>\n",
       "      <td>0.088412</td>\n",
       "      <td>0.025772</td>\n",
       "      <td>0.082086</td>\n",
       "      <td>-0.099380</td>\n",
       "      <td>0.016369</td>\n",
       "      <td>13.531050</td>\n",
       "    </tr>\n",
       "    <tr>\n",
       "      <th>3</th>\n",
       "      <td>1</td>\n",
       "      <td>-0.051310</td>\n",
       "      <td>-0.021508</td>\n",
       "      <td>0.049910</td>\n",
       "      <td>-0.038484</td>\n",
       "      <td>0.006369</td>\n",
       "      <td>0.001142</td>\n",
       "      <td>0.063346</td>\n",
       "      <td>0.045536</td>\n",
       "      <td>0.021950</td>\n",
       "      <td>-0.019257</td>\n",
       "      <td>188.524040</td>\n",
       "    </tr>\n",
       "    <tr>\n",
       "      <th>4</th>\n",
       "      <td>0</td>\n",
       "      <td>-0.051329</td>\n",
       "      <td>0.014914</td>\n",
       "      <td>-0.067042</td>\n",
       "      <td>-0.069162</td>\n",
       "      <td>-0.023286</td>\n",
       "      <td>0.006299</td>\n",
       "      <td>-0.032645</td>\n",
       "      <td>-0.019187</td>\n",
       "      <td>-0.006523</td>\n",
       "      <td>-0.033779</td>\n",
       "      <td>65.697673</td>\n",
       "    </tr>\n",
       "    <tr>\n",
       "      <th>...</th>\n",
       "      <td>...</td>\n",
       "      <td>...</td>\n",
       "      <td>...</td>\n",
       "      <td>...</td>\n",
       "      <td>...</td>\n",
       "      <td>...</td>\n",
       "      <td>...</td>\n",
       "      <td>...</td>\n",
       "      <td>...</td>\n",
       "      <td>...</td>\n",
       "      <td>...</td>\n",
       "      <td>...</td>\n",
       "    </tr>\n",
       "    <tr>\n",
       "      <th>374</th>\n",
       "      <td>0</td>\n",
       "      <td>-0.051168</td>\n",
       "      <td>-0.048192</td>\n",
       "      <td>0.025948</td>\n",
       "      <td>0.044251</td>\n",
       "      <td>-0.025641</td>\n",
       "      <td>0.000769</td>\n",
       "      <td>0.057611</td>\n",
       "      <td>0.052506</td>\n",
       "      <td>-0.065036</td>\n",
       "      <td>-0.034339</td>\n",
       "      <td>91.516444</td>\n",
       "    </tr>\n",
       "    <tr>\n",
       "      <th>375</th>\n",
       "      <td>1</td>\n",
       "      <td>-0.051801</td>\n",
       "      <td>-0.055517</td>\n",
       "      <td>-0.004016</td>\n",
       "      <td>-0.021153</td>\n",
       "      <td>-0.007273</td>\n",
       "      <td>-0.041470</td>\n",
       "      <td>-0.061246</td>\n",
       "      <td>-0.015746</td>\n",
       "      <td>0.020271</td>\n",
       "      <td>0.014094</td>\n",
       "      <td>74.187329</td>\n",
       "    </tr>\n",
       "    <tr>\n",
       "      <th>376</th>\n",
       "      <td>1</td>\n",
       "      <td>-0.052525</td>\n",
       "      <td>-0.022246</td>\n",
       "      <td>-0.056309</td>\n",
       "      <td>0.092208</td>\n",
       "      <td>-0.036200</td>\n",
       "      <td>0.070898</td>\n",
       "      <td>-0.010716</td>\n",
       "      <td>0.055041</td>\n",
       "      <td>-0.086128</td>\n",
       "      <td>-0.041673</td>\n",
       "      <td>77.536242</td>\n",
       "    </tr>\n",
       "    <tr>\n",
       "      <th>377</th>\n",
       "      <td>1</td>\n",
       "      <td>-0.051577</td>\n",
       "      <td>-0.081801</td>\n",
       "      <td>0.113044</td>\n",
       "      <td>0.024027</td>\n",
       "      <td>0.046088</td>\n",
       "      <td>-0.002275</td>\n",
       "      <td>0.008942</td>\n",
       "      <td>0.020224</td>\n",
       "      <td>0.038375</td>\n",
       "      <td>-0.036612</td>\n",
       "      <td>264.019774</td>\n",
       "    </tr>\n",
       "    <tr>\n",
       "      <th>378</th>\n",
       "      <td>1</td>\n",
       "      <td>-0.051611</td>\n",
       "      <td>-0.084751</td>\n",
       "      <td>0.088275</td>\n",
       "      <td>0.026785</td>\n",
       "      <td>0.026810</td>\n",
       "      <td>-0.091582</td>\n",
       "      <td>0.057924</td>\n",
       "      <td>-0.046984</td>\n",
       "      <td>-0.040138</td>\n",
       "      <td>-0.042171</td>\n",
       "      <td>-51.117530</td>\n",
       "    </tr>\n",
       "  </tbody>\n",
       "</table>\n",
       "<p>379 rows × 12 columns</p>\n",
       "</div>"
      ],
      "text/plain": [
       "     sex       PC1       PC2       PC3       PC4       PC5       PC6  \\\n",
       "0      0 -0.051678 -0.020465  0.046227 -0.014268  0.085271 -0.002017   \n",
       "1      1 -0.050462  0.008577 -0.058172 -0.048560  0.014092 -0.008358   \n",
       "2      1 -0.051158  0.013547 -0.041690 -0.023781 -0.057576  0.088412   \n",
       "3      1 -0.051310 -0.021508  0.049910 -0.038484  0.006369  0.001142   \n",
       "4      0 -0.051329  0.014914 -0.067042 -0.069162 -0.023286  0.006299   \n",
       "..   ...       ...       ...       ...       ...       ...       ...   \n",
       "374    0 -0.051168 -0.048192  0.025948  0.044251 -0.025641  0.000769   \n",
       "375    1 -0.051801 -0.055517 -0.004016 -0.021153 -0.007273 -0.041470   \n",
       "376    1 -0.052525 -0.022246 -0.056309  0.092208 -0.036200  0.070898   \n",
       "377    1 -0.051577 -0.081801  0.113044  0.024027  0.046088 -0.002275   \n",
       "378    1 -0.051611 -0.084751  0.088275  0.026785  0.026810 -0.091582   \n",
       "\n",
       "          PC7       PC8       PC9      PC10   phenotype  \n",
       "0   -0.010386  0.036105  0.010695 -0.082026    4.612085  \n",
       "1   -0.045067 -0.005221  0.098964  0.019094    5.175936  \n",
       "2    0.025772  0.082086 -0.099380  0.016369   13.531050  \n",
       "3    0.063346  0.045536  0.021950 -0.019257  188.524040  \n",
       "4   -0.032645 -0.019187 -0.006523 -0.033779   65.697673  \n",
       "..        ...       ...       ...       ...         ...  \n",
       "374  0.057611  0.052506 -0.065036 -0.034339   91.516444  \n",
       "375 -0.061246 -0.015746  0.020271  0.014094   74.187329  \n",
       "376 -0.010716  0.055041 -0.086128 -0.041673   77.536242  \n",
       "377  0.008942  0.020224  0.038375 -0.036612  264.019774  \n",
       "378  0.057924 -0.046984 -0.040138 -0.042171  -51.117530  \n",
       "\n",
       "[379 rows x 12 columns]"
      ]
     },
     "execution_count": 21,
     "metadata": {},
     "output_type": "execute_result"
    }
   ],
   "source": [
    "df = pd.read_csv(os.path.join(data_dir, \"master_phe.csv\"), sep=\"\\t\", index_col=0)\n",
    "covars_dense = df.iloc[:, :-1].to_numpy()\n",
    "y = df.iloc[:, -1].to_numpy()\n",
    "df"
   ]
  },
  {
   "cell_type": "markdown",
   "metadata": {},
   "source": [
    "Once the SNP matrices have been processed into `.snpdat` files,\n",
    "we may now load this information as a `adelie.matrix.snp_unphased` object per file.\n",
    "This matrix class implements certain matrix operations highly efficiently for SNP matrices\n",
    "and is recognized by our solver.\n",
    "Finally, we column-wise concatenate all these matrices as well as the dense covariates."
   ]
  },
  {
   "cell_type": "code",
   "execution_count": 22,
   "metadata": {},
   "outputs": [
    {
     "data": {
      "text/plain": [
       "(379, 66257)"
      ]
     },
     "execution_count": 22,
     "metadata": {},
     "output_type": "execute_result"
    }
   ],
   "source": [
    "X = ad.matrix.concatenate(\n",
    "    [ad.matrix.dense(covars_dense)]\n",
    "    + [\n",
    "        ad.matrix.snp_unphased(\n",
    "            ad.io.snp_unphased(\n",
    "                os.path.join(cache_dir, f\"EUR_subset_chr{chr}.snpdat\"),\n",
    "            )\n",
    "        )\n",
    "        for chr in chromosomes\n",
    "    ],\n",
    "    axis=1,\n",
    ")\n",
    "X.shape"
   ]
  },
  {
   "cell_type": "markdown",
   "metadata": {},
   "source": [
    "### __Fit Lasso__"
   ]
  },
  {
   "cell_type": "markdown",
   "metadata": {},
   "source": [
    "We fit lasso using `X` and `y` under the Gaussian loss with intercept.\n",
    "Note that we unpenalize the covariates."
   ]
  },
  {
   "cell_type": "code",
   "execution_count": 23,
   "metadata": {},
   "outputs": [],
   "source": [
    "penalty = np.concatenate([\n",
    "    np.zeros(covars_dense.shape[-1]),\n",
    "    np.ones(X.shape[-1] - covars_dense.shape[-1]),\n",
    "])"
   ]
  },
  {
   "cell_type": "code",
   "execution_count": 24,
   "metadata": {},
   "outputs": [
    {
     "name": "stderr",
     "output_type": "stream",
     "text": [
      " 44%|\u001b[1;32m█\u001b[0m\u001b[1;32m█\u001b[0m\u001b[1;32m█\u001b[0m\u001b[1;32m█\u001b[0m      | 44/100 [00:00:00<00:00:01, 55.52it/s] [dev:90.3%]\n"
     ]
    }
   ],
   "source": [
    "state = ad.grpnet(\n",
    "    X=X,\n",
    "    glm=ad.glm.gaussian(y),\n",
    "    penalty=penalty,\n",
    ")"
   ]
  },
  {
   "cell_type": "markdown",
   "metadata": {},
   "source": [
    "### __Run Diagnostics (optional)__"
   ]
  },
  {
   "cell_type": "markdown",
   "metadata": {},
   "source": [
    "The user may wish to look at some diagnostic information afterwards.\n",
    "Here is an example of plotting the training $R^2$."
   ]
  },
  {
   "cell_type": "code",
   "execution_count": 25,
   "metadata": {},
   "outputs": [
    {
     "data": {
      "image/png": "[encoded data removed]",
      "text/plain": [
       "<Figure size 900x600 with 1 Axes>"
      ]
     },
     "metadata": {},
     "output_type": "display_data"
    }
   ],
   "source": [
    "dg = ad.diagnostic.diagnostic(state)\n",
    "dg.plot_devs()\n",
    "plt.show()"
   ]
  },
  {
   "cell_type": "markdown",
   "metadata": {},
   "source": [
    "### __Cross-Validation__"
   ]
  },
  {
   "cell_type": "markdown",
   "metadata": {},
   "source": [
    "If the dataset contains few samples, the user may be interested in using cross-validation\n",
    "to determine the best model.\n",
    "\n",
    "To demonstrate this, we run a 5-fold cross-validation on our dataset."
   ]
  },
  {
   "cell_type": "code",
   "execution_count": 26,
   "metadata": {},
   "outputs": [
    {
     "name": "stderr",
     "output_type": "stream",
     "text": [
      "100%|\u001b[1;32m█\u001b[0m\u001b[1;32m█\u001b[0m\u001b[1;32m█\u001b[0m\u001b[1;32m█\u001b[0m\u001b[1;32m█\u001b[0m\u001b[1;32m█\u001b[0m\u001b[1;32m█\u001b[0m\u001b[1;32m█\u001b[0m\u001b[1;32m█\u001b[0m\u001b[1;32m█\u001b[0m| 102/102 [00:00:01<00:00:00, 61.82it/s] [dev:94.4%]\n",
      "100%|\u001b[1;32m█\u001b[0m\u001b[1;32m█\u001b[0m\u001b[1;32m█\u001b[0m\u001b[1;32m█\u001b[0m\u001b[1;32m█\u001b[0m\u001b[1;32m█\u001b[0m\u001b[1;32m█\u001b[0m\u001b[1;32m█\u001b[0m\u001b[1;32m█\u001b[0m\u001b[1;32m█\u001b[0m| 106/106 [00:00:01<00:00:00, 62.96it/s] [dev:94.4%]\n",
      "100%|\u001b[1;32m█\u001b[0m\u001b[1;32m█\u001b[0m\u001b[1;32m█\u001b[0m\u001b[1;32m█\u001b[0m\u001b[1;32m█\u001b[0m\u001b[1;32m█\u001b[0m\u001b[1;32m█\u001b[0m\u001b[1;32m█\u001b[0m\u001b[1;32m█\u001b[0m\u001b[1;32m█\u001b[0m| 102/102 [00:00:01<00:00:00, 62.49it/s] [dev:94.7%]\n",
      "100%|\u001b[1;32m█\u001b[0m\u001b[1;32m█\u001b[0m\u001b[1;32m█\u001b[0m\u001b[1;32m█\u001b[0m\u001b[1;32m█\u001b[0m\u001b[1;32m█\u001b[0m\u001b[1;32m█\u001b[0m\u001b[1;32m█\u001b[0m\u001b[1;32m█\u001b[0m\u001b[1;32m█\u001b[0m| 100/100 [00:00:01<00:00:00, 64.71it/s] [dev:94.1%]\n",
      "100%|\u001b[1;32m█\u001b[0m\u001b[1;32m█\u001b[0m\u001b[1;32m█\u001b[0m\u001b[1;32m█\u001b[0m\u001b[1;32m█\u001b[0m\u001b[1;32m█\u001b[0m\u001b[1;32m█\u001b[0m\u001b[1;32m█\u001b[0m\u001b[1;32m█\u001b[0m\u001b[1;32m█\u001b[0m| 100/100 [00:00:01<00:00:00, 55.79it/s] [dev:93.8%]\n"
     ]
    }
   ],
   "source": [
    "cv_res = ad.cv_grpnet(\n",
    "    X=X,\n",
    "    glm=ad.glm.gaussian(y),\n",
    "    seed=3,\n",
    ")"
   ]
  },
  {
   "cell_type": "markdown",
   "metadata": {},
   "source": [
    "We can visualize the average cross-validation loss in the following way."
   ]
  },
  {
   "cell_type": "code",
   "execution_count": 27,
   "metadata": {},
   "outputs": [
    {
     "data": {
      "image/png": "[encoded data removed]",
      "text/plain": [
       "<Figure size 900x600 with 1 Axes>"
      ]
     },
     "metadata": {},
     "output_type": "display_data"
    }
   ],
   "source": [
    "cv_res.plot_loss()\n",
    "plt.show()"
   ]
  },
  {
   "cell_type": "markdown",
   "metadata": {},
   "source": [
    "In this example, the best model chosen by 5-fold CV is at index `48` of the $\\lambda$ sequence."
   ]
  },
  {
   "cell_type": "code",
   "execution_count": 28,
   "metadata": {},
   "outputs": [
    {
     "data": {
      "text/plain": [
       "48"
      ]
     },
     "execution_count": 28,
     "metadata": {},
     "output_type": "execute_result"
    }
   ],
   "source": [
    "cv_res.best_idx"
   ]
  },
  {
   "cell_type": "markdown",
   "metadata": {},
   "source": [
    "To refit the model at the best model, run the following:"
   ]
  },
  {
   "cell_type": "code",
   "execution_count": 29,
   "metadata": {},
   "outputs": [
    {
     "name": "stderr",
     "output_type": "stream",
     "text": [
      "100%|\u001b[1;32m█\u001b[0m\u001b[1;32m█\u001b[0m\u001b[1;32m█\u001b[0m\u001b[1;32m█\u001b[0m\u001b[1;32m█\u001b[0m\u001b[1;32m█\u001b[0m\u001b[1;32m█\u001b[0m\u001b[1;32m█\u001b[0m\u001b[1;32m█\u001b[0m\u001b[1;32m█\u001b[0m| 100/100 [00:00:01<00:00:00, 72.60it/s] [dev:51.7%]\n"
     ]
    }
   ],
   "source": [
    "state = cv_res.fit(\n",
    "    X=X,\n",
    "    glm=ad.glm.gaussian(y),\n",
    ")"
   ]
  },
  {
   "cell_type": "markdown",
   "metadata": {},
   "source": [
    "The last fitted regularization value is the one corresponding to the best model."
   ]
  },
  {
   "cell_type": "markdown",
   "metadata": {},
   "source": [
    "### __Clean-up Files__"
   ]
  },
  {
   "cell_type": "markdown",
   "metadata": {},
   "source": [
    "Once we are done analyzing the dataset, we may remove the `.snpdat` files that we created."
   ]
  },
  {
   "cell_type": "code",
   "execution_count": 30,
   "metadata": {},
   "outputs": [],
   "source": [
    "for chr in chromosomes: \n",
    "    os.remove(os.path.join(cache_dir, f\"EUR_subset_chr{chr}.snpdat\"))"
   ]
  },
  {
   "cell_type": "markdown",
   "metadata": {},
   "source": [
    "## __SNP Phased Ancestry__"
   ]
  },
  {
   "cell_type": "markdown",
   "metadata": {},
   "source": [
    "The usual phased calldata is a `(n, 2s)` matrix of type `np.int8` since the entries are one of `{0,1}` (assuming no missing values), where `n` is the number of observations and `s` is the number of SNPs.\n",
    "The factor of `2` comes from the fact that there are always 2 haplotypes.\n",
    "The ancestry information is also a `(n, 2s)` matrix of type `np.int8` where each entry\n",
    "takes on a value in `{0,1,..., A-1}` where `A` is the number of ancestry categories.\n",
    "Each ancestry information corresponds to the individual, haplotype, and SNP as in the calldata.\n",
    "We assume that the user has access to a dense matrix of the phased calldata \n",
    "and the corresponding ancestry information prior to using `adelie`.\n",
    "\n",
    "The data matrix we ultimately want to use is the sum of the ancestry-expanded calldata for each haplotype, described next.\n",
    "Fix a haplotype, and consider the corresponding calldata and ancestry matrix.\n",
    "For each `(i,j)` entry of the calldata, suppose it is exanded into a length `A` vector\n",
    "where a mutation is recorded in entry `k` if the ancestry at `(i,j)` is `k` (and zero otherwise).\n",
    "The concatenation of all these expanded vectors results in `(n, As)` matrix.\n",
    "Then, we wish to run group lasso by grouping every `A` columns as a group (i.e. SNP).\n",
    "\n",
    "To fully mimic the real application, we assume that the calldata is split into chromosomes\n",
    "so that we load column-blocks of the calldata, one chromosome at a time.\n",
    "We will generate `n` observations and `ss[i]` SNPs per chromosome for each chromosome `i`."
   ]
  },
  {
   "cell_type": "code",
   "execution_count": 31,
   "metadata": {},
   "outputs": [],
   "source": [
    "n = 1000                        # number of observations\n",
    "ss = [1000, 2000, 3000]         # number of SNPs per chromosome (3 chromosomes)\n",
    "A = 8                           # number of ancestries\n",
    "n_threads = 1                   # number of threads"
   ]
  },
  {
   "cell_type": "markdown",
   "metadata": {},
   "source": [
    "Similar to the unphased calldata example,\n",
    "we generate our data for each chromosome using a helper function \n",
    "and store a sparse representation in `/tmp/spa_chr_i.snpdat` for each chromosome `i`."
   ]
  },
  {
   "cell_type": "code",
   "execution_count": 32,
   "metadata": {},
   "outputs": [],
   "source": [
    "filenames = [\n",
    "    f\"/tmp/spa_chr_{i}.snpdat\"\n",
    "    for i in range(len(ss))\n",
    "]\n",
    "for i, s in enumerate(ss):\n",
    "    data = ad.data.snp_phased_ancestry(n, s, A)\n",
    "    handler = ad.io.snp_phased_ancestry(filenames[i])\n",
    "    handler.write(data[\"X\"], data[\"ancestries\"], A, n_threads)"
   ]
  },
  {
   "cell_type": "markdown",
   "metadata": {},
   "source": [
    "We then instantiate our special matrix object for phased ancestry SNP data."
   ]
  },
  {
   "cell_type": "code",
   "execution_count": 33,
   "metadata": {},
   "outputs": [],
   "source": [
    "X = ad.matrix.concatenate(\n",
    "    [\n",
    "        ad.matrix.snp_phased_ancestry(\n",
    "            ad.io.snp_phased_ancestry(filename), \n",
    "            n_threads=n_threads,\n",
    "        )\n",
    "        for filename in filenames\n",
    "    ],\n",
    "    axis=1,\n",
    "    n_threads=n_threads,\n",
    ")"
   ]
  },
  {
   "cell_type": "markdown",
   "metadata": {},
   "source": [
    "For demonstration purposes, we generate our response vector `y` from a linear model\n",
    "with only the last three SNPs active in the model."
   ]
  },
  {
   "cell_type": "code",
   "execution_count": 34,
   "metadata": {},
   "outputs": [],
   "source": [
    "s = int(np.sum(ss))\n",
    "p = A * s\n",
    "\n",
    "np.random.seed(314)\n",
    "beta = np.random.normal(0, 1, 3*A)\n",
    "Xb = np.zeros(n)\n",
    "X.btmul(p-3*A, 3*A, beta, Xb)\n",
    "y = Xb + np.random.normal(0, 1, n)"
   ]
  },
  {
   "cell_type": "markdown",
   "metadata": {},
   "source": [
    "Finally, we use `adelie` to fit group lasso!"
   ]
  },
  {
   "cell_type": "code",
   "execution_count": 35,
   "metadata": {},
   "outputs": [
    {
     "name": "stderr",
     "output_type": "stream",
     "text": [
      " 62%|\u001b[1;32m█\u001b[0m\u001b[1;32m█\u001b[0m\u001b[1;32m█\u001b[0m\u001b[1;32m█\u001b[0m\u001b[1;32m█\u001b[0m\u001b[1;32m█\u001b[0m    | 62/100 [00:00:00<00:00:00, 136.40it/s] [dev:90.5%]\n"
     ]
    }
   ],
   "source": [
    "state = ad.grpnet(\n",
    "    X=X,\n",
    "    glm=ad.glm.gaussian(y=y),\n",
    "    groups=A * np.arange(s),\n",
    "    n_threads=n_threads,\n",
    ")"
   ]
  },
  {
   "cell_type": "markdown",
   "metadata": {},
   "source": [
    "Now, we can use our diagnostic object to inspect our solutions.\n",
    "For example, we can plot the coefficients."
   ]
  },
  {
   "cell_type": "code",
   "execution_count": 36,
   "metadata": {},
   "outputs": [
    {
     "data": {
      "image/png": "[encoded data removed]",
      "text/plain": [
       "<Figure size 900x600 with 1 Axes>"
      ]
     },
     "metadata": {},
     "output_type": "display_data"
    }
   ],
   "source": [
    "dg = ad.diagnostic.diagnostic(state)\n",
    "dg.plot_coefficients()\n",
    "plt.show()"
   ]
  },
  {
   "cell_type": "code",
   "execution_count": 37,
   "metadata": {},
   "outputs": [],
   "source": [
    "# clean-up generated files!\n",
    "for filename in filenames: os.remove(filename)"
   ]
  }
 ],
 "metadata": {
  "kernelspec": {
   "display_name": "adelie",
   "language": "python",
   "name": "python3"
  },
  "language_info": {
   "codemirror_mode": {
    "name": "ipython",
    "version": 3
   },
   "file_extension": ".py",
   "mimetype": "text/x-python",
   "name": "python",
   "nbconvert_exporter": "python",
   "pygments_lexer": "ipython3",
   "version": "3.10.6"
  }
 },
 "nbformat": 4,
 "nbformat_minor": 2
}
